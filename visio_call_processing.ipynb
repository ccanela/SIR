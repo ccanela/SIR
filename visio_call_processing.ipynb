{
 "cells": [
  {
   "cell_type": "markdown",
   "metadata": {},
   "source": [
    "# Function Lib"
   ]
  },
  {
   "cell_type": "code",
   "execution_count": null,
   "metadata": {},
   "outputs": [
    {
     "ename": "FileNotFoundError",
     "evalue": "[Errno 2] No such file or directory: './data/Experiment_Data/SIR_Experiment/video conference'",
     "output_type": "error",
     "traceback": [
      "\u001b[31m---------------------------------------------------------------------------\u001b[39m",
      "\u001b[31mFileNotFoundError\u001b[39m                         Traceback (most recent call last)",
      "\u001b[36mCell\u001b[39m\u001b[36m \u001b[39m\u001b[32mIn[1]\u001b[39m\u001b[32m, line 24\u001b[39m\n\u001b[32m     21\u001b[39m visio_dir = os.path.join(base_dir,\u001b[33m'\u001b[39m\u001b[33mvideo conference\u001b[39m\u001b[33m'\u001b[39m)\n\u001b[32m     23\u001b[39m \u001b[38;5;66;03m# Automatically collect all CSV files from both folders\u001b[39;00m\n\u001b[32m---> \u001b[39m\u001b[32m24\u001b[39m visio_files = [os.path.join(visio_dir, f) \u001b[38;5;28;01mfor\u001b[39;00m f \u001b[38;5;129;01min\u001b[39;00m \u001b[43mos\u001b[49m\u001b[43m.\u001b[49m\u001b[43mlistdir\u001b[49m\u001b[43m(\u001b[49m\u001b[43mvisio_dir\u001b[49m\u001b[43m)\u001b[49m \u001b[38;5;28;01mif\u001b[39;00m f.endswith(\u001b[33m'\u001b[39m\u001b[33m.csv\u001b[39m\u001b[33m'\u001b[39m)]\n\u001b[32m     26\u001b[39m \u001b[38;5;66;03m# Combine lists\u001b[39;00m\n\u001b[32m     27\u001b[39m file_list = visio_files\n",
      "\u001b[31mFileNotFoundError\u001b[39m: [Errno 2] No such file or directory: './data/Experiment_Data/SIR_Experiment/video conference'"
     ]
    }
   ],
   "source": [
    "from tqdm.notebook import tqdm  # For progress bars\n",
    "from utils import dataset_analyze_rasp_ff, open_file_nf1, seconds_to_duration\n",
    "import os\n",
    "import plotly.express as px\n",
    "import plotly.graph_objects as go\n",
    "import time\n",
    "from pathlib import Path\n",
    "import pandas as pd\n",
    "import numpy as np\n",
    "import os\n",
    "\n",
    "if 'result_df' not in globals():\n",
    "    result_df = pd.DataFrame()\n",
    "\n",
    "result_filenames = set(result_df['File name']) if not result_df.empty else set()\n",
    "\n",
    "unique_filenames = set()\n",
    "\n",
    "# Define paths\n",
    "base_dir = './data/Experiment_Data/SIR_Experiment'\n",
    "visio_dir = os.path.join(base_dir,'video conference ')\n",
    "\n",
    "# Automatically collect all CSV files from both folders\n",
    "visio_files = [os.path.join(visio_dir, f) for f in os.listdir(visio_dir) if f.endswith('.csv')]\n",
    "\n",
    "# Combine lists\n",
    "file_list = visio_files\n",
    "\n",
    "# Manually defined blacklist of bad measurement files\n",
    "blacklist_filenames = {\n",
    "    \"1_5_4G_teams_stat.csv\",\n",
    "    \"1_5_4G_zoom_stat.csv\",\n",
    "    \"1_5_4G_zoom_stat.csv\",\n",
    "    \"1_5_5G_teams_stat.csv\",\n",
    "    \"1_5_5G_zoom_stat.csv\",\n",
    "    # Add more bad files here\n",
    "}\n",
    "\n",
    "# Process files\n",
    "files_passed = 0\n",
    "skipped = 0\n",
    "duplicates_count = 0\n",
    "problematic_files = []\n",
    "\n",
    "print(len(file_list), \"files total\")  # Print total files\n",
    "result_df = pd.DataFrame()\n",
    "for file_path in file_list:\n",
    "    file_name = os.path.basename(file_path)\n",
    "\n",
    "    # Skip if already processed\n",
    "    if file_name in result_filenames:\n",
    "        print(f\"{file_name} skipped because already processed\")\n",
    "        skipped += 1\n",
    "        continue\n",
    "    if file_name in blacklist_filenames:\n",
    "        print(f\"{file_name} skipped because it is blacklisted\")\n",
    "        skipped += 1\n",
    "        continue\n",
    "    try:\n",
    "        files_passed += 1\n",
    "        print(f\"{file_name} passed. Count: {files_passed}\")\n",
    "        result_df=dataset_analyze_rasp_ff(file_path, result_df)\n",
    "    except Exception as e:\n",
    "        print(f\"❌ Error with {file_name}: {e}\")\n",
    "        problematic_files.append(file_name)\n",
    "\n",
    "print(f\"\\n✅ Done. {files_passed} files processed, {skipped} skipped (already in result_df).\")\n",
    "if problematic_files:\n",
    "    print(\"⚠️ Problematic files:\", problematic_files)\n"
   ]
  },
  {
   "cell_type": "code",
   "execution_count": null,
   "metadata": {},
   "outputs": [],
   "source": [
    "import pandas as pd\n",
    "\n",
    "# Load your result_df if not done already\n",
    "# result_df = pd.read_csv(\"result_df.csv\")\n",
    "\n",
    "# Add scenario_id column\n",
    "# Create scenario_id from the relevant columns\n",
    "result_df['scenario_id'] = (\n",
    "    result_df['Device'].astype(str).str.strip() + \"_\" +\n",
    "    result_df['RAN Technology'].astype(str).str.strip() + \"_\" +\n",
    "    result_df['Platform'].astype(str).str.strip() + \"_\" +\n",
    "    result_df['Condition'].astype(str).str.strip()\n",
    ")\n",
    "# Compute average energy values per scenario\n",
    "# Clean energy columns just in case\n",
    "energy_cols = ['E_RF Jm', 'E_BAT Jm', 'E_BB Jm', 'E_PA Jm']\n",
    "result_df[energy_cols] = result_df[energy_cols].apply(pd.to_numeric, errors='coerce')\n",
    "\n",
    "# Group by scenario_id\n",
    "scenario_summary_df = result_df.groupby('scenario_id')[energy_cols].mean().reset_index()\n",
    "\n",
    "# Optional: rename for clarity\n",
    "scenario_summary_df.columns = ['scenario_id', 'E_RF_Jm', 'E_BAT_Jm', 'E_BB_Jm', 'E_PA_Jm']\n",
    "\n",
    "# Save to CSV for frontend usage\n",
    "scenario_summary_df.to_csv(\"./website/server/visio_scenario_summary_df.csv\", index=False)\n",
    "\n",
    "\n",
    "# Show preview in notebook\n",
    "scenario_summary_df.head(10)\n"
   ]
  }
 ],
 "metadata": {
  "kernelspec": {
   "display_name": "Python 3",
   "language": "python",
   "name": "python3"
  },
  "language_info": {
   "codemirror_mode": {
    "name": "ipython",
    "version": 3
   },
   "file_extension": ".py",
   "mimetype": "text/x-python",
   "name": "python",
   "nbconvert_exporter": "python",
   "pygments_lexer": "ipython3",
   "version": "3.12.2"
  }
 },
 "nbformat": 4,
 "nbformat_minor": 2
}
