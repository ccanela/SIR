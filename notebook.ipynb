{
 "cells": [
  {
   "cell_type": "code",
   "execution_count": 30,
   "id": "d597b171",
   "metadata": {},
   "outputs": [],
   "source": [
    "import os\n",
    "import glob\n",
    "import pandas as pd\n",
    "import nbformat\n",
    "from datetime import datetime\n",
    "import plotly.graph_objects as go\n",
    "from plotly.subplots import make_subplots\n",
    "import plotly.io as pio\n",
    "pio.renderers.default = 'iframe_connected'"
   ]
  },
  {
   "cell_type": "code",
   "execution_count": 31,
   "id": "0df4b582",
   "metadata": {},
   "outputs": [
    {
     "name": "stdout",
     "output_type": "stream",
     "text": [
      "   Index   Reading     Unit  Range Digits  Disp Digits Math     Seconds  \\\n",
      "0      1  0.303481  Volt DC             1          6.5    F  496.716127   \n",
      "1      2  0.303549  Volt DC             1          6.5    F  496.716128   \n",
      "2      3  0.303549  Volt DC             1          6.5    F  496.716129   \n",
      "3      4  0.303578  Volt DC             1          6.5    F  496.716130   \n",
      "4      5  0.303578  Volt DC             1          6.5    F  496.716131   \n",
      "\n",
      "   Timestamp  \n",
      "0   0.000000  \n",
      "1   0.000001  \n",
      "2   0.000002  \n",
      "3   0.000003  \n",
      "4   0.000004  \n"
     ]
    },
    {
     "ename": "ValueError",
     "evalue": "Mime type rendering requires nbformat>=4.2.0 but it is not installed",
     "output_type": "error",
     "traceback": [
      "\u001b[31m---------------------------------------------------------------------------\u001b[39m",
      "\u001b[31mValueError\u001b[39m                                Traceback (most recent call last)",
      "\u001b[36mCell\u001b[39m\u001b[36m \u001b[39m\u001b[32mIn[31]\u001b[39m\u001b[32m, line 40\u001b[39m\n\u001b[32m     33\u001b[39m fig.add_trace(go.Scatter(x=df_raw[\u001b[33m'\u001b[39m\u001b[33mTimestamp\u001b[39m\u001b[33m'\u001b[39m], y=df_raw[\u001b[33m'\u001b[39m\u001b[33mReading\u001b[39m\u001b[33m'\u001b[39m], mode=\u001b[33m'\u001b[39m\u001b[33mlines+markers\u001b[39m\u001b[33m'\u001b[39m, name=\u001b[33m'\u001b[39m\u001b[33mVoltage (V)\u001b[39m\u001b[33m'\u001b[39m))\n\u001b[32m     34\u001b[39m fig.update_layout(\n\u001b[32m     35\u001b[39m     title=\u001b[33m\"\u001b[39m\u001b[33mPower Reading Over Time\u001b[39m\u001b[33m\"\u001b[39m,\n\u001b[32m     36\u001b[39m     xaxis_title=\u001b[33m\"\u001b[39m\u001b[33mSeconds Since Start\u001b[39m\u001b[33m\"\u001b[39m,\n\u001b[32m     37\u001b[39m     yaxis_title=\u001b[33m\"\u001b[39m\u001b[33mVoltage (V)\u001b[39m\u001b[33m\"\u001b[39m,\n\u001b[32m     38\u001b[39m     template=\u001b[33m\"\u001b[39m\u001b[33mplotly_white\u001b[39m\u001b[33m\"\u001b[39m\n\u001b[32m     39\u001b[39m )\n\u001b[32m---> \u001b[39m\u001b[32m40\u001b[39m \u001b[43mfig\u001b[49m\u001b[43m.\u001b[49m\u001b[43mshow\u001b[49m\u001b[43m(\u001b[49m\u001b[43m)\u001b[49m\n",
      "\u001b[36mFile \u001b[39m\u001b[32m~\\AppData\\Local\\Packages\\PythonSoftwareFoundation.Python.3.11_qbz5n2kfra8p0\\LocalCache\\local-packages\\Python311\\site-packages\\plotly\\basedatatypes.py:3436\u001b[39m, in \u001b[36mBaseFigure.show\u001b[39m\u001b[34m(self, *args, **kwargs)\u001b[39m\n\u001b[32m   3403\u001b[39m \u001b[38;5;250m\u001b[39m\u001b[33;03m\"\"\"\u001b[39;00m\n\u001b[32m   3404\u001b[39m \u001b[33;03mShow a figure using either the default renderer(s) or the renderer(s)\u001b[39;00m\n\u001b[32m   3405\u001b[39m \u001b[33;03mspecified by the renderer argument\u001b[39;00m\n\u001b[32m   (...)\u001b[39m\u001b[32m   3432\u001b[39m \u001b[33;03mNone\u001b[39;00m\n\u001b[32m   3433\u001b[39m \u001b[33;03m\"\"\"\u001b[39;00m\n\u001b[32m   3434\u001b[39m \u001b[38;5;28;01mimport\u001b[39;00m\u001b[38;5;250m \u001b[39m\u001b[34;01mplotly\u001b[39;00m\u001b[34;01m.\u001b[39;00m\u001b[34;01mio\u001b[39;00m\u001b[38;5;250m \u001b[39m\u001b[38;5;28;01mas\u001b[39;00m\u001b[38;5;250m \u001b[39m\u001b[34;01mpio\u001b[39;00m\n\u001b[32m-> \u001b[39m\u001b[32m3436\u001b[39m \u001b[38;5;28;01mreturn\u001b[39;00m \u001b[43mpio\u001b[49m\u001b[43m.\u001b[49m\u001b[43mshow\u001b[49m\u001b[43m(\u001b[49m\u001b[38;5;28;43mself\u001b[39;49m\u001b[43m,\u001b[49m\u001b[43m \u001b[49m\u001b[43m*\u001b[49m\u001b[43margs\u001b[49m\u001b[43m,\u001b[49m\u001b[43m \u001b[49m\u001b[43m*\u001b[49m\u001b[43m*\u001b[49m\u001b[43mkwargs\u001b[49m\u001b[43m)\u001b[49m\n",
      "\u001b[36mFile \u001b[39m\u001b[32m~\\AppData\\Local\\Packages\\PythonSoftwareFoundation.Python.3.11_qbz5n2kfra8p0\\LocalCache\\local-packages\\Python311\\site-packages\\plotly\\io\\_renderers.py:425\u001b[39m, in \u001b[36mshow\u001b[39m\u001b[34m(fig, renderer, validate, **kwargs)\u001b[39m\n\u001b[32m    420\u001b[39m     \u001b[38;5;28;01mraise\u001b[39;00m \u001b[38;5;167;01mValueError\u001b[39;00m(\n\u001b[32m    421\u001b[39m         \u001b[33m\"\u001b[39m\u001b[33mMime type rendering requires ipython but it is not installed\u001b[39m\u001b[33m\"\u001b[39m\n\u001b[32m    422\u001b[39m     )\n\u001b[32m    424\u001b[39m \u001b[38;5;28;01mif\u001b[39;00m \u001b[38;5;129;01mnot\u001b[39;00m nbformat \u001b[38;5;129;01mor\u001b[39;00m Version(nbformat.__version__) < Version(\u001b[33m\"\u001b[39m\u001b[33m4.2.0\u001b[39m\u001b[33m\"\u001b[39m):\n\u001b[32m--> \u001b[39m\u001b[32m425\u001b[39m     \u001b[38;5;28;01mraise\u001b[39;00m \u001b[38;5;167;01mValueError\u001b[39;00m(\n\u001b[32m    426\u001b[39m         \u001b[33m\"\u001b[39m\u001b[33mMime type rendering requires nbformat>=4.2.0 but it is not installed\u001b[39m\u001b[33m\"\u001b[39m\n\u001b[32m    427\u001b[39m     )\n\u001b[32m    429\u001b[39m display_jupyter_version_warnings()\n\u001b[32m    431\u001b[39m ipython_display.display(bundle, raw=\u001b[38;5;28;01mTrue\u001b[39;00m)\n",
      "\u001b[31mValueError\u001b[39m: Mime type rendering requires nbformat>=4.2.0 but it is not installed"
     ]
    }
   ],
   "source": [
    "# Path to your CSV file\n",
    "FILEPATH = \"./data/Experiment_Data/BS_Nokia_1stDay_ES2/Nokia_1stDay.csv\"  \n",
    "\n",
    "# Read the CSV, skipping the metadata rows\n",
    "df_raw = pd.read_csv(FILEPATH, skiprows=7)\n",
    "\n",
    "# Extract and combine time info from metadata\n",
    "with open(FILEPATH) as f:\n",
    "    lines = f.readlines()\n",
    "    base_sec = int(lines[4].split(',')[1])\n",
    "    base_frac = int(lines[5].split(',')[1])\n",
    "    base_time = base_sec + base_frac * 1e-9  # convert fractional seconds\n",
    "\n",
    "# Parse the relevant columns\n",
    "\n",
    "df_raw.columns = [col.strip() for col in df_raw.columns]\n",
    "\n",
    "# Convert numeric columns\n",
    "df_raw['Reading'] = pd.to_numeric(df_raw['Reading'], errors='coerce')\n",
    "df_raw['Seconds'] = pd.to_numeric(df_raw['Seconds'], errors='coerce')\n",
    "\n",
    "# Compute timestamps\n",
    "df_raw['Timestamp'] = df_raw['Seconds'] - df_raw['Seconds'].min()\n",
    "\n",
    "\n",
    "# Drop NaNs\n",
    "df = df_raw.dropna(subset=['Reading', 'Timestamp'])\n",
    "print(df.head())\n",
    "\n",
    "\n",
    "# Plot with Plotly\n",
    "fig = go.Figure()\n",
    "fig.add_trace(go.Scatter(x=df_raw['Timestamp'], y=df_raw['Reading'], mode='lines+markers', name='Voltage (V)'))\n",
    "fig.update_layout(\n",
    "    title=\"Power Reading Over Time\",\n",
    "    xaxis_title=\"Seconds Since Start\",\n",
    "    yaxis_title=\"Voltage (V)\",\n",
    "    template=\"plotly_white\"\n",
    ")\n",
    "fig.show()\n"
   ]
  },
  {
   "cell_type": "code",
   "execution_count": null,
   "id": "82f732bf",
   "metadata": {},
   "outputs": [],
   "source": []
  }
 ],
 "metadata": {
  "kernelspec": {
   "display_name": "Python 3",
   "language": "python",
   "name": "python3"
  },
  "language_info": {
   "codemirror_mode": {
    "name": "ipython",
    "version": 3
   },
   "file_extension": ".py",
   "mimetype": "text/x-python",
   "name": "python",
   "nbconvert_exporter": "python",
   "pygments_lexer": "ipython3",
   "version": "3.11.9"
  }
 },
 "nbformat": 4,
 "nbformat_minor": 5
}
