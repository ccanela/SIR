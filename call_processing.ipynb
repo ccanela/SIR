{
 "cells": [
  {
   "cell_type": "markdown",
   "metadata": {},
   "source": [
    "# Functions Library"
   ]
  },
  {
   "cell_type": "code",
   "execution_count": 1,
   "metadata": {},
   "outputs": [],
   "source": [
    "%reset -f \n",
    "import plotly.graph_objects as go\n",
    "import plotly.express as px\n",
    "import os\n",
    "from itertools import cycle\n",
    "from plotly.validators.scatter.marker import SymbolValidator\n",
    "import pandas as pd\n",
    "import numpy as np\n",
    "import matplotlib.pyplot as plt\n",
    "import plotly.io as pio\n",
    "import re\n",
    "result_df = pd.DataFrame()\n",
    "result_df_ip = pd.DataFrame()\n",
    "plot_df_caller = pd.DataFrame()\n",
    "\n",
    "global rep\n",
    "global df\n",
    "\n",
    "def open_file_nf1(file_name):\n",
    "    global p1, p2\n",
    "    file_name_only = os.path.basename(file_name)\n",
    "    \n",
    "    # Use a regular expression to find the P1_X or P1_6Pro or P1_12 pattern\n",
    "    match = re.search(r'P1_(?:X|6Pro|12)', file_name_only)\n",
    "    if match:\n",
    "        rep = match.group(0)  # This will give you \"P1_6Pro\" or \"P1_X\" or \"P1_12\"\n",
    "    else:\n",
    "        rep = None\n",
    "        print(f\"Warning: Could not extract device type from '{file_name_only}'\")\n",
    "\n",
    "    df = pd.read_csv(file_name)\n",
    "    \n",
    "    # Split the 'Data' column into separate columns\n",
    "    df[['P_BAT_P1', 'P_RF_P1', 'P_BAT_P2', 'P_RF_P2', 'useful_data', 'useful_state','count_1','count_2']] = df['P_BAT_P1'].str.split(',', expand=True)\n",
    "    \n",
    "    # Convert the data in the new columns to numeric type\n",
    "    df['P_BAT_P1'] = pd.to_numeric(df['P_BAT_P1'])\n",
    "    df['P_RF_P1'] = pd.to_numeric(df['P_RF_P1'])\n",
    "    df['P_BAT_P2'] = pd.to_numeric(df['P_BAT_P2'])\n",
    "    df['P_RF_P2'] = pd.to_numeric(df['P_RF_P2'])\n",
    "    df['useful_data'] = pd.to_numeric(df['useful_data'])\n",
    "    df['useful_state'] = pd.to_numeric(df['useful_state'])\n",
    "    df['count_1'] = pd.to_numeric(df['count_1'])\n",
    "    df['count_2'] = pd.to_numeric(df['count_2'])\n",
    "\n",
    "    # Convert 'm_sec_ms' to datetime format\n",
    "    df['m_sec_ms'] = pd.to_datetime(df['m_sec_ms'], format='%M:%S.%f').dt.time  # Convert to time object\n",
    "    df['m_sec_ms'] = pd.to_timedelta(df['m_sec_ms'].astype(str))  # Convert to timedelta\n",
    "\n",
    "    # Initialize variables for handling time resets\n",
    "    time_offset = pd.Timedelta(0)  # Cumulative offset for resets\n",
    "    previous_time = df[\"m_sec_ms\"].iloc[0]  # Initialize with the first timestamp\n",
    "    absolute_times = []  # Store absolute times\n",
    "\n",
    "    # Calculate absolute time (handling resets)\n",
    "    for current_time in df[\"m_sec_ms\"]:\n",
    "        if current_time < previous_time:  # Detect reset\n",
    "            time_offset += pd.Timedelta(hours=1)  # Add 1 hour (or appropriate offset)\n",
    "        absolute_times.append(current_time + time_offset)\n",
    "        previous_time = current_time\n",
    "\n",
    "    # Add absolute time to DataFrame\n",
    "    df[\"m_sec_ms\"] = absolute_times\n",
    "    \n",
    "    # Extract minute, second, and millisecond components\n",
    "    df['minute'] = df['m_sec_ms'].dt.components.minutes\n",
    "    df['second'] = df['m_sec_ms'].dt.components.seconds\n",
    "    df['millisecond'] = df['m_sec_ms'].dt.components.milliseconds\n",
    "    df['total_milliseconds'] = (df['minute'] * 60 * 1000) + (df['second'] * 1000) + df['millisecond']\n",
    "\n",
    "    # Calculate time differences in seconds\n",
    "    df[\"dt\"] = df[\"m_sec_ms\"].diff().dt.total_seconds().fillna(0)\n",
    "    \n",
    "    # Calculate time in seconds from start\n",
    "    df['time_sec_abs'] = (df['m_sec_ms'] - df['m_sec_ms'].min()).dt.total_seconds()\n",
    "    df['minutes'], df['seconds'] = divmod(df['time_sec_abs'], 60)\n",
    "    df['seconds'], df['milliseconds'] = divmod(df['seconds'], 1)\n",
    "    df['milliseconds'] *= 1000  # Convert to milliseconds\n",
    "    df['time_formated_abs'] = df['minutes'].astype(str).str.zfill(2) + ':' + \\\n",
    "                 df['seconds'].astype(int).astype(str).str.zfill(2) + '.' + \\\n",
    "                 df['milliseconds'].astype(int).astype(str).str.zfill(3)\n",
    "    \n",
    "    # Calculate log duration\n",
    "    log_duration = (df[\"m_sec_ms\"].max() - df[\"m_sec_ms\"].min()).total_seconds()\n",
    "    \n",
    "    # Calculate samples per second\n",
    "    count_1_avg = df['count_1'].mean()\n",
    "    count_2_avg = df['count_2'].mean()\n",
    "    sps_1 = 1024 / count_1_avg\n",
    "    sps_2 = 1024 / count_2_avg\n",
    "\n",
    "    # Extract device types from filename\n",
    "    parts = file_name_only.split('_')\n",
    "    p1 = parts[3] if len(parts) > 3 else None  # Add a safety check\n",
    "    p2 = parts[8] if len(parts) > 8 else None  # Add a safety check\n",
    "    \n",
    "    # Determine power column mappings based on device types\n",
    "    if p1 == 'X' and p2 == '6Pro':\n",
    "        power_columns = {\"P_BAT_P1\": \"E_BAT_Caller\", \"P_RF_P1\": \"E_RF_Caller\", \"P_BAT_P2\": \"E_BAT_Callee\", \"P_RF_P2\": \"E_RF_Callee\"}\n",
    "    elif p1 == '12' and p2 == '6Pro':\n",
    "        power_columns = {\"P_BAT_P1\": \"E_BAT_Callee\", \"P_RF_P1\": \"E_RF_Callee\", \"P_BAT_P2\": \"E_BAT_Caller\", \"P_RF_P2\": \"E_RF_Caller\"}\n",
    "    elif p1 == '6Pro' and p2 == '12':\n",
    "        power_columns = {\"P_BAT_P1\": \"E_BAT_Caller\", \"P_RF_P1\": \"E_RF_Caller\", \"P_BAT_P2\": \"E_BAT_Callee\", \"P_RF_P2\": \"E_RF_Callee\"}\n",
    "    elif p1 == '6Pro' and p2 == 'X':\n",
    "        power_columns = {\"P_BAT_P1\": \"E_BAT_Callee\", \"P_RF_P1\": \"E_RF_Callee\", \"P_BAT_P2\": \"E_BAT_Caller\", \"P_RF_P2\": \"E_RF_Caller\"}\n",
    "    elif p1 == 'X' and p2 == '12':\n",
    "        power_columns = {\"P_BAT_P1\": \"E_BAT_Caller\", \"P_RF_P1\": \"E_RF_Caller\", \"P_BAT_P2\": \"E_BAT_Callee\", \"P_RF_P2\": \"E_RF_Callee\"}\n",
    "    elif p1 == '12' and p2 == 'X':\n",
    "        power_columns = {\"P_BAT_P1\": \"E_BAT_Callee\", \"P_RF_P1\": \"E_RF_Callee\", \"P_BAT_P2\": \"E_BAT_Caller\", \"P_RF_P2\": \"E_RF_Caller\"}\n",
    "    else:\n",
    "        # Default case\n",
    "        print(f\"Warning: Unknown device combination '{p1}' and '{p2}'. Using default mapping.\")\n",
    "        power_columns = {\"P_BAT_P1\": \"E_BAT_Caller\", \"P_RF_P1\": \"E_RF_Caller\", \"P_BAT_P2\": \"E_BAT_Callee\", \"P_RF_P2\": \"E_RF_Callee\"}\n",
    "    \n",
    "    # Apply continuous energy integration using trapezoidal rule\n",
    "    for power_col, energy_col in power_columns.items():\n",
    "        df[energy_col] = np.zeros(len(df))  # Initialize column with zeros\n",
    "\n",
    "        for i in range(1, len(df)):\n",
    "            # Compute instantaneous energy using the trapezoidal rule\n",
    "            df.at[i, energy_col] = np.trapz(\n",
    "                [df.at[i-1, power_col], df.at[i, power_col]], \n",
    "                x=[df.at[i-1, \"m_sec_ms\"].total_seconds(), df.at[i, \"m_sec_ms\"].total_seconds()]\n",
    "            )\n",
    "    \n",
    "    # Create a group column by detecting the 0 -> 1 flip\n",
    "    df['group'] = (df['useful_data'].diff() == 1).cumsum()\n",
    "    \n",
    "    # Set group to NaN where useful_data is 0\n",
    "    df.loc[df['useful_data'] == 0, 'group'] = None\n",
    "    \n",
    "    # Map odd groups to \"call_est\" and even groups to \"call\"\n",
    "    df['group'] = df['group'].map(lambda x: 'call_est' if x % 2 == 1 else 'call' if pd.notna(x) else None)\n",
    "    \n",
    "    # Compute the duration of each group in seconds and store in variables\n",
    "    call_est_duration = df[df['group'] == 'call_est']['dt'].sum()\n",
    "    call_duration = df[df['group'] == 'call']['dt'].sum()\n",
    "    total_usefull_data_duration = call_duration + call_est_duration\n",
    "\n",
    "    return df, sps_1, sps_2, total_usefull_data_duration, call_est_duration, call_duration\n",
    "\n",
    "# def open_file_nf1(file_name):\n",
    "#     global p1, p2\n",
    "#     file_name_only = os.path.basename(file_name)\n",
    "    \n",
    "#     # Use a regular expression to find the P1_X or P1_6Pro or P1_12 pattern\n",
    "#     match = re.search(r'P1_(?:X|6Pro|12)', file_name_only)\n",
    "#     if match:\n",
    "#         rep = match.group(0)  # This will give you \"P1_6Pro\" or \"P1_X\" or \"P1_12\"\n",
    "#     else:\n",
    "#         rep = None\n",
    "#         print(f\"Warning: Could not extract device type from '{file_name_only}'\")\n",
    "\n",
    "#     df = pd.read_csv(file_name)\n",
    "\n",
    "    \n",
    "#     # Split the 'Data' column into separate columns\n",
    "#     df[['P_BAT_P1', 'P_RF_P1', 'P_BAT_P2', 'P_RF_P2', 'useful_data', 'useful_state','count_1','count_2']] = df['P_BAT_P1'].str.split(',', expand=True)\n",
    "    \n",
    "#     # Convert the data in the new columns to numeric type\n",
    "#     df['P_BAT_P1'] = pd.to_numeric(df['P_BAT_P1'])\n",
    "#     df['P_RF_P1'] = pd.to_numeric(df['P_RF_P1'])\n",
    "#     df['P_BAT_P2'] = pd.to_numeric(df['P_BAT_P2'])\n",
    "#     df['P_RF_P2'] = pd.to_numeric(df['P_RF_P2'])\n",
    "#     df['useful_data'] = pd.to_numeric(df['useful_data'])\n",
    "#     df['useful_state'] = pd.to_numeric(df['useful_state'])\n",
    "#     df['count_1'] = pd.to_numeric(df['count_1'])\n",
    "#     df['count_2'] = pd.to_numeric(df['count_2'])\n",
    "#     # df['P_BAT_Caller'] = pd.to_numeric(df['P_BAT_P1'])\n",
    "#     # df['P_RF_Caller'] = pd.to_numeric(df['P_RF_P1'])\n",
    "#     # df['P_BAT_Callee'] = pd.to_numeric(df['P_BAT_P2'])\n",
    "#     # df['P_RF_Callee'] = pd.to_numeric(df['P_RF_P2'])\n",
    "\n",
    "\n",
    "#     # Convert 'm_sec_ms' to datetime\n",
    "#     df['m_sec_ms'] = pd.to_datetime(df['m_sec_ms'], format='%M:%S.%f')\n",
    "    \n",
    "#     # Extract minute, second, and millisecond components\n",
    "#     df['minute'] = df['m_sec_ms'].dt.minute\n",
    "#     df['second'] = df['m_sec_ms'].dt.second\n",
    "#     df['millisecond'] = df['m_sec_ms'].dt.microsecond // 1000  # Convert microseconds to milliseconds\n",
    "#     df['total_milliseconds'] = (df['minute'] * 60 * 1000) + (df['second'] * 1000) + df['millisecond']\n",
    "    \n",
    "#     # Adjust total milliseconds if necessary\n",
    "#     previous_value = None\n",
    "#     for index, current_value in df['total_milliseconds'].items():\n",
    "#         if previous_value is not None and current_value < previous_value:\n",
    "#             low_index = df['total_milliseconds'].idxmin()\n",
    "#             correction_value = df.loc[low_index - 1, 'total_milliseconds']\n",
    "#             df.loc[low_index:, 'total_milliseconds'] += correction_value\n",
    "#             min_total_milliseconds = df['total_milliseconds'].min()\n",
    "#             df['adjusted_total_milliseconds'] = df['total_milliseconds'] - min_total_milliseconds\n",
    "#             break\n",
    "#         previous_value = current_value\n",
    "#     else:\n",
    "#         min_total_milliseconds = df['total_milliseconds'].min()\n",
    "#         df['adjusted_total_milliseconds'] = df['total_milliseconds'] - min_total_milliseconds\n",
    "\n",
    "#     # Convert adjusted total milliseconds back to minutes, seconds, and milliseconds\n",
    "#     df['seconds'], df['milliseconds'] = divmod(df['adjusted_total_milliseconds'], 1000)\n",
    "#     df['minutes'], df['seconds'] = divmod(df['seconds'], 60)\n",
    "#     df['time'] = df['minutes'].astype(str).str.zfill(2) + ':' + \\\n",
    "#                  df['seconds'].astype(str).str.zfill(2) + '.' + \\\n",
    "#                  df['milliseconds'].astype(str).str.zfill(3)\n",
    "#     df['time'] = pd.to_datetime(df['time'], format='%M:%S.%f')\n",
    "    \n",
    "#     # Calculate averages\n",
    "#     count_1_avg = df['count_1'].mean()\n",
    "#     count_2_avg = df['count_2'].mean()\n",
    "    \n",
    "#     # Calculate time differences\n",
    "#     df[\"dt\"] = df[\"m_sec_ms\"].diff().dt.total_seconds().fillna(0)\n",
    "    \n",
    "#     # Add time_sec_abs and time_abs columns\n",
    "#     df['time_sec_abs'] = (df['m_sec_ms'] - df['m_sec_ms'].min()).dt.total_seconds()\n",
    "#     df['minutes'], df['seconds'] = divmod(df['time_sec_abs'], 60)\n",
    "#     df['seconds'], df['milliseconds'] = divmod(df['seconds'], 1)\n",
    "#     df['milliseconds'] *= 1000  # Convert to milliseconds\n",
    "#     df['time_formated_abs'] = df['minutes'].astype(str).str.zfill(2) + ':' + \\\n",
    "#                  df['seconds'].astype(int).astype(str).str.zfill(2) + '.' + \\\n",
    "#                  df['milliseconds'].astype(int).astype(str).str.zfill(3)\n",
    "    \n",
    "#     # Calculate log duration\n",
    "#     log_duration = (df[\"m_sec_ms\"].max() - df[\"m_sec_ms\"].min()).total_seconds()\n",
    "    \n",
    "#     # Calculate samples per second\n",
    "#     sps_1 = 1024 / count_1_avg\n",
    "#     sps_2 = 1024 / count_2_avg\n",
    "\n",
    "#     file_name_only = os.path.basename(file_name)\n",
    "#     parts = file_name_only.split('_')\n",
    "#     p1 = parts[3] if len(parts) > 3 else None  # Add a safety check\n",
    "#     p2 = parts[8] if len(parts) > 8 else None  # Add a safety check\n",
    "    \n",
    "#     # Fix your conditional logic\n",
    "#     if p1 == 'X' and p2 == '6Pro':\n",
    "#         power_columns = {\"P_BAT_P1\": \"E_BAT_Caller\", \"P_RF_P1\": \"E_RF_Caller\", \"P_BAT_P2\": \"E_BAT_Callee\", \"P_RF_P2\": \"E_RF_Callee\"}\n",
    "#     elif p1 == '12' and p2 == '6Pro':\n",
    "#         power_columns = {\"P_BAT_P1\": \"E_BAT_Callee\", \"P_RF_P1\": \"E_RF_Callee\", \"P_BAT_P2\": \"E_BAT_Caller\", \"P_RF_P2\": \"E_RF_Caller\"}\n",
    "#     elif p1 == '6Pro' and p2 == '12':\n",
    "#         power_columns = {\"P_BAT_P1\": \"E_BAT_Caller\", \"P_RF_P1\": \"E_RF_Caller\", \"P_BAT_P2\": \"E_BAT_Callee\", \"P_RF_P2\": \"E_RF_Callee\"}\n",
    "#     elif p1 == '6Pro' and p2 == 'X':\n",
    "#         power_columns = {\"P_BAT_P1\": \"E_BAT_Callee\", \"P_RF_P1\": \"E_RF_Callee\", \"P_BAT_P2\": \"E_BAT_Caller\", \"P_RF_P2\": \"E_RF_Caller\"}\n",
    "#     elif p1 == 'X' and p2 == '12':\n",
    "#         power_columns = {\"P_BAT_P1\": \"E_BAT_Caller\", \"P_RF_P1\": \"E_RF_Caller\", \"P_BAT_P2\": \"E_BAT_Callee\", \"P_RF_P2\": \"E_RF_Callee\"}\n",
    "#     elif p1 == '12' and p2 == 'X':\n",
    "#         power_columns = {\"P_BAT_P1\": \"E_BAT_Callee\", \"P_RF_P1\": \"E_RF_Callee\", \"P_BAT_P2\": \"E_BAT_Caller\", \"P_RF_P2\": \"E_RF_Caller\"}\n",
    "#     else:\n",
    "#         # Default case\n",
    "#         print(f\"Warning: Unknown device type '{rep}'. Using default mapping.\")\n",
    "#         power_columns = {\"P_BAT_P1\": \"E_BAT_Caller\", \"P_RF_P1\": \"E_RF_Caller\", \"P_BAT_P2\": \"E_BAT_Callee\", \"P_RF_P2\": \"E_RF_Callee\"}\n",
    "    \n",
    "#     # FIX: Move this outside the 'else' block so it always executes\n",
    "#     for power_col, energy_col in power_columns.items():\n",
    "#         df[energy_col] = np.zeros(len(df))  # Initialize column with zeros\n",
    "#         for i in range(1, len(df)):\n",
    "#             # Compute instantaneous energy using the trapezoidal rule\n",
    "#             df.at[i, energy_col] = np.trapz(\n",
    "#                 [df.at[i-1, power_col], df.at[i, power_col]], \n",
    "#                 x=[df.at[i-1, \"m_sec_ms\"].timestamp(), df.at[i, \"m_sec_ms\"].timestamp()]\n",
    "#             )\n",
    "    \n",
    "    \n",
    "#     # Create a group column by detecting the 0 -> 1 flip\n",
    "#     df['group'] = (df['useful_data'].diff() == 1).cumsum()\n",
    "#     # Set group to NaN where useful_data is 0\n",
    "#     df.loc[df['useful_data'] == 0, 'group'] = None\n",
    "#     # Map odd groups to \"call_est\" and even groups to \"call\"\n",
    "#     df['group'] = df['group'].map(lambda x: 'call_est' if x % 2 == 1 else 'call' if pd.notna(x) else None)\n",
    "#     # Compute the duration of each group in seconds and store in a variable\n",
    "#     call_est_duration = df[df['group'] == 'call_est']['dt'].sum()\n",
    "#     call_duration = df[df['group'] == 'call']['dt'].sum()\n",
    "#     total_usefull_data_duration = call_duration + call_est_duration\n",
    "\n",
    "#     return df, sps_1, sps_2, total_usefull_data_duration, call_est_duration, call_duration  # Return DataFrame + Mean SPS + Duration + Group Durations\n",
    "\n",
    "def seek_measurement_dataset_analyze_iph_2ch(file_name):\n",
    "    global result_df_ip, section_df\n",
    "\n",
    "    # Load the data\n",
    "    df, sps_caller, sps_callee, tt_u_du,call_est_duration, call_duration  = open_file_nf1(file_name)\n",
    "    if 'V_BAT' not in df.columns:\n",
    "        # print(f\"Warning: 'V_BAT' column not found in {file_name}. Skipping calculations involving 'V_BAT'.\")\n",
    "        df['V_BAT'] = 0  # Add a default column with zeros or handle as needed\n",
    "\n",
    "    section_df = df\n",
    "    file_name = os.path.basename(file_name)  # Extract filename from path\n",
    "    filename_parts = file_name.split('_')\n",
    "    rep = filename_parts[0] if len(filename_parts) >= 1 else None\n",
    "    caller_device = filename_parts[3] if len(filename_parts) >= 4 else None\n",
    "    techno_1 = filename_parts[4] if len(filename_parts) >= 5 else None\n",
    "    voice_techno_1 = filename_parts[5] if len(filename_parts) >= 6 else None\n",
    "    callee_device = filename_parts[8] if len(filename_parts) >= 9 else None\n",
    "    techno_2 = filename_parts[9] if len(filename_parts) >= 10 else None\n",
    "    voice_techno_2 = filename_parts[10] if len(filename_parts) >= 11 else None\n",
    "\n",
    "    with pd.option_context(\"mode.copy_on_write\", True):\n",
    "        # Energy consumption Joules in Min\n",
    "        # Call Establishment\n",
    "        cum_E_RF_Est_Caller_Jm = df[df['group'] == 'call_est']['E_RF_Caller'].sum()/ (call_est_duration/60)\n",
    "        cum_E_BAT_Est_Caller_Jm = df[df['group'] == 'call_est']['E_BAT_Caller'].sum()/ (call_est_duration/60)\n",
    "        cum_E_RF_Est_Callee_Jm = df[df['group'] == 'call_est']['E_RF_Callee'].sum()/ (call_est_duration/60)\n",
    "        cum_E_BAT_Est_Callee_Jm = df[df['group'] == 'call_est']['E_BAT_Callee'].sum()/ (call_est_duration/60)\n",
    "        # Call \n",
    "        cum_E_RF_Call_Caller_Jm = df[df['group'] == 'call']['E_RF_Caller'].sum()/ (call_duration/60)\n",
    "        cum_E_BAT_Call_Caller_Jm = df[df['group'] == 'call']['E_BAT_Caller'].sum()/ (call_duration/60)\n",
    "        cum_E_RF_Call_Callee_Jm = df[df['group'] == 'call']['E_RF_Callee'].sum()/ (call_duration/60)\n",
    "        cum_E_BAT_Call_Callee_Jm = df[df['group'] == 'call']['E_BAT_Callee'].sum()/ (call_duration/60)\n",
    "\n",
    "        # Total energy consumption Joules in Min - Call and Call Establishment\n",
    "        cum_E_RF_Full_call_useful_Caller_Jm = cum_E_RF_Est_Caller_Jm + cum_E_RF_Call_Caller_Jm\n",
    "        cum_E_BAT_Full_call_useful_Caller_Jm = cum_E_BAT_Est_Caller_Jm + cum_E_BAT_Call_Caller_Jm\n",
    "\n",
    "        cum_E_RF_Full_call_useful_Callee_Jm = cum_E_RF_Est_Callee_Jm + cum_E_RF_Call_Callee_Jm\n",
    "        cum_E_BAT_Full_call_useful_Callee_Jm = cum_E_BAT_Est_Callee_Jm + cum_E_BAT_Call_Callee_Jm\n",
    "\n",
    "        # Total energy consumption - Call and Call Establishment\n",
    "        cum_E_RF_Full_call_useful_Caller = df[df['group'] == 'call_est']['E_RF_Caller'].sum() + df[df['group'] == 'call']['E_RF_Caller'].sum()\n",
    "        cum_E_BAT_Full_call_useful_Caller = df[df['group'] == 'call_est']['E_BAT_Caller'].sum() + df[df['group'] == 'call']['E_BAT_Caller'].sum()\n",
    "\n",
    "        cum_E_RF_Full_call_useful_Callee = df[df['group'] == 'call_est']['E_RF_Callee'].sum() + df[df['group'] == 'call']['E_RF_Callee'].sum()\n",
    "        cum_E_BAT_Full_call_useful_Callee = df[df['group'] == 'call_est']['E_BAT_Callee'].sum() + df[df['group'] == 'call']['E_BAT_Callee'].sum()\n",
    "\n",
    "    # Calculate E_RF% BAT if 'V_BAT' is available\n",
    "    if 'V_BAT' in df.columns:\n",
    "        Caller_e_rf_percent_bat = (cum_E_RF_Full_call_useful_Caller_Jm / cum_E_BAT_Full_call_useful_Caller_Jm) * 100\n",
    "        Callee_e_rf_percent_bat = (cum_E_RF_Full_call_useful_Callee_Jm / cum_E_BAT_Full_call_useful_Callee_Jm) * 100\n",
    "\n",
    "    else:\n",
    "        e_rf_percent_bat = 0  # Default value if 'V_BAT' is missing\n",
    "\n",
    "    row = {\n",
    "        'File name': file_name,\n",
    "        'Exp Repetition': rep,\n",
    "        'Caller device': caller_device,\n",
    "        'TX:Caller RAN Tech': techno_1,\n",
    "        'Caller Voice Tech': voice_techno_1,\n",
    "\n",
    "        'Callee device': callee_device,\n",
    "        'RX:Callee RAN Tech': techno_2, \n",
    "        'Callee Voice Tech': voice_techno_2,\n",
    "\n",
    "        ### Energy Joule per minute ###\n",
    "        ### Caller ###\n",
    "        # RF\n",
    "        'Caller Est E_RF Jm': '{:.2f}'.format(cum_E_RF_Est_Caller_Jm), # Call Establishment RF\n",
    "        'Caller Call E_RF Jm': '{:.2f}'.format(cum_E_RF_Call_Caller_Jm), # Call RF\n",
    "        # BAT\n",
    "        'Caller Est E_BAT Jm': '{:.2f}'.format(cum_E_BAT_Est_Caller_Jm), # Call Establishment BAT\n",
    "        'Caller Call E_BAT Jm': '{:.2f}'.format(cum_E_BAT_Call_Caller_Jm), # Call BAT\n",
    "        ### Callee ###\n",
    "        # RF \n",
    "        'Callee Est E_RF Jm': '{:.2f}'.format(cum_E_RF_Est_Callee_Jm),\n",
    "        'Callee Call E_RF Jm': '{:.2f}'.format(cum_E_RF_Call_Callee_Jm), \n",
    "        # BAT\n",
    "        'Callee Est E_BAT Jm': '{:.2f}'.format(cum_E_BAT_Est_Callee_Jm), # Call Establishment BAT\n",
    "        'Callee Call E_BAT Jm': '{:.2f}'.format(cum_E_BAT_Call_Callee_Jm), # Call BAT\n",
    "\n",
    "\n",
    "        ### Full Call Usefull Data Joule Per Min ###\n",
    "        ### Caller ###\n",
    "        # RF    \n",
    "        'Full_Use Caller E_RF Jm': '{:.2f}'.format(cum_E_RF_Full_call_useful_Caller_Jm), # Call Establishment RF\n",
    "        'Full_Use Callee E_RF Jm': '{:.2f}'.format(cum_E_RF_Full_call_useful_Callee_Jm), # Call Establishment RF\n",
    "        # BAT\n",
    "        'Full_Use Caller E_BAT Jm': '{:.2f}'.format(cum_E_BAT_Full_call_useful_Caller_Jm), # Call Establishment BAT\n",
    "        'Full_Use Callee E_BAT Jm': '{:.2f}'.format(cum_E_BAT_Full_call_useful_Callee_Jm), # Call Establishment BAT\n",
    "\n",
    "\n",
    "        ### Full Call Usefull Data Joule ###\n",
    "        ### Caller ###\n",
    "        # RF\n",
    "        'Full_Use Caller E_RF J': '{:.2f}'.format(cum_E_RF_Full_call_useful_Caller), # Call Establishment RF\n",
    "        'Full_Use Callee E_RF J': '{:.2f}'.format(cum_E_RF_Full_call_useful_Callee), # Call Establishment RF\n",
    "        # BAT\n",
    "        'Full_Use Caller E_BAT J': '{:.2f}'.format(cum_E_BAT_Full_call_useful_Caller), # Call Establishment BAT\n",
    "        'Full_Use Callee E_BAT J': '{:.2f}'.format(cum_E_BAT_Full_call_useful_Callee), # Call Establishment BAT\n",
    "\n",
    "\n",
    "        'Caller E_RF% BAT': '{:.2f}%'.format(Caller_e_rf_percent_bat),\n",
    "        'Callee E_RF% BAT': '{:.2f}%'.format(Callee_e_rf_percent_bat),\n",
    "\n",
    "\n",
    "        'Duration Call Establishment': '{:.2f}'.format(call_est_duration),\n",
    "        'Duration Call': '{:.2f}'.format(call_duration),\n",
    "        'Total duration sec': '{:.2f}'.format(tt_u_du), \n",
    "        'SPS caller': '{:.2f}'.format(sps_caller),\n",
    "        'SPS callee': '{:.2f}'.format(sps_callee),\n",
    "\n",
    "    }\n",
    "\n",
    "    result_df_ip = pd.concat([result_df_ip, pd.DataFrame(row, index=[0])], ignore_index=True)\n",
    "    return tt_u_du, cum_E_RF_Full_call_useful_Caller, cum_E_BAT_Full_call_useful_Caller, section_df, sps_callee\n",
    "\n",
    "##############################################\n",
    "##############################################\n",
    "######## 6pro_3ch###########\n",
    "##############################################\n",
    "\n",
    "def open_file_nf_6pro_3ch(file_name):\n",
    "    \"\"\"\n",
    "    Reads a CSV file, processes timestamps (keeping mm:SS.ms format), computes real SPS, \n",
    "    and integrates energy using the trapezoidal rule continuously.\n",
    "\n",
    "    Returns:\n",
    "        pd.DataFrame: Processed DataFrame with timestamps, fully populated SPS, and cumulative energy.\n",
    "        float: Mean SPS.\n",
    "        float: Count-based mean SPS.\n",
    "        float: Log duration in seconds.\n",
    "        float: Call estimation duration.\n",
    "        float: Call duration.\n",
    "    \"\"\"\n",
    "    df = pd.read_csv(file_name)\n",
    "\n",
    "    # Split the 'V_BAT' column if it's stored as a single column\n",
    "    df[['V_BAT','I_BAT','P_BAT','V_BB','I_BB','P_BB','V_PA','I_PA','P_PA','useful_data','useful_state','count']] = df['V_BAT'].str.split(',', expand=True)\n",
    "\n",
    "    # Convert columns to numeric values\n",
    "    numeric_cols = ['V_BAT', 'I_BAT', 'P_BAT', 'V_BB', 'I_BB', 'P_BB', 'V_PA', 'I_PA', 'P_PA', 'useful_data', 'useful_state', 'count']\n",
    "    df[numeric_cols] = df[numeric_cols].apply(pd.to_numeric, errors='coerce')\n",
    "\n",
    "    # Compute Power RF\n",
    "    df['P_RF'] = df['P_BB'] + df['P_PA']\n",
    "    # Convert m_sec_ms to timedelta\n",
    "    df[\"m_sec_ms\"] = pd.to_datetime(df[\"m_sec_ms\"], format='%M:%S.%f').dt.time  # Convert to time object\n",
    "    df[\"m_sec_ms\"] = pd.to_timedelta(df[\"m_sec_ms\"].astype(str))  # Convert to timedelta\n",
    "\n",
    "    # Initialize variables\n",
    "    time_offset = pd.Timedelta(0)  # Cumulative offset for resets\n",
    "    previous_time = df[\"m_sec_ms\"].iloc[0]  # Initialize with the first timestamp\n",
    "    absolute_times = []  # Store absolute times\n",
    "\n",
    "    # Calculate absolute time\n",
    "    for current_time in df[\"m_sec_ms\"]:\n",
    "        if current_time < previous_time:  # Detect reset\n",
    "            time_offset += pd.Timedelta(hours=1)  # Add 1 hour (or appropriate offset)\n",
    "        absolute_times.append(current_time + time_offset)\n",
    "        previous_time = current_time\n",
    "\n",
    "    # Add absolute time to DataFrame\n",
    "    df[\"m_sec_ms\"] = absolute_times\n",
    "\n",
    "    # Compute time difference (dt) in seconds\n",
    "    df[\"dt\"] = df[\"m_sec_ms\"].diff().dt.total_seconds().fillna(0)\n",
    "\n",
    "    # Extract full seconds for SPS calculation\n",
    "    df[\"time\"] = df[\"m_sec_ms\"].dt.components.minutes.astype(str).str.zfill(2) + \":\" + \\\n",
    "                   df[\"m_sec_ms\"].dt.components.seconds.astype(str).str.zfill(2)  # \"MM:SS\"\n",
    "\n",
    "    # Compute SPS (Samples Per Second) and fill all rows\n",
    "    sps_per_second = df.groupby(\"time\")[\"count\"].apply(lambda x: x.iloc[-1] - x.iloc[0])\n",
    "    df[\"SPS\"] = df[\"time\"].map(sps_per_second)\n",
    "\n",
    "    # Compute mean SPS (ignoring NaN values)\n",
    "    sps_mean = df[\"SPS\"].mean(skipna=True)\n",
    "    \n",
    "    # Calculate SPS using count differences - NEW ADDITION\n",
    "    # First calculate count differences between samples\n",
    "    df['count_diff'] = df['count'].diff().fillna(0)\n",
    "    \n",
    "    # Calculate SPS for each second using count differences\n",
    "    df['sps_count'] = 0.0  # Initialize column\n",
    "    \n",
    "    # Group by each second and calculate count-based SPS\n",
    "    for time_val, group in df.groupby('time'):\n",
    "        if len(group) >= 2:\n",
    "            # Calculate SPS based on count changes within this second\n",
    "            count_change = group['count'].iloc[-1] - group['count'].iloc[0]\n",
    "            time_change = (group['m_sec_ms'].iloc[-1] - group['m_sec_ms'].iloc[0]).total_seconds()\n",
    "            if time_change > 0:\n",
    "                sps_value = count_change / time_change\n",
    "                df.loc[df['time'] == time_val, 'sps_count'] = sps_value\n",
    "    \n",
    "    # Calculate mean of count-based SPS\n",
    "    sps_count_mean = df['sps_count'].replace(0, np.nan).mean(skipna=True)\n",
    "\n",
    "    df['P_BAT_1'] = pd.to_numeric(df['P_BAT'])\n",
    "    df['P_RF_1'] = pd.to_numeric(df['P_RF'])\n",
    "    df['P_PA_1'] = pd.to_numeric(df['P_PA'])\n",
    "    df['P_BB_1'] = pd.to_numeric(df['P_BB'])\n",
    "\n",
    "    # Continuous Energy Integration using Trapezoidal Rule\n",
    "    power_columns = {\"P_BAT\": \"E_BAT\", \"P_RF\": \"E_RF\", \"P_PA\": \"E_PA\", \"P_BB\": \"E_BB\", \"P_RF\": \"E_RF\"}\n",
    "    for power_col, energy_col in power_columns.items():\n",
    "        df[energy_col] = np.zeros(len(df))  # Initialize column with zeros\n",
    "\n",
    "        for i in range(1, len(df)):\n",
    "            # Compute instantaneous energy using the trapezoidal rule\n",
    "            df.at[i, energy_col] = np.trapz(\n",
    "                [df.at[i-1, power_col], df.at[i, power_col]], \n",
    "                x=[df.at[i-1, \"m_sec_ms\"].total_seconds(), df.at[i, \"m_sec_ms\"].total_seconds()]\n",
    "            )\n",
    "\n",
    "    # Add time_sec_abs and time_abs columns\n",
    "    df['time_sec_abs'] = (df['m_sec_ms'] - df['m_sec_ms'].min()).dt.total_seconds()\n",
    "    df['minutes'], df['seconds'] = divmod(df['time_sec_abs'], 60)\n",
    "    df['seconds'], df['milliseconds'] = divmod(df['seconds'], 1)\n",
    "    df['milliseconds'] *= 1000  # Convert to milliseconds\n",
    "    df['time_formated_abs'] = df['minutes'].astype(str).str.zfill(2) + ':' + \\\n",
    "                 df['seconds'].astype(int).astype(str).str.zfill(2) + '.' + \\\n",
    "                 df['milliseconds'].astype(int).astype(str).str.zfill(3)\n",
    "    log_duration = (df[\"m_sec_ms\"].max() - df[\"m_sec_ms\"].min()).total_seconds()\n",
    "\n",
    "    # Create a group column by detecting the 0 -> 1 flip\n",
    "    df['group'] = (df['useful_data'].diff() == 1).cumsum()\n",
    "\n",
    "    # Set group to NaN where useful_data is 0\n",
    "    df.loc[df['useful_data'] == 0, 'group'] = None\n",
    "\n",
    "    # Map odd groups to \"call_est\" and even groups to \"call\"\n",
    "    df['group'] = df['group'].map(lambda x: 'call_est' if x % 2 == 1 else 'call' if pd.notna(x) else None)\n",
    "    \n",
    "    # Compute the duration of each group in seconds and store in a variable\n",
    "    call_est_duration = df[df['group'] == 'call_est']['dt'].sum()\n",
    "    call_duration = df[df['group'] == 'call']['dt'].sum()\n",
    "\n",
    "    return df, sps_mean, sps_count_mean, log_duration, call_est_duration, call_duration\n",
    "\n",
    "\n",
    "    \n",
    "\n",
    "\n",
    "# def open_file_nf_6pro_3ch(file_name):\n",
    "#     \"\"\"\n",
    "#     Reads a CSV file, processes timestamps (keeping mm:SS.ms format), computes real SPS, \n",
    "#     and integrates energy using the trapezoidal rule continuously.\n",
    "\n",
    "#     Returns:\n",
    "#         pd.DataFrame: Processed DataFrame with timestamps, fully populated SPS, and cumulative energy.\n",
    "#         float: Mean SPS.\n",
    "#         float: Log duration in seconds.\n",
    "#     \"\"\"\n",
    "#     df = pd.read_csv(file_name)\n",
    "\n",
    "#     # Split the 'V_BAT' column if it's stored as a single column\n",
    "#     df[['V_BAT','I_BAT','P_BAT','V_BB','I_BB','P_BB','V_PA','I_PA','P_PA','useful_data','useful_state','count']] = df['V_BAT'].str.split(',', expand=True)\n",
    "\n",
    "#     # Convert columns to numeric values\n",
    "#     numeric_cols = ['V_BAT', 'I_BAT', 'P_BAT', 'V_BB', 'I_BB', 'P_BB', 'V_PA', 'I_PA', 'P_PA', 'useful_data', 'useful_state', 'count']\n",
    "#     df[numeric_cols] = df[numeric_cols].apply(pd.to_numeric, errors='coerce')\n",
    "\n",
    "#     # Compute Power RF\n",
    "#     df['P_RF'] = df['P_BB'] + df['P_PA']\n",
    "#     # Convert m_sec_ms to timedelta\n",
    "#     df[\"m_sec_ms\"] = pd.to_datetime(df[\"m_sec_ms\"], format='%M:%S.%f').dt.time  # Convert to time object\n",
    "#     df[\"m_sec_ms\"] = pd.to_timedelta(df[\"m_sec_ms\"].astype(str))  # Convert to timedelta\n",
    "\n",
    "#     # Initialize variables\n",
    "#     time_offset = pd.Timedelta(0)  # Cumulative offset for resets\n",
    "#     previous_time = df[\"m_sec_ms\"].iloc[0]  # Initialize with the first timestamp\n",
    "#     absolute_times = []  # Store absolute times\n",
    "\n",
    "#     # Calculate absolute time\n",
    "#     for current_time in df[\"m_sec_ms\"]:\n",
    "#         if current_time < previous_time:  # Detect reset\n",
    "#             time_offset += pd.Timedelta(hours=1)  # Add 1 hour (or appropriate offset)\n",
    "#         absolute_times.append(current_time + time_offset)\n",
    "#         previous_time = current_time\n",
    "\n",
    "# # Add absolute time to DataFrame\n",
    "#     df[\"m_sec_ms\"] = absolute_times\n",
    "\n",
    "# # Compute time difference (dt) in seconds\n",
    "#     df[\"dt\"] = df[\"m_sec_ms\"].diff().dt.total_seconds().fillna(0)\n",
    "\n",
    "\n",
    "#     # Extract full seconds for SPS calculation\n",
    "#     df[\"time\"] = df[\"m_sec_ms\"].dt.components.minutes.astype(str).str.zfill(2) + \":\" + \\\n",
    "#                    df[\"m_sec_ms\"].dt.components.seconds.astype(str).str.zfill(2)  # \"MM:SS\"\n",
    "\n",
    "#     # Compute SPS (Samples Per Second) and fill all rows\n",
    "#     sps_per_second = df.groupby(\"time\")[\"count\"].apply(lambda x: x.iloc[-1] - x.iloc[0])\n",
    "#     df[\"SPS\"] = df[\"time\"].map(sps_per_second)\n",
    "\n",
    "#     # Compute mean SPS (ignoring NaN values)\n",
    "#     sps_mean = df[\"SPS\"].mean(skipna=True)\n",
    "#     df['P_BAT_1'] = pd.to_numeric(df['P_BAT'])\n",
    "#     df['P_RF_1'] = pd.to_numeric(df['P_RF'])\n",
    "#     df['P_PA_1'] = pd.to_numeric(df['P_PA'])\n",
    "#     df['P_BB_1'] = pd.to_numeric(df['P_BB'])\n",
    "\n",
    "\n",
    "#     # Continuous Energy Integration using Trapezoidal Rule\n",
    "#     power_columns = {\"P_BAT\": \"E_BAT\", \"P_RF\": \"E_RF\", \"P_PA\": \"E_PA\", \"P_BB\": \"E_BB\", \"P_RF\": \"E_RF\"}\n",
    "#     for power_col, energy_col in power_columns.items():\n",
    "#         df[energy_col] = np.zeros(len(df))  # Initialize column with zeros\n",
    "\n",
    "#         for i in range(1, len(df)):\n",
    "\n",
    "#             # Compute instantaneous energy using the trapezoidal rule\n",
    "#             df.at[i, energy_col] = np.trapz(\n",
    "#                 [df.at[i-1, power_col], df.at[i, power_col]], \n",
    "#                 x=[df.at[i-1, \"m_sec_ms\"].total_seconds(), df.at[i, \"m_sec_ms\"].total_seconds()]\n",
    "#             )\n",
    "\n",
    "#     # Add time_sec_abs and time_abs columns\n",
    "#     df['time_sec_abs'] = (df['m_sec_ms'] - df['m_sec_ms'].min()).dt.total_seconds()\n",
    "#     df['minutes'], df['seconds'] = divmod(df['time_sec_abs'], 60)\n",
    "#     df['seconds'], df['milliseconds'] = divmod(df['seconds'], 1)\n",
    "#     df['milliseconds'] *= 1000  # Convert to milliseconds\n",
    "#     df['time_formated_abs'] = df['minutes'].astype(str).str.zfill(2) + ':' + \\\n",
    "#                  df['seconds'].astype(int).astype(str).str.zfill(2) + '.' + \\\n",
    "#                  df['milliseconds'].astype(int).astype(str).str.zfill(3)\n",
    "#     log_duration = (df[\"m_sec_ms\"].max() - df[\"m_sec_ms\"].min()).total_seconds()\n",
    "\n",
    "#     # Create a group column by detecting the 0 -> 1 flip\n",
    "#     df['group'] = (df['useful_data'].diff() == 1).cumsum()\n",
    "\n",
    "\n",
    "#     # Set group to NaN where useful_data is 0\n",
    "#     df.loc[df['useful_data'] == 0, 'group'] = None\n",
    "\n",
    "#     # Map odd groups to \"call_est\" and even groups to \"call\"\n",
    "#     df['group'] = df['group'].map(lambda x: 'call_est' if x % 2 == 1 else 'call' if pd.notna(x) else None)\n",
    "#     # Compute the duration of each group in seconds and store in a variable\n",
    "#     call_est_duration = df[df['group'] == 'call_est']['dt'].sum()\n",
    "#     call_duration = df[df['group'] == 'call']['dt'].sum()\n",
    "\n",
    "#     return df, sps_mean, log_duration, call_est_duration,call_duration  # Return DataFrame + Mean SPS + Duration + Group Durations\n",
    "\n",
    "\n",
    "\n",
    "def seek_measurement_dataset_analyze_6pro_3ch (file_name):\n",
    "    \n",
    "    global result_df, section_df   \n",
    "\n",
    "    global duplicate_rows_result_df\n",
    "    df,sps,sps_count,duration,du_call_est,du_call = open_file_nf_6pro_3ch(file_name)\n",
    "\n",
    "    section_df = df\n",
    "    file_name = os.path.basename(file_name)  # Extract filename from path\n",
    "    filename_parts = file_name.split('_')\n",
    "    rep = filename_parts[0] if len(filename_parts) >= 1 else None\n",
    "    caller_device = filename_parts[2] if len(filename_parts) >= 3 else None\n",
    "    transmission_1 = filename_parts[3] if len(filename_parts) >= 4 else None\n",
    "    techno_1 = filename_parts[4] if len(filename_parts) >= 5 else None\n",
    "    voice_techno_1 = filename_parts[5] if len(filename_parts) >= 6 else None\n",
    "    callee_device = filename_parts[6] if len(filename_parts) >= 7 else None\n",
    "    transmission_2 = filename_parts[7] if len(filename_parts) >= 8 else None\n",
    "    techno_2 = filename_parts[8] if len(filename_parts) >= 9 else None\n",
    "    voice_techno_2 = filename_parts[9] if len(filename_parts) >= 10 else None\n",
    "\n",
    "    with pd.option_context(\"mode.copy_on_write\", True):\n",
    "\n",
    "        # call_du_E_per_min = total_RF/ (total_duration_seconds/60)\n",
    "        call_E_RF = df[df['group'] == 'call']['E_RF'].sum()\n",
    "        call_E_BAT = df[df['group'] == 'call']['E_BAT'].sum()\n",
    "        call_E_PA = df[df['group'] == 'call']['E_PA'].sum()\n",
    "        call_E_BB = df[df['group'] == 'call']['E_BB'].sum()\n",
    "\n",
    "        call_est_E_RF = df[df['group'] == 'call_est']['E_RF'].sum()\n",
    "        call_est_E_BAT = df[df['group'] == 'call_est']['E_BAT'].sum()\n",
    "        call_est_E_PA = df[df['group'] == 'call_est']['E_PA'].sum()\n",
    "        call_est_E_BB = df[df['group'] == 'call_est']['E_BB'].sum()\n",
    "\n",
    "        # Total energy consumption - Call and Call Establishment\n",
    "        cum_E_RF = call_E_RF + call_est_E_RF\n",
    "        cum_E_BAT = call_E_BAT + call_est_E_BAT\n",
    "        cum_E_PA = call_E_PA + call_est_E_PA\n",
    "        cum_E_BB = call_E_BB + call_est_E_BB\n",
    "\n",
    "        # Add safety checks before division\n",
    "        if cum_E_BAT != 0:\n",
    "            RF_percent_bat = (cum_E_RF / cum_E_BAT) * 100\n",
    "            PA_percent_bat = (cum_E_PA / cum_E_BAT) * 100\n",
    "            BB_percent_bat = (cum_E_BB / cum_E_BAT) * 100\n",
    "        else:\n",
    "            RF_percent_bat = PA_percent_bat = BB_percent_bat = float('NaN')  # or set to 0 or another default\n",
    "\n",
    "        if cum_E_RF != 0:\n",
    "            PA_percent_RF = (cum_E_PA / cum_E_RF) * 100\n",
    "            BB_percent_RF = (cum_E_BB / cum_E_RF) * 100\n",
    "        else:\n",
    "            PA_percent_RF = BB_percent_RF = float('NaN')  # or set to 0 or another default\n",
    "\n",
    "        duration_est_call = du_call+du_call_est\n",
    "\n",
    "    row = {\n",
    "        'File name': file_name,\n",
    "        'Exp Repetition': rep,\n",
    "        'Caller device': caller_device,\n",
    "        'TX:Caller RAN Tech': techno_1,\n",
    "        'Caller Voice Tech': voice_techno_1,\n",
    "\n",
    "        'Callee device': callee_device,\n",
    "        'RX:Callee RAN Tech': techno_2,\n",
    "        'Callee Voice Tech': voice_techno_2,\n",
    "\n",
    "        'Call_Est E_BAT Jm': '{:.2f}'.format(call_est_E_BAT/(du_call_est/60)),  # Format power_per_min to three decimal places\n",
    "        'Call_Est E_RF Jm': '{:.2f}'.format(call_est_E_RF/(du_call_est/60)),  # Format power_per_min to three decimal places\n",
    "        'Call_Est E_PA Jm': '{:.2f}'.format(call_est_E_PA/(du_call_est/60)),  # Format power_per_min to three decimal places\n",
    "        'Call_Est E_BB Jm': '{:.2f}'.format(call_est_E_BB/(du_call_est/60)),  # Format power_per_min to three decimal places\n",
    "\n",
    "        'Call E_BAT Jm': '{:.2f}'.format(call_E_BAT/(du_call/60)),  # Format power_per_min to three decimal places\n",
    "        'Call E_RF Jm': '{:.2f}'.format(call_E_RF/(du_call/60)),  # Format power_per_min to three decimal places\n",
    "        'Call E_PA Jm': '{:.2f}'.format(call_E_PA/(du_call/60)),  # Format power_per_min to three decimal places\n",
    "        'Call E_BB Jm': '{:.2f}'.format(call_E_BB/(du_call/60)),  # Format power_per_min to three decimal places\n",
    "\n",
    "        'Full_Use E_Bat Jm': '{:.2f}'.format((call_est_E_BAT+call_E_BAT)/(duration_est_call/60)), \n",
    "        'Full_Use E_RF Jm': '{:.2f}'.format((call_est_E_RF+call_E_RF)/(duration_est_call/60)),\n",
    "        'Full_Use E_PA Jm': '{:.2f}'.format((call_est_E_PA+call_E_PA)/(duration_est_call/60)),\n",
    "        'Full_Use E_BB Jm': '{:.2f}'.format((call_est_E_BB+call_E_BB)/(duration_est_call/60)),\n",
    "\n",
    "        'Total E_BAT J': '{:.2f}'.format(call_est_E_BAT+call_E_BAT),\n",
    "        'Total E_RF J': '{:.2f}'.format(call_est_E_RF+call_E_RF),\n",
    "        'Total E_PA J': '{:.2f}'.format(call_est_E_PA+call_E_PA),\n",
    "        'Total E_BB J': '{:.2f}'.format(call_est_E_BB+call_E_BB),\n",
    "\n",
    "        'E_RF % BAT': '{:.2f}%'.format(RF_percent_bat) if not pd.isna(RF_percent_bat) else 'N/A',\n",
    "        'E_PA % BAT': '{:.2f}%'.format(PA_percent_bat) if not pd.isna(PA_percent_bat) else 'N/A',\n",
    "        'E_BB % BAT': '{:.2f}%'.format(BB_percent_bat) if not pd.isna(BB_percent_bat) else 'N/A',\n",
    "        'E_PA % RF': '{:.2f}%'.format(PA_percent_RF) if not pd.isna(PA_percent_RF) else 'N/A',\n",
    "        'E_BB % RF': '{:.2f}%'.format(BB_percent_RF) if not pd.isna(BB_percent_RF) else 'N/A',\n",
    "\n",
    "        'Duration Call Establishment': '{:.2f}' .format(du_call_est),\n",
    "        'Duration Call': '{:.2f}' .format(du_call),\n",
    "        'Total duration sec': '{:.2f}' .format(duration_est_call),\n",
    "        'SPS' : '{:.5f}'.format(sps),\n",
    "        'SPS count' : '{:.5f}'.format(sps_count)\n",
    "    }\n",
    " \n",
    "    result_df = pd.concat([result_df, pd.DataFrame(row, index=[0])], ignore_index=True)\n",
    "    duplicate_rows_result_df = result_df[result_df.duplicated()]\n",
    "    return duration,cum_E_RF,cum_E_BAT, section_df,sps\n",
    "\n",
    "def apply_exponential_moving_average(data, span):\n",
    "    smoothed_data = data.ewm(span, adjust=False).mean()\n",
    "    return smoothed_data\n",
    "\n",
    "def plot_power_consumption(final_results, device, technology):\n",
    "    # Define colors for each platform\n",
    "    # platform_colors = {\n",
    "    #     'AMAZON': '#146eC4',\n",
    "    #     'NETFLIX': '#E50924',\n",
    "    #     'APPLE': 'black',\n",
    "    #     'DISNEY': '#142874',\n",
    "    #     'YOUTUBE': '#ff0010'\n",
    "    # }\n",
    "\n",
    "    # Filter the final_results DataFrame with two conditions\n",
    "    filtered_df = final_results[(final_results['Device'] == device) & (final_results['Technology'] == technology)]\n",
    "\n",
    "    # Check if the filtered dataframe is empty\n",
    "    if filtered_df.empty:\n",
    "        print(f\"No data available for {device} {technology}\")\n",
    "        return\n",
    "\n",
    "    # Plotting the bar graph with colors corresponding to platform logos\n",
    "    fig = px.bar(filtered_df, x='Platform', y='Averg_pm', color='Platform',\n",
    "                #  color_discrete_map=platform_colors,\n",
    "                 labels={'Averg_pm': 'Power Consumption per minute (W/Min)', 'Platform': 'Platform'},\n",
    "                 title=f'Consumption per minute of iPhone {device} across {technology}',\n",
    "                 height=500, width=700)\n",
    "\n",
    "    # Set Y-axis limits from 0 to 30\n",
    "    fig.update_yaxes(range=[0, 30])\n",
    "    fig.update_layout(showlegend=False)\n",
    "\n",
    "    # Show the plot\n",
    "    fig.show()\n",
    "\n",
    "    # Print platform, number of tests, and total duration for each bar\n",
    "    print(f\"iPhone {device} over {technology}\")\n",
    "    for index, row in filtered_df.iterrows():\n",
    "        print(f\"{row['Platform']}: Num tests: {row['Num_tests']}, Total duration: {row['Total_duration']}\")\n",
    "\n",
    "# Function to preprocess data\n",
    "def preprocess_data(df):\n",
    "    df = df.copy()\n",
    "    df['File name'] = df['File name'].str.replace(r'^\\d_5_', '', regex=True)\n",
    "\n",
    "    non_numeric_cols = [\n",
    "        'File name', 'Exp Repetition', 'Caller device', 'Callee device',\n",
    "        'TX:Caller RAN Tech', 'RX:Callee RAN Tech', 'Caller Voice Tech', 'Callee Voice Tech'\n",
    "    ]\n",
    "\n",
    "    numeric_cols = df.columns.difference(non_numeric_cols)\n",
    "    df[numeric_cols] = df[numeric_cols].apply(pd.to_numeric, errors='coerce')\n",
    "\n",
    "    grouped = df.groupby('File name')\n",
    "    mean_numeric = grouped[numeric_cols].mean().reset_index()\n",
    "    mean_non_numeric = grouped[non_numeric_cols].first().reset_index(drop=True)\n",
    "\n",
    "    result_df = pd.concat([mean_non_numeric, mean_numeric[numeric_cols]], axis=1)\n",
    "    return result_df[df.columns]       \n"
   ]
  },
  {
   "cell_type": "markdown",
   "metadata": {},
   "source": [
    "# process database"
   ]
  },
  {
   "cell_type": "markdown",
   "metadata": {},
   "source": [
    "## Android"
   ]
  },
  {
   "cell_type": "code",
   "execution_count": 2,
   "metadata": {},
   "outputs": [
    {
     "name": "stdout",
     "output_type": "stream",
     "text": [
      "37\n",
      "1_3_6Pro_TX_E_UMTS_iPhone_RX_3G_UMTS_sps256.csv. passed. Count: 1\n"
     ]
    },
    {
     "name": "stderr",
     "output_type": "stream",
     "text": [
      "/var/folders/gt/zm5jcrpj6x5fxkp1kx5vrns80000gn/T/ipykernel_37543/639318165.py:489: DeprecationWarning: `trapz` is deprecated. Use `trapezoid` instead, or one of the numerical integration functions in `scipy.integrate`.\n",
      "  df.at[i, energy_col] = np.trapz(\n",
      "/var/folders/gt/zm5jcrpj6x5fxkp1kx5vrns80000gn/T/ipykernel_37543/639318165.py:489: DeprecationWarning: `trapz` is deprecated. Use `trapezoid` instead, or one of the numerical integration functions in `scipy.integrate`.\n",
      "  df.at[i, energy_col] = np.trapz(\n",
      "/var/folders/gt/zm5jcrpj6x5fxkp1kx5vrns80000gn/T/ipykernel_37543/639318165.py:489: DeprecationWarning: `trapz` is deprecated. Use `trapezoid` instead, or one of the numerical integration functions in `scipy.integrate`.\n",
      "  df.at[i, energy_col] = np.trapz(\n",
      "/var/folders/gt/zm5jcrpj6x5fxkp1kx5vrns80000gn/T/ipykernel_37543/639318165.py:489: DeprecationWarning: `trapz` is deprecated. Use `trapezoid` instead, or one of the numerical integration functions in `scipy.integrate`.\n",
      "  df.at[i, energy_col] = np.trapz(\n"
     ]
    },
    {
     "name": "stdout",
     "output_type": "stream",
     "text": [
      "1_3_iPhone_TX_4G_VoLTE_6Pro_RX_E_UMTS_sps256.csv. passed. Count: 2\n"
     ]
    },
    {
     "name": "stderr",
     "output_type": "stream",
     "text": [
      "/var/folders/gt/zm5jcrpj6x5fxkp1kx5vrns80000gn/T/ipykernel_37543/639318165.py:489: DeprecationWarning: `trapz` is deprecated. Use `trapezoid` instead, or one of the numerical integration functions in `scipy.integrate`.\n",
      "  df.at[i, energy_col] = np.trapz(\n",
      "/var/folders/gt/zm5jcrpj6x5fxkp1kx5vrns80000gn/T/ipykernel_37543/639318165.py:489: DeprecationWarning: `trapz` is deprecated. Use `trapezoid` instead, or one of the numerical integration functions in `scipy.integrate`.\n",
      "  df.at[i, energy_col] = np.trapz(\n",
      "/var/folders/gt/zm5jcrpj6x5fxkp1kx5vrns80000gn/T/ipykernel_37543/639318165.py:489: DeprecationWarning: `trapz` is deprecated. Use `trapezoid` instead, or one of the numerical integration functions in `scipy.integrate`.\n",
      "  df.at[i, energy_col] = np.trapz(\n",
      "/var/folders/gt/zm5jcrpj6x5fxkp1kx5vrns80000gn/T/ipykernel_37543/639318165.py:489: DeprecationWarning: `trapz` is deprecated. Use `trapezoid` instead, or one of the numerical integration functions in `scipy.integrate`.\n",
      "  df.at[i, energy_col] = np.trapz(\n"
     ]
    },
    {
     "name": "stdout",
     "output_type": "stream",
     "text": [
      "2_3_6Pro_TX_E_UMTS_iPhone_RX_3G_UMTS_sps256.csv. passed. Count: 3\n"
     ]
    },
    {
     "name": "stderr",
     "output_type": "stream",
     "text": [
      "/var/folders/gt/zm5jcrpj6x5fxkp1kx5vrns80000gn/T/ipykernel_37543/639318165.py:489: DeprecationWarning: `trapz` is deprecated. Use `trapezoid` instead, or one of the numerical integration functions in `scipy.integrate`.\n",
      "  df.at[i, energy_col] = np.trapz(\n",
      "/var/folders/gt/zm5jcrpj6x5fxkp1kx5vrns80000gn/T/ipykernel_37543/639318165.py:489: DeprecationWarning: `trapz` is deprecated. Use `trapezoid` instead, or one of the numerical integration functions in `scipy.integrate`.\n",
      "  df.at[i, energy_col] = np.trapz(\n",
      "/var/folders/gt/zm5jcrpj6x5fxkp1kx5vrns80000gn/T/ipykernel_37543/639318165.py:489: DeprecationWarning: `trapz` is deprecated. Use `trapezoid` instead, or one of the numerical integration functions in `scipy.integrate`.\n",
      "  df.at[i, energy_col] = np.trapz(\n",
      "/var/folders/gt/zm5jcrpj6x5fxkp1kx5vrns80000gn/T/ipykernel_37543/639318165.py:489: DeprecationWarning: `trapz` is deprecated. Use `trapezoid` instead, or one of the numerical integration functions in `scipy.integrate`.\n",
      "  df.at[i, energy_col] = np.trapz(\n"
     ]
    },
    {
     "name": "stdout",
     "output_type": "stream",
     "text": [
      "1_3_iPhone_TX_4G_VoWIFI_6Pro_RX_3G_UMTS_sps256.csv. passed. Count: 4\n"
     ]
    },
    {
     "name": "stderr",
     "output_type": "stream",
     "text": [
      "/var/folders/gt/zm5jcrpj6x5fxkp1kx5vrns80000gn/T/ipykernel_37543/639318165.py:489: DeprecationWarning: `trapz` is deprecated. Use `trapezoid` instead, or one of the numerical integration functions in `scipy.integrate`.\n",
      "  df.at[i, energy_col] = np.trapz(\n",
      "/var/folders/gt/zm5jcrpj6x5fxkp1kx5vrns80000gn/T/ipykernel_37543/639318165.py:489: DeprecationWarning: `trapz` is deprecated. Use `trapezoid` instead, or one of the numerical integration functions in `scipy.integrate`.\n",
      "  df.at[i, energy_col] = np.trapz(\n",
      "/var/folders/gt/zm5jcrpj6x5fxkp1kx5vrns80000gn/T/ipykernel_37543/639318165.py:489: DeprecationWarning: `trapz` is deprecated. Use `trapezoid` instead, or one of the numerical integration functions in `scipy.integrate`.\n",
      "  df.at[i, energy_col] = np.trapz(\n",
      "/var/folders/gt/zm5jcrpj6x5fxkp1kx5vrns80000gn/T/ipykernel_37543/639318165.py:489: DeprecationWarning: `trapz` is deprecated. Use `trapezoid` instead, or one of the numerical integration functions in `scipy.integrate`.\n",
      "  df.at[i, energy_col] = np.trapz(\n"
     ]
    },
    {
     "name": "stdout",
     "output_type": "stream",
     "text": [
      "1_3_iPhone_TX_4G_VoWIFI_6Pro_RX_4G_VoLTE_sps256.csv. passed. Count: 5\n"
     ]
    },
    {
     "name": "stderr",
     "output_type": "stream",
     "text": [
      "/var/folders/gt/zm5jcrpj6x5fxkp1kx5vrns80000gn/T/ipykernel_37543/639318165.py:489: DeprecationWarning: `trapz` is deprecated. Use `trapezoid` instead, or one of the numerical integration functions in `scipy.integrate`.\n",
      "  df.at[i, energy_col] = np.trapz(\n",
      "/var/folders/gt/zm5jcrpj6x5fxkp1kx5vrns80000gn/T/ipykernel_37543/639318165.py:489: DeprecationWarning: `trapz` is deprecated. Use `trapezoid` instead, or one of the numerical integration functions in `scipy.integrate`.\n",
      "  df.at[i, energy_col] = np.trapz(\n",
      "/var/folders/gt/zm5jcrpj6x5fxkp1kx5vrns80000gn/T/ipykernel_37543/639318165.py:489: DeprecationWarning: `trapz` is deprecated. Use `trapezoid` instead, or one of the numerical integration functions in `scipy.integrate`.\n",
      "  df.at[i, energy_col] = np.trapz(\n",
      "/var/folders/gt/zm5jcrpj6x5fxkp1kx5vrns80000gn/T/ipykernel_37543/639318165.py:489: DeprecationWarning: `trapz` is deprecated. Use `trapezoid` instead, or one of the numerical integration functions in `scipy.integrate`.\n",
      "  df.at[i, energy_col] = np.trapz(\n"
     ]
    },
    {
     "name": "stdout",
     "output_type": "stream",
     "text": [
      "1_3_iPhone_TX_3G_UMTS_6Pro_RX_E_UMTS_sps256.csv. passed. Count: 6\n"
     ]
    },
    {
     "name": "stderr",
     "output_type": "stream",
     "text": [
      "/var/folders/gt/zm5jcrpj6x5fxkp1kx5vrns80000gn/T/ipykernel_37543/639318165.py:489: DeprecationWarning: `trapz` is deprecated. Use `trapezoid` instead, or one of the numerical integration functions in `scipy.integrate`.\n",
      "  df.at[i, energy_col] = np.trapz(\n",
      "/var/folders/gt/zm5jcrpj6x5fxkp1kx5vrns80000gn/T/ipykernel_37543/639318165.py:489: DeprecationWarning: `trapz` is deprecated. Use `trapezoid` instead, or one of the numerical integration functions in `scipy.integrate`.\n",
      "  df.at[i, energy_col] = np.trapz(\n",
      "/var/folders/gt/zm5jcrpj6x5fxkp1kx5vrns80000gn/T/ipykernel_37543/639318165.py:489: DeprecationWarning: `trapz` is deprecated. Use `trapezoid` instead, or one of the numerical integration functions in `scipy.integrate`.\n",
      "  df.at[i, energy_col] = np.trapz(\n",
      "/var/folders/gt/zm5jcrpj6x5fxkp1kx5vrns80000gn/T/ipykernel_37543/639318165.py:489: DeprecationWarning: `trapz` is deprecated. Use `trapezoid` instead, or one of the numerical integration functions in `scipy.integrate`.\n",
      "  df.at[i, energy_col] = np.trapz(\n"
     ]
    },
    {
     "name": "stdout",
     "output_type": "stream",
     "text": [
      "1_3_iPhone_TX_3G_UMTS_6Pro_RX_4G_VoWIFI_sps256.csv. passed. Count: 7\n"
     ]
    },
    {
     "name": "stderr",
     "output_type": "stream",
     "text": [
      "/var/folders/gt/zm5jcrpj6x5fxkp1kx5vrns80000gn/T/ipykernel_37543/639318165.py:489: DeprecationWarning: `trapz` is deprecated. Use `trapezoid` instead, or one of the numerical integration functions in `scipy.integrate`.\n",
      "  df.at[i, energy_col] = np.trapz(\n",
      "/var/folders/gt/zm5jcrpj6x5fxkp1kx5vrns80000gn/T/ipykernel_37543/639318165.py:489: DeprecationWarning: `trapz` is deprecated. Use `trapezoid` instead, or one of the numerical integration functions in `scipy.integrate`.\n",
      "  df.at[i, energy_col] = np.trapz(\n",
      "/var/folders/gt/zm5jcrpj6x5fxkp1kx5vrns80000gn/T/ipykernel_37543/639318165.py:489: DeprecationWarning: `trapz` is deprecated. Use `trapezoid` instead, or one of the numerical integration functions in `scipy.integrate`.\n",
      "  df.at[i, energy_col] = np.trapz(\n",
      "/var/folders/gt/zm5jcrpj6x5fxkp1kx5vrns80000gn/T/ipykernel_37543/639318165.py:489: DeprecationWarning: `trapz` is deprecated. Use `trapezoid` instead, or one of the numerical integration functions in `scipy.integrate`.\n",
      "  df.at[i, energy_col] = np.trapz(\n"
     ]
    },
    {
     "name": "stdout",
     "output_type": "stream",
     "text": [
      "1_3_iPhone_TX_4G_VoWIFI_6Pro_RX_4G_VoWIFI_sps256.csv. passed. Count: 8\n"
     ]
    },
    {
     "name": "stderr",
     "output_type": "stream",
     "text": [
      "/var/folders/gt/zm5jcrpj6x5fxkp1kx5vrns80000gn/T/ipykernel_37543/639318165.py:489: DeprecationWarning: `trapz` is deprecated. Use `trapezoid` instead, or one of the numerical integration functions in `scipy.integrate`.\n",
      "  df.at[i, energy_col] = np.trapz(\n",
      "/var/folders/gt/zm5jcrpj6x5fxkp1kx5vrns80000gn/T/ipykernel_37543/639318165.py:489: DeprecationWarning: `trapz` is deprecated. Use `trapezoid` instead, or one of the numerical integration functions in `scipy.integrate`.\n",
      "  df.at[i, energy_col] = np.trapz(\n",
      "/var/folders/gt/zm5jcrpj6x5fxkp1kx5vrns80000gn/T/ipykernel_37543/639318165.py:489: DeprecationWarning: `trapz` is deprecated. Use `trapezoid` instead, or one of the numerical integration functions in `scipy.integrate`.\n",
      "  df.at[i, energy_col] = np.trapz(\n",
      "/var/folders/gt/zm5jcrpj6x5fxkp1kx5vrns80000gn/T/ipykernel_37543/639318165.py:489: DeprecationWarning: `trapz` is deprecated. Use `trapezoid` instead, or one of the numerical integration functions in `scipy.integrate`.\n",
      "  df.at[i, energy_col] = np.trapz(\n"
     ]
    },
    {
     "name": "stdout",
     "output_type": "stream",
     "text": [
      "1_3_iPhone_TX_3G_UMTS_6Pro_RX_3G_UMTS_sps256.csv. passed. Count: 9\n"
     ]
    },
    {
     "name": "stderr",
     "output_type": "stream",
     "text": [
      "/var/folders/gt/zm5jcrpj6x5fxkp1kx5vrns80000gn/T/ipykernel_37543/639318165.py:489: DeprecationWarning: `trapz` is deprecated. Use `trapezoid` instead, or one of the numerical integration functions in `scipy.integrate`.\n",
      "  df.at[i, energy_col] = np.trapz(\n",
      "/var/folders/gt/zm5jcrpj6x5fxkp1kx5vrns80000gn/T/ipykernel_37543/639318165.py:489: DeprecationWarning: `trapz` is deprecated. Use `trapezoid` instead, or one of the numerical integration functions in `scipy.integrate`.\n",
      "  df.at[i, energy_col] = np.trapz(\n",
      "/var/folders/gt/zm5jcrpj6x5fxkp1kx5vrns80000gn/T/ipykernel_37543/639318165.py:489: DeprecationWarning: `trapz` is deprecated. Use `trapezoid` instead, or one of the numerical integration functions in `scipy.integrate`.\n",
      "  df.at[i, energy_col] = np.trapz(\n",
      "/var/folders/gt/zm5jcrpj6x5fxkp1kx5vrns80000gn/T/ipykernel_37543/639318165.py:489: DeprecationWarning: `trapz` is deprecated. Use `trapezoid` instead, or one of the numerical integration functions in `scipy.integrate`.\n",
      "  df.at[i, energy_col] = np.trapz(\n"
     ]
    },
    {
     "name": "stdout",
     "output_type": "stream",
     "text": [
      "1_3_iPhone_TX_3G_UMTS_6Pro_RX_4G_VoLTE_sps256.csv. passed. Count: 10\n"
     ]
    },
    {
     "name": "stderr",
     "output_type": "stream",
     "text": [
      "/var/folders/gt/zm5jcrpj6x5fxkp1kx5vrns80000gn/T/ipykernel_37543/639318165.py:489: DeprecationWarning: `trapz` is deprecated. Use `trapezoid` instead, or one of the numerical integration functions in `scipy.integrate`.\n",
      "  df.at[i, energy_col] = np.trapz(\n",
      "/var/folders/gt/zm5jcrpj6x5fxkp1kx5vrns80000gn/T/ipykernel_37543/639318165.py:489: DeprecationWarning: `trapz` is deprecated. Use `trapezoid` instead, or one of the numerical integration functions in `scipy.integrate`.\n",
      "  df.at[i, energy_col] = np.trapz(\n",
      "/var/folders/gt/zm5jcrpj6x5fxkp1kx5vrns80000gn/T/ipykernel_37543/639318165.py:489: DeprecationWarning: `trapz` is deprecated. Use `trapezoid` instead, or one of the numerical integration functions in `scipy.integrate`.\n",
      "  df.at[i, energy_col] = np.trapz(\n",
      "/var/folders/gt/zm5jcrpj6x5fxkp1kx5vrns80000gn/T/ipykernel_37543/639318165.py:489: DeprecationWarning: `trapz` is deprecated. Use `trapezoid` instead, or one of the numerical integration functions in `scipy.integrate`.\n",
      "  df.at[i, energy_col] = np.trapz(\n"
     ]
    },
    {
     "name": "stdout",
     "output_type": "stream",
     "text": [
      "3_3_6Pro_TX_3G_UMTS_iPhone_RX_4G_VoLTE_sps256.csv. passed. Count: 11\n"
     ]
    },
    {
     "name": "stderr",
     "output_type": "stream",
     "text": [
      "/var/folders/gt/zm5jcrpj6x5fxkp1kx5vrns80000gn/T/ipykernel_37543/639318165.py:489: DeprecationWarning: `trapz` is deprecated. Use `trapezoid` instead, or one of the numerical integration functions in `scipy.integrate`.\n",
      "  df.at[i, energy_col] = np.trapz(\n",
      "/var/folders/gt/zm5jcrpj6x5fxkp1kx5vrns80000gn/T/ipykernel_37543/639318165.py:489: DeprecationWarning: `trapz` is deprecated. Use `trapezoid` instead, or one of the numerical integration functions in `scipy.integrate`.\n",
      "  df.at[i, energy_col] = np.trapz(\n",
      "/var/folders/gt/zm5jcrpj6x5fxkp1kx5vrns80000gn/T/ipykernel_37543/639318165.py:489: DeprecationWarning: `trapz` is deprecated. Use `trapezoid` instead, or one of the numerical integration functions in `scipy.integrate`.\n",
      "  df.at[i, energy_col] = np.trapz(\n",
      "/var/folders/gt/zm5jcrpj6x5fxkp1kx5vrns80000gn/T/ipykernel_37543/639318165.py:489: DeprecationWarning: `trapz` is deprecated. Use `trapezoid` instead, or one of the numerical integration functions in `scipy.integrate`.\n",
      "  df.at[i, energy_col] = np.trapz(\n"
     ]
    },
    {
     "name": "stdout",
     "output_type": "stream",
     "text": [
      "2_3_6Pro_TX_3G_UMTS_iPhone_RX_4G_VoLTE_sps256.csv. passed. Count: 12\n"
     ]
    },
    {
     "name": "stderr",
     "output_type": "stream",
     "text": [
      "/var/folders/gt/zm5jcrpj6x5fxkp1kx5vrns80000gn/T/ipykernel_37543/639318165.py:489: DeprecationWarning: `trapz` is deprecated. Use `trapezoid` instead, or one of the numerical integration functions in `scipy.integrate`.\n",
      "  df.at[i, energy_col] = np.trapz(\n",
      "/var/folders/gt/zm5jcrpj6x5fxkp1kx5vrns80000gn/T/ipykernel_37543/639318165.py:489: DeprecationWarning: `trapz` is deprecated. Use `trapezoid` instead, or one of the numerical integration functions in `scipy.integrate`.\n",
      "  df.at[i, energy_col] = np.trapz(\n",
      "/var/folders/gt/zm5jcrpj6x5fxkp1kx5vrns80000gn/T/ipykernel_37543/639318165.py:489: DeprecationWarning: `trapz` is deprecated. Use `trapezoid` instead, or one of the numerical integration functions in `scipy.integrate`.\n",
      "  df.at[i, energy_col] = np.trapz(\n",
      "/var/folders/gt/zm5jcrpj6x5fxkp1kx5vrns80000gn/T/ipykernel_37543/639318165.py:489: DeprecationWarning: `trapz` is deprecated. Use `trapezoid` instead, or one of the numerical integration functions in `scipy.integrate`.\n",
      "  df.at[i, energy_col] = np.trapz(\n"
     ]
    },
    {
     "name": "stdout",
     "output_type": "stream",
     "text": [
      "1_3_6Pro_TX_3G_UMTS_iPhone_RX_4G_VoLTE_sps256.csv. passed. Count: 13\n"
     ]
    },
    {
     "name": "stderr",
     "output_type": "stream",
     "text": [
      "/var/folders/gt/zm5jcrpj6x5fxkp1kx5vrns80000gn/T/ipykernel_37543/639318165.py:489: DeprecationWarning: `trapz` is deprecated. Use `trapezoid` instead, or one of the numerical integration functions in `scipy.integrate`.\n",
      "  df.at[i, energy_col] = np.trapz(\n",
      "/var/folders/gt/zm5jcrpj6x5fxkp1kx5vrns80000gn/T/ipykernel_37543/639318165.py:489: DeprecationWarning: `trapz` is deprecated. Use `trapezoid` instead, or one of the numerical integration functions in `scipy.integrate`.\n",
      "  df.at[i, energy_col] = np.trapz(\n",
      "/var/folders/gt/zm5jcrpj6x5fxkp1kx5vrns80000gn/T/ipykernel_37543/639318165.py:489: DeprecationWarning: `trapz` is deprecated. Use `trapezoid` instead, or one of the numerical integration functions in `scipy.integrate`.\n",
      "  df.at[i, energy_col] = np.trapz(\n",
      "/var/folders/gt/zm5jcrpj6x5fxkp1kx5vrns80000gn/T/ipykernel_37543/639318165.py:489: DeprecationWarning: `trapz` is deprecated. Use `trapezoid` instead, or one of the numerical integration functions in `scipy.integrate`.\n",
      "  df.at[i, energy_col] = np.trapz(\n"
     ]
    },
    {
     "name": "stdout",
     "output_type": "stream",
     "text": [
      "1_3_6Pro_TX_4G_VoWIFI_iPhone_RX_4G_VoLTE_sps256.csv. passed. Count: 14\n"
     ]
    },
    {
     "name": "stderr",
     "output_type": "stream",
     "text": [
      "/var/folders/gt/zm5jcrpj6x5fxkp1kx5vrns80000gn/T/ipykernel_37543/639318165.py:489: DeprecationWarning: `trapz` is deprecated. Use `trapezoid` instead, or one of the numerical integration functions in `scipy.integrate`.\n",
      "  df.at[i, energy_col] = np.trapz(\n",
      "/var/folders/gt/zm5jcrpj6x5fxkp1kx5vrns80000gn/T/ipykernel_37543/639318165.py:489: DeprecationWarning: `trapz` is deprecated. Use `trapezoid` instead, or one of the numerical integration functions in `scipy.integrate`.\n",
      "  df.at[i, energy_col] = np.trapz(\n",
      "/var/folders/gt/zm5jcrpj6x5fxkp1kx5vrns80000gn/T/ipykernel_37543/639318165.py:489: DeprecationWarning: `trapz` is deprecated. Use `trapezoid` instead, or one of the numerical integration functions in `scipy.integrate`.\n",
      "  df.at[i, energy_col] = np.trapz(\n",
      "/var/folders/gt/zm5jcrpj6x5fxkp1kx5vrns80000gn/T/ipykernel_37543/639318165.py:489: DeprecationWarning: `trapz` is deprecated. Use `trapezoid` instead, or one of the numerical integration functions in `scipy.integrate`.\n",
      "  df.at[i, energy_col] = np.trapz(\n"
     ]
    },
    {
     "name": "stdout",
     "output_type": "stream",
     "text": [
      "2_3_6Pro_TX_4G_VoWIFI_iPhone_RX_4G_VoLTE_sps256.csv. passed. Count: 15\n"
     ]
    },
    {
     "name": "stderr",
     "output_type": "stream",
     "text": [
      "/var/folders/gt/zm5jcrpj6x5fxkp1kx5vrns80000gn/T/ipykernel_37543/639318165.py:489: DeprecationWarning: `trapz` is deprecated. Use `trapezoid` instead, or one of the numerical integration functions in `scipy.integrate`.\n",
      "  df.at[i, energy_col] = np.trapz(\n",
      "/var/folders/gt/zm5jcrpj6x5fxkp1kx5vrns80000gn/T/ipykernel_37543/639318165.py:489: DeprecationWarning: `trapz` is deprecated. Use `trapezoid` instead, or one of the numerical integration functions in `scipy.integrate`.\n",
      "  df.at[i, energy_col] = np.trapz(\n",
      "/var/folders/gt/zm5jcrpj6x5fxkp1kx5vrns80000gn/T/ipykernel_37543/639318165.py:489: DeprecationWarning: `trapz` is deprecated. Use `trapezoid` instead, or one of the numerical integration functions in `scipy.integrate`.\n",
      "  df.at[i, energy_col] = np.trapz(\n",
      "/var/folders/gt/zm5jcrpj6x5fxkp1kx5vrns80000gn/T/ipykernel_37543/639318165.py:489: DeprecationWarning: `trapz` is deprecated. Use `trapezoid` instead, or one of the numerical integration functions in `scipy.integrate`.\n",
      "  df.at[i, energy_col] = np.trapz(\n"
     ]
    },
    {
     "name": "stdout",
     "output_type": "stream",
     "text": [
      "3_3_6Pro_TX_4G_VoWIFI_iPhone_RX_4G_VoLTE_sps256.csv. passed. Count: 16\n"
     ]
    },
    {
     "name": "stderr",
     "output_type": "stream",
     "text": [
      "/var/folders/gt/zm5jcrpj6x5fxkp1kx5vrns80000gn/T/ipykernel_37543/639318165.py:489: DeprecationWarning: `trapz` is deprecated. Use `trapezoid` instead, or one of the numerical integration functions in `scipy.integrate`.\n",
      "  df.at[i, energy_col] = np.trapz(\n",
      "/var/folders/gt/zm5jcrpj6x5fxkp1kx5vrns80000gn/T/ipykernel_37543/639318165.py:489: DeprecationWarning: `trapz` is deprecated. Use `trapezoid` instead, or one of the numerical integration functions in `scipy.integrate`.\n",
      "  df.at[i, energy_col] = np.trapz(\n",
      "/var/folders/gt/zm5jcrpj6x5fxkp1kx5vrns80000gn/T/ipykernel_37543/639318165.py:489: DeprecationWarning: `trapz` is deprecated. Use `trapezoid` instead, or one of the numerical integration functions in `scipy.integrate`.\n",
      "  df.at[i, energy_col] = np.trapz(\n",
      "/var/folders/gt/zm5jcrpj6x5fxkp1kx5vrns80000gn/T/ipykernel_37543/639318165.py:489: DeprecationWarning: `trapz` is deprecated. Use `trapezoid` instead, or one of the numerical integration functions in `scipy.integrate`.\n",
      "  df.at[i, energy_col] = np.trapz(\n"
     ]
    },
    {
     "name": "stdout",
     "output_type": "stream",
     "text": [
      "3_3_6Pro_TX_4G_VoLTE_iPhone_RX_4G_VoLTE_sps256.csv. passed. Count: 17\n"
     ]
    },
    {
     "name": "stderr",
     "output_type": "stream",
     "text": [
      "/var/folders/gt/zm5jcrpj6x5fxkp1kx5vrns80000gn/T/ipykernel_37543/639318165.py:489: DeprecationWarning: `trapz` is deprecated. Use `trapezoid` instead, or one of the numerical integration functions in `scipy.integrate`.\n",
      "  df.at[i, energy_col] = np.trapz(\n",
      "/var/folders/gt/zm5jcrpj6x5fxkp1kx5vrns80000gn/T/ipykernel_37543/639318165.py:489: DeprecationWarning: `trapz` is deprecated. Use `trapezoid` instead, or one of the numerical integration functions in `scipy.integrate`.\n",
      "  df.at[i, energy_col] = np.trapz(\n",
      "/var/folders/gt/zm5jcrpj6x5fxkp1kx5vrns80000gn/T/ipykernel_37543/639318165.py:489: DeprecationWarning: `trapz` is deprecated. Use `trapezoid` instead, or one of the numerical integration functions in `scipy.integrate`.\n",
      "  df.at[i, energy_col] = np.trapz(\n",
      "/var/folders/gt/zm5jcrpj6x5fxkp1kx5vrns80000gn/T/ipykernel_37543/639318165.py:489: DeprecationWarning: `trapz` is deprecated. Use `trapezoid` instead, or one of the numerical integration functions in `scipy.integrate`.\n",
      "  df.at[i, energy_col] = np.trapz(\n"
     ]
    },
    {
     "name": "stdout",
     "output_type": "stream",
     "text": [
      "2_3_6Pro_TX_4G_VoLTE_iPhone_RX_4G_VoLTE_sps256.csv. passed. Count: 18\n"
     ]
    },
    {
     "name": "stderr",
     "output_type": "stream",
     "text": [
      "/var/folders/gt/zm5jcrpj6x5fxkp1kx5vrns80000gn/T/ipykernel_37543/639318165.py:489: DeprecationWarning: `trapz` is deprecated. Use `trapezoid` instead, or one of the numerical integration functions in `scipy.integrate`.\n",
      "  df.at[i, energy_col] = np.trapz(\n",
      "/var/folders/gt/zm5jcrpj6x5fxkp1kx5vrns80000gn/T/ipykernel_37543/639318165.py:489: DeprecationWarning: `trapz` is deprecated. Use `trapezoid` instead, or one of the numerical integration functions in `scipy.integrate`.\n",
      "  df.at[i, energy_col] = np.trapz(\n",
      "/var/folders/gt/zm5jcrpj6x5fxkp1kx5vrns80000gn/T/ipykernel_37543/639318165.py:489: DeprecationWarning: `trapz` is deprecated. Use `trapezoid` instead, or one of the numerical integration functions in `scipy.integrate`.\n",
      "  df.at[i, energy_col] = np.trapz(\n",
      "/var/folders/gt/zm5jcrpj6x5fxkp1kx5vrns80000gn/T/ipykernel_37543/639318165.py:489: DeprecationWarning: `trapz` is deprecated. Use `trapezoid` instead, or one of the numerical integration functions in `scipy.integrate`.\n",
      "  df.at[i, energy_col] = np.trapz(\n"
     ]
    },
    {
     "name": "stdout",
     "output_type": "stream",
     "text": [
      "1_3_6Pro_TX_4G_VoLTE_iPhone_RX_4G_VoLTE_sps256.csv. passed. Count: 19\n"
     ]
    },
    {
     "name": "stderr",
     "output_type": "stream",
     "text": [
      "/var/folders/gt/zm5jcrpj6x5fxkp1kx5vrns80000gn/T/ipykernel_37543/639318165.py:489: DeprecationWarning: `trapz` is deprecated. Use `trapezoid` instead, or one of the numerical integration functions in `scipy.integrate`.\n",
      "  df.at[i, energy_col] = np.trapz(\n",
      "/var/folders/gt/zm5jcrpj6x5fxkp1kx5vrns80000gn/T/ipykernel_37543/639318165.py:489: DeprecationWarning: `trapz` is deprecated. Use `trapezoid` instead, or one of the numerical integration functions in `scipy.integrate`.\n",
      "  df.at[i, energy_col] = np.trapz(\n",
      "/var/folders/gt/zm5jcrpj6x5fxkp1kx5vrns80000gn/T/ipykernel_37543/639318165.py:489: DeprecationWarning: `trapz` is deprecated. Use `trapezoid` instead, or one of the numerical integration functions in `scipy.integrate`.\n",
      "  df.at[i, energy_col] = np.trapz(\n",
      "/var/folders/gt/zm5jcrpj6x5fxkp1kx5vrns80000gn/T/ipykernel_37543/639318165.py:489: DeprecationWarning: `trapz` is deprecated. Use `trapezoid` instead, or one of the numerical integration functions in `scipy.integrate`.\n",
      "  df.at[i, energy_col] = np.trapz(\n"
     ]
    },
    {
     "name": "stdout",
     "output_type": "stream",
     "text": [
      "1_3_iPhone_TX_4G_VoLTE_6Pro_RX_3G_UMTS_sps256.csv. passed. Count: 20\n"
     ]
    },
    {
     "name": "stderr",
     "output_type": "stream",
     "text": [
      "/var/folders/gt/zm5jcrpj6x5fxkp1kx5vrns80000gn/T/ipykernel_37543/639318165.py:489: DeprecationWarning: `trapz` is deprecated. Use `trapezoid` instead, or one of the numerical integration functions in `scipy.integrate`.\n",
      "  df.at[i, energy_col] = np.trapz(\n",
      "/var/folders/gt/zm5jcrpj6x5fxkp1kx5vrns80000gn/T/ipykernel_37543/639318165.py:489: DeprecationWarning: `trapz` is deprecated. Use `trapezoid` instead, or one of the numerical integration functions in `scipy.integrate`.\n",
      "  df.at[i, energy_col] = np.trapz(\n",
      "/var/folders/gt/zm5jcrpj6x5fxkp1kx5vrns80000gn/T/ipykernel_37543/639318165.py:489: DeprecationWarning: `trapz` is deprecated. Use `trapezoid` instead, or one of the numerical integration functions in `scipy.integrate`.\n",
      "  df.at[i, energy_col] = np.trapz(\n",
      "/var/folders/gt/zm5jcrpj6x5fxkp1kx5vrns80000gn/T/ipykernel_37543/639318165.py:489: DeprecationWarning: `trapz` is deprecated. Use `trapezoid` instead, or one of the numerical integration functions in `scipy.integrate`.\n",
      "  df.at[i, energy_col] = np.trapz(\n"
     ]
    },
    {
     "name": "stdout",
     "output_type": "stream",
     "text": [
      "1_3_iPhone_TX_4G_VoLTE_6Pro_RX_4G_VoWIFI_sps256.csv. passed. Count: 21\n"
     ]
    },
    {
     "name": "stderr",
     "output_type": "stream",
     "text": [
      "/var/folders/gt/zm5jcrpj6x5fxkp1kx5vrns80000gn/T/ipykernel_37543/639318165.py:489: DeprecationWarning: `trapz` is deprecated. Use `trapezoid` instead, or one of the numerical integration functions in `scipy.integrate`.\n",
      "  df.at[i, energy_col] = np.trapz(\n",
      "/var/folders/gt/zm5jcrpj6x5fxkp1kx5vrns80000gn/T/ipykernel_37543/639318165.py:489: DeprecationWarning: `trapz` is deprecated. Use `trapezoid` instead, or one of the numerical integration functions in `scipy.integrate`.\n",
      "  df.at[i, energy_col] = np.trapz(\n",
      "/var/folders/gt/zm5jcrpj6x5fxkp1kx5vrns80000gn/T/ipykernel_37543/639318165.py:489: DeprecationWarning: `trapz` is deprecated. Use `trapezoid` instead, or one of the numerical integration functions in `scipy.integrate`.\n",
      "  df.at[i, energy_col] = np.trapz(\n",
      "/var/folders/gt/zm5jcrpj6x5fxkp1kx5vrns80000gn/T/ipykernel_37543/639318165.py:489: DeprecationWarning: `trapz` is deprecated. Use `trapezoid` instead, or one of the numerical integration functions in `scipy.integrate`.\n",
      "  df.at[i, energy_col] = np.trapz(\n"
     ]
    },
    {
     "name": "stdout",
     "output_type": "stream",
     "text": [
      "1_3_iPhone_TX_4G_VoLTE_6Pro_RX_4G_VoLTE_sps256.csv. passed. Count: 22\n"
     ]
    },
    {
     "name": "stderr",
     "output_type": "stream",
     "text": [
      "/var/folders/gt/zm5jcrpj6x5fxkp1kx5vrns80000gn/T/ipykernel_37543/639318165.py:489: DeprecationWarning: `trapz` is deprecated. Use `trapezoid` instead, or one of the numerical integration functions in `scipy.integrate`.\n",
      "  df.at[i, energy_col] = np.trapz(\n",
      "/var/folders/gt/zm5jcrpj6x5fxkp1kx5vrns80000gn/T/ipykernel_37543/639318165.py:489: DeprecationWarning: `trapz` is deprecated. Use `trapezoid` instead, or one of the numerical integration functions in `scipy.integrate`.\n",
      "  df.at[i, energy_col] = np.trapz(\n",
      "/var/folders/gt/zm5jcrpj6x5fxkp1kx5vrns80000gn/T/ipykernel_37543/639318165.py:489: DeprecationWarning: `trapz` is deprecated. Use `trapezoid` instead, or one of the numerical integration functions in `scipy.integrate`.\n",
      "  df.at[i, energy_col] = np.trapz(\n",
      "/var/folders/gt/zm5jcrpj6x5fxkp1kx5vrns80000gn/T/ipykernel_37543/639318165.py:489: DeprecationWarning: `trapz` is deprecated. Use `trapezoid` instead, or one of the numerical integration functions in `scipy.integrate`.\n",
      "  df.at[i, energy_col] = np.trapz(\n"
     ]
    },
    {
     "name": "stdout",
     "output_type": "stream",
     "text": [
      "2_3_6Pro_TX_E_UMTS_iPhone_RX_4G_VoLTE_sps256.csv. passed. Count: 23\n"
     ]
    },
    {
     "name": "stderr",
     "output_type": "stream",
     "text": [
      "/var/folders/gt/zm5jcrpj6x5fxkp1kx5vrns80000gn/T/ipykernel_37543/639318165.py:489: DeprecationWarning: `trapz` is deprecated. Use `trapezoid` instead, or one of the numerical integration functions in `scipy.integrate`.\n",
      "  df.at[i, energy_col] = np.trapz(\n",
      "/var/folders/gt/zm5jcrpj6x5fxkp1kx5vrns80000gn/T/ipykernel_37543/639318165.py:489: DeprecationWarning: `trapz` is deprecated. Use `trapezoid` instead, or one of the numerical integration functions in `scipy.integrate`.\n",
      "  df.at[i, energy_col] = np.trapz(\n",
      "/var/folders/gt/zm5jcrpj6x5fxkp1kx5vrns80000gn/T/ipykernel_37543/639318165.py:489: DeprecationWarning: `trapz` is deprecated. Use `trapezoid` instead, or one of the numerical integration functions in `scipy.integrate`.\n",
      "  df.at[i, energy_col] = np.trapz(\n",
      "/var/folders/gt/zm5jcrpj6x5fxkp1kx5vrns80000gn/T/ipykernel_37543/639318165.py:489: DeprecationWarning: `trapz` is deprecated. Use `trapezoid` instead, or one of the numerical integration functions in `scipy.integrate`.\n",
      "  df.at[i, energy_col] = np.trapz(\n"
     ]
    },
    {
     "name": "stdout",
     "output_type": "stream",
     "text": [
      "2_2_iPhone_TX_4G_VoLTE_6Pro_RX_5G_VoLTE_sps256.csv. passed. Count: 24\n"
     ]
    },
    {
     "name": "stderr",
     "output_type": "stream",
     "text": [
      "/var/folders/gt/zm5jcrpj6x5fxkp1kx5vrns80000gn/T/ipykernel_37543/639318165.py:489: DeprecationWarning: `trapz` is deprecated. Use `trapezoid` instead, or one of the numerical integration functions in `scipy.integrate`.\n",
      "  df.at[i, energy_col] = np.trapz(\n",
      "/var/folders/gt/zm5jcrpj6x5fxkp1kx5vrns80000gn/T/ipykernel_37543/639318165.py:489: DeprecationWarning: `trapz` is deprecated. Use `trapezoid` instead, or one of the numerical integration functions in `scipy.integrate`.\n",
      "  df.at[i, energy_col] = np.trapz(\n",
      "/var/folders/gt/zm5jcrpj6x5fxkp1kx5vrns80000gn/T/ipykernel_37543/639318165.py:489: DeprecationWarning: `trapz` is deprecated. Use `trapezoid` instead, or one of the numerical integration functions in `scipy.integrate`.\n",
      "  df.at[i, energy_col] = np.trapz(\n",
      "/var/folders/gt/zm5jcrpj6x5fxkp1kx5vrns80000gn/T/ipykernel_37543/639318165.py:489: DeprecationWarning: `trapz` is deprecated. Use `trapezoid` instead, or one of the numerical integration functions in `scipy.integrate`.\n",
      "  df.at[i, energy_col] = np.trapz(\n"
     ]
    },
    {
     "name": "stdout",
     "output_type": "stream",
     "text": [
      "1_2_iPhone_TX_4G_VoLTE_6Pro_RX_5G_VoLTE_sps256.csv. passed. Count: 25\n"
     ]
    },
    {
     "name": "stderr",
     "output_type": "stream",
     "text": [
      "/var/folders/gt/zm5jcrpj6x5fxkp1kx5vrns80000gn/T/ipykernel_37543/639318165.py:489: DeprecationWarning: `trapz` is deprecated. Use `trapezoid` instead, or one of the numerical integration functions in `scipy.integrate`.\n",
      "  df.at[i, energy_col] = np.trapz(\n",
      "/var/folders/gt/zm5jcrpj6x5fxkp1kx5vrns80000gn/T/ipykernel_37543/639318165.py:489: DeprecationWarning: `trapz` is deprecated. Use `trapezoid` instead, or one of the numerical integration functions in `scipy.integrate`.\n",
      "  df.at[i, energy_col] = np.trapz(\n",
      "/var/folders/gt/zm5jcrpj6x5fxkp1kx5vrns80000gn/T/ipykernel_37543/639318165.py:489: DeprecationWarning: `trapz` is deprecated. Use `trapezoid` instead, or one of the numerical integration functions in `scipy.integrate`.\n",
      "  df.at[i, energy_col] = np.trapz(\n",
      "/var/folders/gt/zm5jcrpj6x5fxkp1kx5vrns80000gn/T/ipykernel_37543/639318165.py:489: DeprecationWarning: `trapz` is deprecated. Use `trapezoid` instead, or one of the numerical integration functions in `scipy.integrate`.\n",
      "  df.at[i, energy_col] = np.trapz(\n"
     ]
    },
    {
     "name": "stdout",
     "output_type": "stream",
     "text": [
      "3_2_iPhone_TX_4G_VoLTE_6Pro_RX_5G_VoLTE_sps256.csv. passed. Count: 26\n"
     ]
    },
    {
     "name": "stderr",
     "output_type": "stream",
     "text": [
      "/var/folders/gt/zm5jcrpj6x5fxkp1kx5vrns80000gn/T/ipykernel_37543/639318165.py:489: DeprecationWarning: `trapz` is deprecated. Use `trapezoid` instead, or one of the numerical integration functions in `scipy.integrate`.\n",
      "  df.at[i, energy_col] = np.trapz(\n",
      "/var/folders/gt/zm5jcrpj6x5fxkp1kx5vrns80000gn/T/ipykernel_37543/639318165.py:489: DeprecationWarning: `trapz` is deprecated. Use `trapezoid` instead, or one of the numerical integration functions in `scipy.integrate`.\n",
      "  df.at[i, energy_col] = np.trapz(\n",
      "/var/folders/gt/zm5jcrpj6x5fxkp1kx5vrns80000gn/T/ipykernel_37543/639318165.py:489: DeprecationWarning: `trapz` is deprecated. Use `trapezoid` instead, or one of the numerical integration functions in `scipy.integrate`.\n",
      "  df.at[i, energy_col] = np.trapz(\n",
      "/var/folders/gt/zm5jcrpj6x5fxkp1kx5vrns80000gn/T/ipykernel_37543/639318165.py:489: DeprecationWarning: `trapz` is deprecated. Use `trapezoid` instead, or one of the numerical integration functions in `scipy.integrate`.\n",
      "  df.at[i, energy_col] = np.trapz(\n"
     ]
    },
    {
     "name": "stdout",
     "output_type": "stream",
     "text": [
      "4_2_iPhone_TX_4G_VoLTE_6Pro_RX_5G_VoLTE_sps256.csv. passed. Count: 27\n"
     ]
    },
    {
     "name": "stderr",
     "output_type": "stream",
     "text": [
      "/var/folders/gt/zm5jcrpj6x5fxkp1kx5vrns80000gn/T/ipykernel_37543/639318165.py:489: DeprecationWarning: `trapz` is deprecated. Use `trapezoid` instead, or one of the numerical integration functions in `scipy.integrate`.\n",
      "  df.at[i, energy_col] = np.trapz(\n",
      "/var/folders/gt/zm5jcrpj6x5fxkp1kx5vrns80000gn/T/ipykernel_37543/639318165.py:489: DeprecationWarning: `trapz` is deprecated. Use `trapezoid` instead, or one of the numerical integration functions in `scipy.integrate`.\n",
      "  df.at[i, energy_col] = np.trapz(\n",
      "/var/folders/gt/zm5jcrpj6x5fxkp1kx5vrns80000gn/T/ipykernel_37543/639318165.py:489: DeprecationWarning: `trapz` is deprecated. Use `trapezoid` instead, or one of the numerical integration functions in `scipy.integrate`.\n",
      "  df.at[i, energy_col] = np.trapz(\n",
      "/var/folders/gt/zm5jcrpj6x5fxkp1kx5vrns80000gn/T/ipykernel_37543/639318165.py:489: DeprecationWarning: `trapz` is deprecated. Use `trapezoid` instead, or one of the numerical integration functions in `scipy.integrate`.\n",
      "  df.at[i, energy_col] = np.trapz(\n"
     ]
    },
    {
     "name": "stdout",
     "output_type": "stream",
     "text": [
      "1_2_6Pro_TX_5G_VoLTE_iPhone_RX_4G_VoLTE_sps256.csv. passed. Count: 28\n"
     ]
    },
    {
     "name": "stderr",
     "output_type": "stream",
     "text": [
      "/var/folders/gt/zm5jcrpj6x5fxkp1kx5vrns80000gn/T/ipykernel_37543/639318165.py:489: DeprecationWarning: `trapz` is deprecated. Use `trapezoid` instead, or one of the numerical integration functions in `scipy.integrate`.\n",
      "  df.at[i, energy_col] = np.trapz(\n",
      "/var/folders/gt/zm5jcrpj6x5fxkp1kx5vrns80000gn/T/ipykernel_37543/639318165.py:489: DeprecationWarning: `trapz` is deprecated. Use `trapezoid` instead, or one of the numerical integration functions in `scipy.integrate`.\n",
      "  df.at[i, energy_col] = np.trapz(\n",
      "/var/folders/gt/zm5jcrpj6x5fxkp1kx5vrns80000gn/T/ipykernel_37543/639318165.py:489: DeprecationWarning: `trapz` is deprecated. Use `trapezoid` instead, or one of the numerical integration functions in `scipy.integrate`.\n",
      "  df.at[i, energy_col] = np.trapz(\n",
      "/var/folders/gt/zm5jcrpj6x5fxkp1kx5vrns80000gn/T/ipykernel_37543/639318165.py:489: DeprecationWarning: `trapz` is deprecated. Use `trapezoid` instead, or one of the numerical integration functions in `scipy.integrate`.\n",
      "  df.at[i, energy_col] = np.trapz(\n"
     ]
    },
    {
     "name": "stdout",
     "output_type": "stream",
     "text": [
      "2_2_6Pro_TX_5G_VoLTE_iPhone_RX_4G_VoLTE_sps256.csv. passed. Count: 29\n"
     ]
    },
    {
     "name": "stderr",
     "output_type": "stream",
     "text": [
      "/var/folders/gt/zm5jcrpj6x5fxkp1kx5vrns80000gn/T/ipykernel_37543/639318165.py:489: DeprecationWarning: `trapz` is deprecated. Use `trapezoid` instead, or one of the numerical integration functions in `scipy.integrate`.\n",
      "  df.at[i, energy_col] = np.trapz(\n",
      "/var/folders/gt/zm5jcrpj6x5fxkp1kx5vrns80000gn/T/ipykernel_37543/639318165.py:489: DeprecationWarning: `trapz` is deprecated. Use `trapezoid` instead, or one of the numerical integration functions in `scipy.integrate`.\n",
      "  df.at[i, energy_col] = np.trapz(\n",
      "/var/folders/gt/zm5jcrpj6x5fxkp1kx5vrns80000gn/T/ipykernel_37543/639318165.py:489: DeprecationWarning: `trapz` is deprecated. Use `trapezoid` instead, or one of the numerical integration functions in `scipy.integrate`.\n",
      "  df.at[i, energy_col] = np.trapz(\n",
      "/var/folders/gt/zm5jcrpj6x5fxkp1kx5vrns80000gn/T/ipykernel_37543/639318165.py:489: DeprecationWarning: `trapz` is deprecated. Use `trapezoid` instead, or one of the numerical integration functions in `scipy.integrate`.\n",
      "  df.at[i, energy_col] = np.trapz(\n"
     ]
    },
    {
     "name": "stdout",
     "output_type": "stream",
     "text": [
      "3_2_6Pro_TX_5G_VoLTE_iPhone_RX_4G_VoLTE_sps256.csv. passed. Count: 30\n"
     ]
    },
    {
     "name": "stderr",
     "output_type": "stream",
     "text": [
      "/var/folders/gt/zm5jcrpj6x5fxkp1kx5vrns80000gn/T/ipykernel_37543/639318165.py:489: DeprecationWarning: `trapz` is deprecated. Use `trapezoid` instead, or one of the numerical integration functions in `scipy.integrate`.\n",
      "  df.at[i, energy_col] = np.trapz(\n",
      "/var/folders/gt/zm5jcrpj6x5fxkp1kx5vrns80000gn/T/ipykernel_37543/639318165.py:489: DeprecationWarning: `trapz` is deprecated. Use `trapezoid` instead, or one of the numerical integration functions in `scipy.integrate`.\n",
      "  df.at[i, energy_col] = np.trapz(\n",
      "/var/folders/gt/zm5jcrpj6x5fxkp1kx5vrns80000gn/T/ipykernel_37543/639318165.py:489: DeprecationWarning: `trapz` is deprecated. Use `trapezoid` instead, or one of the numerical integration functions in `scipy.integrate`.\n",
      "  df.at[i, energy_col] = np.trapz(\n",
      "/var/folders/gt/zm5jcrpj6x5fxkp1kx5vrns80000gn/T/ipykernel_37543/639318165.py:489: DeprecationWarning: `trapz` is deprecated. Use `trapezoid` instead, or one of the numerical integration functions in `scipy.integrate`.\n",
      "  df.at[i, energy_col] = np.trapz(\n"
     ]
    },
    {
     "name": "stdout",
     "output_type": "stream",
     "text": [
      "3_3_6Pro_TX_E_UMTS_iPhone_RX_4G_UMTS_sps256.csv. passed. Count: 31\n"
     ]
    },
    {
     "name": "stderr",
     "output_type": "stream",
     "text": [
      "/var/folders/gt/zm5jcrpj6x5fxkp1kx5vrns80000gn/T/ipykernel_37543/639318165.py:489: DeprecationWarning: `trapz` is deprecated. Use `trapezoid` instead, or one of the numerical integration functions in `scipy.integrate`.\n",
      "  df.at[i, energy_col] = np.trapz(\n",
      "/var/folders/gt/zm5jcrpj6x5fxkp1kx5vrns80000gn/T/ipykernel_37543/639318165.py:489: DeprecationWarning: `trapz` is deprecated. Use `trapezoid` instead, or one of the numerical integration functions in `scipy.integrate`.\n",
      "  df.at[i, energy_col] = np.trapz(\n",
      "/var/folders/gt/zm5jcrpj6x5fxkp1kx5vrns80000gn/T/ipykernel_37543/639318165.py:489: DeprecationWarning: `trapz` is deprecated. Use `trapezoid` instead, or one of the numerical integration functions in `scipy.integrate`.\n",
      "  df.at[i, energy_col] = np.trapz(\n",
      "/var/folders/gt/zm5jcrpj6x5fxkp1kx5vrns80000gn/T/ipykernel_37543/639318165.py:489: DeprecationWarning: `trapz` is deprecated. Use `trapezoid` instead, or one of the numerical integration functions in `scipy.integrate`.\n",
      "  df.at[i, energy_col] = np.trapz(\n"
     ]
    },
    {
     "name": "stdout",
     "output_type": "stream",
     "text": [
      "4_3_6Pro_TX_E_UMTS_iPhone_RX_4G_UMTS_sps256.csv. passed. Count: 32\n"
     ]
    },
    {
     "name": "stderr",
     "output_type": "stream",
     "text": [
      "/var/folders/gt/zm5jcrpj6x5fxkp1kx5vrns80000gn/T/ipykernel_37543/639318165.py:489: DeprecationWarning: `trapz` is deprecated. Use `trapezoid` instead, or one of the numerical integration functions in `scipy.integrate`.\n",
      "  df.at[i, energy_col] = np.trapz(\n",
      "/var/folders/gt/zm5jcrpj6x5fxkp1kx5vrns80000gn/T/ipykernel_37543/639318165.py:489: DeprecationWarning: `trapz` is deprecated. Use `trapezoid` instead, or one of the numerical integration functions in `scipy.integrate`.\n",
      "  df.at[i, energy_col] = np.trapz(\n",
      "/var/folders/gt/zm5jcrpj6x5fxkp1kx5vrns80000gn/T/ipykernel_37543/639318165.py:489: DeprecationWarning: `trapz` is deprecated. Use `trapezoid` instead, or one of the numerical integration functions in `scipy.integrate`.\n",
      "  df.at[i, energy_col] = np.trapz(\n",
      "/var/folders/gt/zm5jcrpj6x5fxkp1kx5vrns80000gn/T/ipykernel_37543/639318165.py:489: DeprecationWarning: `trapz` is deprecated. Use `trapezoid` instead, or one of the numerical integration functions in `scipy.integrate`.\n",
      "  df.at[i, energy_col] = np.trapz(\n"
     ]
    },
    {
     "name": "stdout",
     "output_type": "stream",
     "text": [
      "2_3_iPhone_TX_4G_VoLTE_6Pro_RX_E_UMTS_sps256.csv. passed. Count: 33\n"
     ]
    },
    {
     "name": "stderr",
     "output_type": "stream",
     "text": [
      "/var/folders/gt/zm5jcrpj6x5fxkp1kx5vrns80000gn/T/ipykernel_37543/639318165.py:489: DeprecationWarning: `trapz` is deprecated. Use `trapezoid` instead, or one of the numerical integration functions in `scipy.integrate`.\n",
      "  df.at[i, energy_col] = np.trapz(\n",
      "/var/folders/gt/zm5jcrpj6x5fxkp1kx5vrns80000gn/T/ipykernel_37543/639318165.py:489: DeprecationWarning: `trapz` is deprecated. Use `trapezoid` instead, or one of the numerical integration functions in `scipy.integrate`.\n",
      "  df.at[i, energy_col] = np.trapz(\n",
      "/var/folders/gt/zm5jcrpj6x5fxkp1kx5vrns80000gn/T/ipykernel_37543/639318165.py:489: DeprecationWarning: `trapz` is deprecated. Use `trapezoid` instead, or one of the numerical integration functions in `scipy.integrate`.\n",
      "  df.at[i, energy_col] = np.trapz(\n",
      "/var/folders/gt/zm5jcrpj6x5fxkp1kx5vrns80000gn/T/ipykernel_37543/639318165.py:489: DeprecationWarning: `trapz` is deprecated. Use `trapezoid` instead, or one of the numerical integration functions in `scipy.integrate`.\n",
      "  df.at[i, energy_col] = np.trapz(\n"
     ]
    },
    {
     "name": "stdout",
     "output_type": "stream",
     "text": [
      "3_3_iPhone_TX_4G_VoLTE_6Pro_RX_E_UMTS_sps256.csv. passed. Count: 34\n"
     ]
    },
    {
     "name": "stderr",
     "output_type": "stream",
     "text": [
      "/var/folders/gt/zm5jcrpj6x5fxkp1kx5vrns80000gn/T/ipykernel_37543/639318165.py:489: DeprecationWarning: `trapz` is deprecated. Use `trapezoid` instead, or one of the numerical integration functions in `scipy.integrate`.\n",
      "  df.at[i, energy_col] = np.trapz(\n",
      "/var/folders/gt/zm5jcrpj6x5fxkp1kx5vrns80000gn/T/ipykernel_37543/639318165.py:489: DeprecationWarning: `trapz` is deprecated. Use `trapezoid` instead, or one of the numerical integration functions in `scipy.integrate`.\n",
      "  df.at[i, energy_col] = np.trapz(\n",
      "/var/folders/gt/zm5jcrpj6x5fxkp1kx5vrns80000gn/T/ipykernel_37543/639318165.py:489: DeprecationWarning: `trapz` is deprecated. Use `trapezoid` instead, or one of the numerical integration functions in `scipy.integrate`.\n",
      "  df.at[i, energy_col] = np.trapz(\n",
      "/var/folders/gt/zm5jcrpj6x5fxkp1kx5vrns80000gn/T/ipykernel_37543/639318165.py:489: DeprecationWarning: `trapz` is deprecated. Use `trapezoid` instead, or one of the numerical integration functions in `scipy.integrate`.\n",
      "  df.at[i, energy_col] = np.trapz(\n"
     ]
    },
    {
     "name": "stdout",
     "output_type": "stream",
     "text": [
      "2_3_iPhone_TX_4G_VoLTE_6Pro_RX_3G_UMTS_sps256.csv. passed. Count: 35\n"
     ]
    },
    {
     "name": "stderr",
     "output_type": "stream",
     "text": [
      "/var/folders/gt/zm5jcrpj6x5fxkp1kx5vrns80000gn/T/ipykernel_37543/639318165.py:489: DeprecationWarning: `trapz` is deprecated. Use `trapezoid` instead, or one of the numerical integration functions in `scipy.integrate`.\n",
      "  df.at[i, energy_col] = np.trapz(\n",
      "/var/folders/gt/zm5jcrpj6x5fxkp1kx5vrns80000gn/T/ipykernel_37543/639318165.py:489: DeprecationWarning: `trapz` is deprecated. Use `trapezoid` instead, or one of the numerical integration functions in `scipy.integrate`.\n",
      "  df.at[i, energy_col] = np.trapz(\n",
      "/var/folders/gt/zm5jcrpj6x5fxkp1kx5vrns80000gn/T/ipykernel_37543/639318165.py:489: DeprecationWarning: `trapz` is deprecated. Use `trapezoid` instead, or one of the numerical integration functions in `scipy.integrate`.\n",
      "  df.at[i, energy_col] = np.trapz(\n",
      "/var/folders/gt/zm5jcrpj6x5fxkp1kx5vrns80000gn/T/ipykernel_37543/639318165.py:489: DeprecationWarning: `trapz` is deprecated. Use `trapezoid` instead, or one of the numerical integration functions in `scipy.integrate`.\n",
      "  df.at[i, energy_col] = np.trapz(\n"
     ]
    },
    {
     "name": "stdout",
     "output_type": "stream",
     "text": [
      "old4_3_6Pro_TX_3G_UMTS_iPhone_RX_4G_VoLTE_sps256.csv. passed. Count: 36\n"
     ]
    },
    {
     "name": "stderr",
     "output_type": "stream",
     "text": [
      "/var/folders/gt/zm5jcrpj6x5fxkp1kx5vrns80000gn/T/ipykernel_37543/639318165.py:489: DeprecationWarning: `trapz` is deprecated. Use `trapezoid` instead, or one of the numerical integration functions in `scipy.integrate`.\n",
      "  df.at[i, energy_col] = np.trapz(\n",
      "/var/folders/gt/zm5jcrpj6x5fxkp1kx5vrns80000gn/T/ipykernel_37543/639318165.py:489: DeprecationWarning: `trapz` is deprecated. Use `trapezoid` instead, or one of the numerical integration functions in `scipy.integrate`.\n",
      "  df.at[i, energy_col] = np.trapz(\n",
      "/var/folders/gt/zm5jcrpj6x5fxkp1kx5vrns80000gn/T/ipykernel_37543/639318165.py:489: DeprecationWarning: `trapz` is deprecated. Use `trapezoid` instead, or one of the numerical integration functions in `scipy.integrate`.\n",
      "  df.at[i, energy_col] = np.trapz(\n",
      "/var/folders/gt/zm5jcrpj6x5fxkp1kx5vrns80000gn/T/ipykernel_37543/639318165.py:489: DeprecationWarning: `trapz` is deprecated. Use `trapezoid` instead, or one of the numerical integration functions in `scipy.integrate`.\n",
      "  df.at[i, energy_col] = np.trapz(\n"
     ]
    },
    {
     "name": "stdout",
     "output_type": "stream",
     "text": [
      "4_3_6Pro_TX_3G_UMTS_iPhone_RX_4G_VoLTE_sps256.csv. passed. Count: 37\n"
     ]
    },
    {
     "name": "stderr",
     "output_type": "stream",
     "text": [
      "/var/folders/gt/zm5jcrpj6x5fxkp1kx5vrns80000gn/T/ipykernel_37543/639318165.py:489: DeprecationWarning: `trapz` is deprecated. Use `trapezoid` instead, or one of the numerical integration functions in `scipy.integrate`.\n",
      "  df.at[i, energy_col] = np.trapz(\n",
      "/var/folders/gt/zm5jcrpj6x5fxkp1kx5vrns80000gn/T/ipykernel_37543/639318165.py:489: DeprecationWarning: `trapz` is deprecated. Use `trapezoid` instead, or one of the numerical integration functions in `scipy.integrate`.\n",
      "  df.at[i, energy_col] = np.trapz(\n",
      "/var/folders/gt/zm5jcrpj6x5fxkp1kx5vrns80000gn/T/ipykernel_37543/639318165.py:489: DeprecationWarning: `trapz` is deprecated. Use `trapezoid` instead, or one of the numerical integration functions in `scipy.integrate`.\n",
      "  df.at[i, energy_col] = np.trapz(\n",
      "/var/folders/gt/zm5jcrpj6x5fxkp1kx5vrns80000gn/T/ipykernel_37543/639318165.py:489: DeprecationWarning: `trapz` is deprecated. Use `trapezoid` instead, or one of the numerical integration functions in `scipy.integrate`.\n",
      "  df.at[i, energy_col] = np.trapz(\n"
     ]
    }
   ],
   "source": [
    "from tqdm.notebook import tqdm  # Use tqdm.notebook for Jupyter environments\n",
    "\n",
    "result_df = pd.DataFrame()\n",
    "unique_filenames = set()\n",
    "directory_path = \"./data/Experiment_Data/Phone Calls Power measurement/db\"\n",
    "#directory_path = '/Users/yobad/Library/CloudStorage/GoogleDrive-youssefmax2.3@gmail.com/My Drive/Phd/Data/Data files/Call power measurement/call_exp_2/'\n",
    "file_list = [ \n",
    "    os.path.join(directory_path, filename) for filename in [\n",
    "    \"1_3_6Pro_TX_E_UMTS_iPhone_RX_3G_UMTS_sps256.csv\",\n",
    "    \"1_3_iPhone_TX_4G_VoLTE_6Pro_RX_E_UMTS_sps256.csv\",\n",
    "    \"2_3_6Pro_TX_E_UMTS_iPhone_RX_3G_UMTS_sps256.csv\",\n",
    "    \"1_3_iPhone_TX_4G_VoWIFI_6Pro_RX_3G_UMTS_sps256.csv\",\n",
    "    \"1_3_iPhone_TX_4G_VoWIFI_6Pro_RX_4G_VoLTE_sps256.csv\",\n",
    "    \"1_3_iPhone_TX_3G_UMTS_6Pro_RX_E_UMTS_sps256.csv\",\n",
    "    \"1_3_iPhone_TX_3G_UMTS_6Pro_RX_4G_VoWIFI_sps256.csv\",\n",
    "    \"1_3_iPhone_TX_4G_VoWIFI_6Pro_RX_4G_VoWIFI_sps256.csv\",\n",
    "    \"1_3_iPhone_TX_3G_UMTS_6Pro_RX_3G_UMTS_sps256.csv\",\n",
    "    \"1_3_iPhone_TX_3G_UMTS_6Pro_RX_4G_VoLTE_sps256.csv\",\n",
    "    \"3_3_6Pro_TX_3G_UMTS_iPhone_RX_4G_VoLTE_sps256.csv\",\n",
    "    \"2_3_6Pro_TX_3G_UMTS_iPhone_RX_4G_VoLTE_sps256.csv\",\n",
    "    \"1_3_6Pro_TX_3G_UMTS_iPhone_RX_4G_VoLTE_sps256.csv\",\n",
    "    \"1_3_6Pro_TX_4G_VoWIFI_iPhone_RX_4G_VoLTE_sps256.csv\",\n",
    "    \"2_3_6Pro_TX_4G_VoWIFI_iPhone_RX_4G_VoLTE_sps256.csv\",\n",
    "    \"3_3_6Pro_TX_4G_VoWIFI_iPhone_RX_4G_VoLTE_sps256.csv\",\n",
    "    \"3_3_6Pro_TX_4G_VoLTE_iPhone_RX_4G_VoLTE_sps256.csv\",\n",
    "    \"2_3_6Pro_TX_4G_VoLTE_iPhone_RX_4G_VoLTE_sps256.csv\",\n",
    "    \"1_3_6Pro_TX_4G_VoLTE_iPhone_RX_4G_VoLTE_sps256.csv\",\n",
    "    \"1_3_iPhone_TX_4G_VoLTE_6Pro_RX_3G_UMTS_sps256.csv\",\n",
    "    \"1_3_iPhone_TX_4G_VoLTE_6Pro_RX_4G_VoWIFI_sps256.csv\",\n",
    "    \"1_3_iPhone_TX_4G_VoLTE_6Pro_RX_4G_VoLTE_sps256.csv\",\n",
    "    \"2_3_6Pro_TX_E_UMTS_iPhone_RX_4G_VoLTE_sps256.csv\",\n",
    "    \"2_2_iPhone_TX_4G_VoLTE_6Pro_RX_5G_VoLTE_sps256.csv\",\n",
    "    \"1_2_iPhone_TX_4G_VoLTE_6Pro_RX_5G_VoLTE_sps256.csv\",\n",
    "    \"3_2_iPhone_TX_4G_VoLTE_6Pro_RX_5G_VoLTE_sps256.csv\",\n",
    "    \"4_2_iPhone_TX_4G_VoLTE_6Pro_RX_5G_VoLTE_sps256.csv\",\n",
    "    \"1_2_6Pro_TX_5G_VoLTE_iPhone_RX_4G_VoLTE_sps256.csv\",\n",
    "    \"2_2_6Pro_TX_5G_VoLTE_iPhone_RX_4G_VoLTE_sps256.csv\",\n",
    "    \"3_2_6Pro_TX_5G_VoLTE_iPhone_RX_4G_VoLTE_sps256.csv\",\n",
    "    \"3_3_6Pro_TX_E_UMTS_iPhone_RX_4G_UMTS_sps256.csv\",\n",
    "    \"4_3_6Pro_TX_E_UMTS_iPhone_RX_4G_UMTS_sps256.csv\",\n",
    "    \"2_3_iPhone_TX_4G_VoLTE_6Pro_RX_E_UMTS_sps256.csv\",\n",
    "    \"3_3_iPhone_TX_4G_VoLTE_6Pro_RX_E_UMTS_sps256.csv\",\n",
    "    \"2_3_iPhone_TX_4G_VoLTE_6Pro_RX_3G_UMTS_sps256.csv\",\n",
    "    \"old4_3_6Pro_TX_3G_UMTS_iPhone_RX_4G_VoLTE_sps256.csv\",\n",
    "    \"4_3_6Pro_TX_3G_UMTS_iPhone_RX_4G_VoLTE_sps256.csv\"\n",
    "\n",
    "    ]\n",
    "]\n",
    "\n",
    "\n",
    "files_passed = 0\n",
    "duplicates_count = 0\n",
    "problematic_files = []\n",
    "print(len(file_list))  # This will output 36\n",
    "for file_name in file_list:\n",
    "    files_passed += 1\n",
    "    print(f\"{os.path.basename(file_name)}. passed. Count: {files_passed}\")\n",
    "    seek_measurement_dataset_analyze_6pro_3ch(file_name)"
   ]
  },
  {
   "cell_type": "markdown",
   "metadata": {},
   "source": [
    "## iPhone"
   ]
  },
  {
   "cell_type": "code",
   "execution_count": 3,
   "metadata": {},
   "outputs": [
    {
     "name": "stdout",
     "output_type": "stream",
     "text": [
      "1_5_P1_12_4G_VoLTE_TO_P2_6Pro_5G_VoLTE_256sps.csv. passed. Count: 1\n"
     ]
    },
    {
     "name": "stderr",
     "output_type": "stream",
     "text": [
      "/var/folders/gt/zm5jcrpj6x5fxkp1kx5vrns80000gn/T/ipykernel_37543/639318165.py:121: DeprecationWarning: `trapz` is deprecated. Use `trapezoid` instead, or one of the numerical integration functions in `scipy.integrate`.\n",
      "  df.at[i, energy_col] = np.trapz(\n",
      "/var/folders/gt/zm5jcrpj6x5fxkp1kx5vrns80000gn/T/ipykernel_37543/639318165.py:121: DeprecationWarning: `trapz` is deprecated. Use `trapezoid` instead, or one of the numerical integration functions in `scipy.integrate`.\n",
      "  df.at[i, energy_col] = np.trapz(\n",
      "/var/folders/gt/zm5jcrpj6x5fxkp1kx5vrns80000gn/T/ipykernel_37543/639318165.py:121: DeprecationWarning: `trapz` is deprecated. Use `trapezoid` instead, or one of the numerical integration functions in `scipy.integrate`.\n",
      "  df.at[i, energy_col] = np.trapz(\n",
      "/var/folders/gt/zm5jcrpj6x5fxkp1kx5vrns80000gn/T/ipykernel_37543/639318165.py:121: DeprecationWarning: `trapz` is deprecated. Use `trapezoid` instead, or one of the numerical integration functions in `scipy.integrate`.\n",
      "  df.at[i, energy_col] = np.trapz(\n"
     ]
    },
    {
     "name": "stdout",
     "output_type": "stream",
     "text": [
      "1_5_P1_12_4G_VoLTE_TO_P2_X_4G_VoLTE_256sps.csv. passed. Count: 2\n"
     ]
    },
    {
     "name": "stderr",
     "output_type": "stream",
     "text": [
      "/var/folders/gt/zm5jcrpj6x5fxkp1kx5vrns80000gn/T/ipykernel_37543/639318165.py:121: DeprecationWarning: `trapz` is deprecated. Use `trapezoid` instead, or one of the numerical integration functions in `scipy.integrate`.\n",
      "  df.at[i, energy_col] = np.trapz(\n",
      "/var/folders/gt/zm5jcrpj6x5fxkp1kx5vrns80000gn/T/ipykernel_37543/639318165.py:121: DeprecationWarning: `trapz` is deprecated. Use `trapezoid` instead, or one of the numerical integration functions in `scipy.integrate`.\n",
      "  df.at[i, energy_col] = np.trapz(\n",
      "/var/folders/gt/zm5jcrpj6x5fxkp1kx5vrns80000gn/T/ipykernel_37543/639318165.py:121: DeprecationWarning: `trapz` is deprecated. Use `trapezoid` instead, or one of the numerical integration functions in `scipy.integrate`.\n",
      "  df.at[i, energy_col] = np.trapz(\n",
      "/var/folders/gt/zm5jcrpj6x5fxkp1kx5vrns80000gn/T/ipykernel_37543/639318165.py:121: DeprecationWarning: `trapz` is deprecated. Use `trapezoid` instead, or one of the numerical integration functions in `scipy.integrate`.\n",
      "  df.at[i, energy_col] = np.trapz(\n"
     ]
    },
    {
     "name": "stdout",
     "output_type": "stream",
     "text": [
      "1_5_P1_12_4G_VoWIFI_TO_P2_X_4G_VoLTE_256sps.csv. passed. Count: 3\n"
     ]
    },
    {
     "name": "stderr",
     "output_type": "stream",
     "text": [
      "/var/folders/gt/zm5jcrpj6x5fxkp1kx5vrns80000gn/T/ipykernel_37543/639318165.py:121: DeprecationWarning: `trapz` is deprecated. Use `trapezoid` instead, or one of the numerical integration functions in `scipy.integrate`.\n",
      "  df.at[i, energy_col] = np.trapz(\n",
      "/var/folders/gt/zm5jcrpj6x5fxkp1kx5vrns80000gn/T/ipykernel_37543/639318165.py:121: DeprecationWarning: `trapz` is deprecated. Use `trapezoid` instead, or one of the numerical integration functions in `scipy.integrate`.\n",
      "  df.at[i, energy_col] = np.trapz(\n",
      "/var/folders/gt/zm5jcrpj6x5fxkp1kx5vrns80000gn/T/ipykernel_37543/639318165.py:121: DeprecationWarning: `trapz` is deprecated. Use `trapezoid` instead, or one of the numerical integration functions in `scipy.integrate`.\n",
      "  df.at[i, energy_col] = np.trapz(\n",
      "/var/folders/gt/zm5jcrpj6x5fxkp1kx5vrns80000gn/T/ipykernel_37543/639318165.py:121: DeprecationWarning: `trapz` is deprecated. Use `trapezoid` instead, or one of the numerical integration functions in `scipy.integrate`.\n",
      "  df.at[i, energy_col] = np.trapz(\n"
     ]
    },
    {
     "name": "stdout",
     "output_type": "stream",
     "text": [
      "1_5_P1_12_5G_VoLTE_TO_P2_X_4G_VoLTE_256sps.csv. passed. Count: 4\n"
     ]
    },
    {
     "name": "stderr",
     "output_type": "stream",
     "text": [
      "/var/folders/gt/zm5jcrpj6x5fxkp1kx5vrns80000gn/T/ipykernel_37543/639318165.py:121: DeprecationWarning: `trapz` is deprecated. Use `trapezoid` instead, or one of the numerical integration functions in `scipy.integrate`.\n",
      "  df.at[i, energy_col] = np.trapz(\n",
      "/var/folders/gt/zm5jcrpj6x5fxkp1kx5vrns80000gn/T/ipykernel_37543/639318165.py:121: DeprecationWarning: `trapz` is deprecated. Use `trapezoid` instead, or one of the numerical integration functions in `scipy.integrate`.\n",
      "  df.at[i, energy_col] = np.trapz(\n",
      "/var/folders/gt/zm5jcrpj6x5fxkp1kx5vrns80000gn/T/ipykernel_37543/639318165.py:121: DeprecationWarning: `trapz` is deprecated. Use `trapezoid` instead, or one of the numerical integration functions in `scipy.integrate`.\n",
      "  df.at[i, energy_col] = np.trapz(\n",
      "/var/folders/gt/zm5jcrpj6x5fxkp1kx5vrns80000gn/T/ipykernel_37543/639318165.py:121: DeprecationWarning: `trapz` is deprecated. Use `trapezoid` instead, or one of the numerical integration functions in `scipy.integrate`.\n",
      "  df.at[i, energy_col] = np.trapz(\n"
     ]
    },
    {
     "name": "stdout",
     "output_type": "stream",
     "text": [
      "1_5_P1_6Pro_5G_VoLTE_TO_P2_X_4G_VoLTE_256sps.csv. passed. Count: 5\n"
     ]
    },
    {
     "name": "stderr",
     "output_type": "stream",
     "text": [
      "/var/folders/gt/zm5jcrpj6x5fxkp1kx5vrns80000gn/T/ipykernel_37543/639318165.py:121: DeprecationWarning: `trapz` is deprecated. Use `trapezoid` instead, or one of the numerical integration functions in `scipy.integrate`.\n",
      "  df.at[i, energy_col] = np.trapz(\n",
      "/var/folders/gt/zm5jcrpj6x5fxkp1kx5vrns80000gn/T/ipykernel_37543/639318165.py:121: DeprecationWarning: `trapz` is deprecated. Use `trapezoid` instead, or one of the numerical integration functions in `scipy.integrate`.\n",
      "  df.at[i, energy_col] = np.trapz(\n",
      "/var/folders/gt/zm5jcrpj6x5fxkp1kx5vrns80000gn/T/ipykernel_37543/639318165.py:121: DeprecationWarning: `trapz` is deprecated. Use `trapezoid` instead, or one of the numerical integration functions in `scipy.integrate`.\n",
      "  df.at[i, energy_col] = np.trapz(\n",
      "/var/folders/gt/zm5jcrpj6x5fxkp1kx5vrns80000gn/T/ipykernel_37543/639318165.py:121: DeprecationWarning: `trapz` is deprecated. Use `trapezoid` instead, or one of the numerical integration functions in `scipy.integrate`.\n",
      "  df.at[i, energy_col] = np.trapz(\n"
     ]
    },
    {
     "name": "stdout",
     "output_type": "stream",
     "text": [
      "1_5_P1_X_4G_VoLTE_TO_P2_12_5G_VoLTE_256sps.csv. passed. Count: 6\n"
     ]
    },
    {
     "name": "stderr",
     "output_type": "stream",
     "text": [
      "/var/folders/gt/zm5jcrpj6x5fxkp1kx5vrns80000gn/T/ipykernel_37543/639318165.py:121: DeprecationWarning: `trapz` is deprecated. Use `trapezoid` instead, or one of the numerical integration functions in `scipy.integrate`.\n",
      "  df.at[i, energy_col] = np.trapz(\n",
      "/var/folders/gt/zm5jcrpj6x5fxkp1kx5vrns80000gn/T/ipykernel_37543/639318165.py:121: DeprecationWarning: `trapz` is deprecated. Use `trapezoid` instead, or one of the numerical integration functions in `scipy.integrate`.\n",
      "  df.at[i, energy_col] = np.trapz(\n",
      "/var/folders/gt/zm5jcrpj6x5fxkp1kx5vrns80000gn/T/ipykernel_37543/639318165.py:121: DeprecationWarning: `trapz` is deprecated. Use `trapezoid` instead, or one of the numerical integration functions in `scipy.integrate`.\n",
      "  df.at[i, energy_col] = np.trapz(\n",
      "/var/folders/gt/zm5jcrpj6x5fxkp1kx5vrns80000gn/T/ipykernel_37543/639318165.py:121: DeprecationWarning: `trapz` is deprecated. Use `trapezoid` instead, or one of the numerical integration functions in `scipy.integrate`.\n",
      "  df.at[i, energy_col] = np.trapz(\n"
     ]
    },
    {
     "name": "stdout",
     "output_type": "stream",
     "text": [
      "1_5_P1_X_4G_VoLTE_TO_P2_6Pro_5G_VoLTE_256sps.csv. passed. Count: 7\n"
     ]
    },
    {
     "name": "stderr",
     "output_type": "stream",
     "text": [
      "/var/folders/gt/zm5jcrpj6x5fxkp1kx5vrns80000gn/T/ipykernel_37543/639318165.py:121: DeprecationWarning: `trapz` is deprecated. Use `trapezoid` instead, or one of the numerical integration functions in `scipy.integrate`.\n",
      "  df.at[i, energy_col] = np.trapz(\n",
      "/var/folders/gt/zm5jcrpj6x5fxkp1kx5vrns80000gn/T/ipykernel_37543/639318165.py:121: DeprecationWarning: `trapz` is deprecated. Use `trapezoid` instead, or one of the numerical integration functions in `scipy.integrate`.\n",
      "  df.at[i, energy_col] = np.trapz(\n",
      "/var/folders/gt/zm5jcrpj6x5fxkp1kx5vrns80000gn/T/ipykernel_37543/639318165.py:121: DeprecationWarning: `trapz` is deprecated. Use `trapezoid` instead, or one of the numerical integration functions in `scipy.integrate`.\n",
      "  df.at[i, energy_col] = np.trapz(\n",
      "/var/folders/gt/zm5jcrpj6x5fxkp1kx5vrns80000gn/T/ipykernel_37543/639318165.py:121: DeprecationWarning: `trapz` is deprecated. Use `trapezoid` instead, or one of the numerical integration functions in `scipy.integrate`.\n",
      "  df.at[i, energy_col] = np.trapz(\n"
     ]
    },
    {
     "name": "stdout",
     "output_type": "stream",
     "text": [
      "2_5_P1_12_4G_VoLTE_TO_P2_6Pro_5G_VoLTE_256sps.csv. passed. Count: 8\n"
     ]
    },
    {
     "name": "stderr",
     "output_type": "stream",
     "text": [
      "/var/folders/gt/zm5jcrpj6x5fxkp1kx5vrns80000gn/T/ipykernel_37543/639318165.py:121: DeprecationWarning: `trapz` is deprecated. Use `trapezoid` instead, or one of the numerical integration functions in `scipy.integrate`.\n",
      "  df.at[i, energy_col] = np.trapz(\n",
      "/var/folders/gt/zm5jcrpj6x5fxkp1kx5vrns80000gn/T/ipykernel_37543/639318165.py:121: DeprecationWarning: `trapz` is deprecated. Use `trapezoid` instead, or one of the numerical integration functions in `scipy.integrate`.\n",
      "  df.at[i, energy_col] = np.trapz(\n",
      "/var/folders/gt/zm5jcrpj6x5fxkp1kx5vrns80000gn/T/ipykernel_37543/639318165.py:121: DeprecationWarning: `trapz` is deprecated. Use `trapezoid` instead, or one of the numerical integration functions in `scipy.integrate`.\n",
      "  df.at[i, energy_col] = np.trapz(\n",
      "/var/folders/gt/zm5jcrpj6x5fxkp1kx5vrns80000gn/T/ipykernel_37543/639318165.py:121: DeprecationWarning: `trapz` is deprecated. Use `trapezoid` instead, or one of the numerical integration functions in `scipy.integrate`.\n",
      "  df.at[i, energy_col] = np.trapz(\n"
     ]
    },
    {
     "name": "stdout",
     "output_type": "stream",
     "text": [
      "2_5_P1_12_4G_VoLTE_TO_P2_X_4G_VoLTE_256sps.csv. passed. Count: 9\n"
     ]
    },
    {
     "name": "stderr",
     "output_type": "stream",
     "text": [
      "/var/folders/gt/zm5jcrpj6x5fxkp1kx5vrns80000gn/T/ipykernel_37543/639318165.py:121: DeprecationWarning: `trapz` is deprecated. Use `trapezoid` instead, or one of the numerical integration functions in `scipy.integrate`.\n",
      "  df.at[i, energy_col] = np.trapz(\n",
      "/var/folders/gt/zm5jcrpj6x5fxkp1kx5vrns80000gn/T/ipykernel_37543/639318165.py:121: DeprecationWarning: `trapz` is deprecated. Use `trapezoid` instead, or one of the numerical integration functions in `scipy.integrate`.\n",
      "  df.at[i, energy_col] = np.trapz(\n",
      "/var/folders/gt/zm5jcrpj6x5fxkp1kx5vrns80000gn/T/ipykernel_37543/639318165.py:121: DeprecationWarning: `trapz` is deprecated. Use `trapezoid` instead, or one of the numerical integration functions in `scipy.integrate`.\n",
      "  df.at[i, energy_col] = np.trapz(\n",
      "/var/folders/gt/zm5jcrpj6x5fxkp1kx5vrns80000gn/T/ipykernel_37543/639318165.py:121: DeprecationWarning: `trapz` is deprecated. Use `trapezoid` instead, or one of the numerical integration functions in `scipy.integrate`.\n",
      "  df.at[i, energy_col] = np.trapz(\n"
     ]
    },
    {
     "name": "stdout",
     "output_type": "stream",
     "text": [
      "2_5_P1_12_5G_VoLTE_TO_P2_X_4G_VoLTE_256sps.csv. passed. Count: 10\n"
     ]
    },
    {
     "name": "stderr",
     "output_type": "stream",
     "text": [
      "/var/folders/gt/zm5jcrpj6x5fxkp1kx5vrns80000gn/T/ipykernel_37543/639318165.py:121: DeprecationWarning: `trapz` is deprecated. Use `trapezoid` instead, or one of the numerical integration functions in `scipy.integrate`.\n",
      "  df.at[i, energy_col] = np.trapz(\n",
      "/var/folders/gt/zm5jcrpj6x5fxkp1kx5vrns80000gn/T/ipykernel_37543/639318165.py:121: DeprecationWarning: `trapz` is deprecated. Use `trapezoid` instead, or one of the numerical integration functions in `scipy.integrate`.\n",
      "  df.at[i, energy_col] = np.trapz(\n",
      "/var/folders/gt/zm5jcrpj6x5fxkp1kx5vrns80000gn/T/ipykernel_37543/639318165.py:121: DeprecationWarning: `trapz` is deprecated. Use `trapezoid` instead, or one of the numerical integration functions in `scipy.integrate`.\n",
      "  df.at[i, energy_col] = np.trapz(\n",
      "/var/folders/gt/zm5jcrpj6x5fxkp1kx5vrns80000gn/T/ipykernel_37543/639318165.py:121: DeprecationWarning: `trapz` is deprecated. Use `trapezoid` instead, or one of the numerical integration functions in `scipy.integrate`.\n",
      "  df.at[i, energy_col] = np.trapz(\n"
     ]
    },
    {
     "name": "stdout",
     "output_type": "stream",
     "text": [
      "2_5_P1_6Pro_5G_VoLTE_TO_P2_X_4G_VoLTE_256sps.csv. passed. Count: 11\n"
     ]
    },
    {
     "name": "stderr",
     "output_type": "stream",
     "text": [
      "/var/folders/gt/zm5jcrpj6x5fxkp1kx5vrns80000gn/T/ipykernel_37543/639318165.py:121: DeprecationWarning: `trapz` is deprecated. Use `trapezoid` instead, or one of the numerical integration functions in `scipy.integrate`.\n",
      "  df.at[i, energy_col] = np.trapz(\n",
      "/var/folders/gt/zm5jcrpj6x5fxkp1kx5vrns80000gn/T/ipykernel_37543/639318165.py:121: DeprecationWarning: `trapz` is deprecated. Use `trapezoid` instead, or one of the numerical integration functions in `scipy.integrate`.\n",
      "  df.at[i, energy_col] = np.trapz(\n",
      "/var/folders/gt/zm5jcrpj6x5fxkp1kx5vrns80000gn/T/ipykernel_37543/639318165.py:121: DeprecationWarning: `trapz` is deprecated. Use `trapezoid` instead, or one of the numerical integration functions in `scipy.integrate`.\n",
      "  df.at[i, energy_col] = np.trapz(\n",
      "/var/folders/gt/zm5jcrpj6x5fxkp1kx5vrns80000gn/T/ipykernel_37543/639318165.py:121: DeprecationWarning: `trapz` is deprecated. Use `trapezoid` instead, or one of the numerical integration functions in `scipy.integrate`.\n",
      "  df.at[i, energy_col] = np.trapz(\n"
     ]
    },
    {
     "name": "stdout",
     "output_type": "stream",
     "text": [
      "2_5_P1_X_4G_VoLTE_TO_P2_12_5G_VoLTE_256sps.csv. passed. Count: 12\n"
     ]
    },
    {
     "name": "stderr",
     "output_type": "stream",
     "text": [
      "/var/folders/gt/zm5jcrpj6x5fxkp1kx5vrns80000gn/T/ipykernel_37543/639318165.py:121: DeprecationWarning: `trapz` is deprecated. Use `trapezoid` instead, or one of the numerical integration functions in `scipy.integrate`.\n",
      "  df.at[i, energy_col] = np.trapz(\n",
      "/var/folders/gt/zm5jcrpj6x5fxkp1kx5vrns80000gn/T/ipykernel_37543/639318165.py:121: DeprecationWarning: `trapz` is deprecated. Use `trapezoid` instead, or one of the numerical integration functions in `scipy.integrate`.\n",
      "  df.at[i, energy_col] = np.trapz(\n",
      "/var/folders/gt/zm5jcrpj6x5fxkp1kx5vrns80000gn/T/ipykernel_37543/639318165.py:121: DeprecationWarning: `trapz` is deprecated. Use `trapezoid` instead, or one of the numerical integration functions in `scipy.integrate`.\n",
      "  df.at[i, energy_col] = np.trapz(\n",
      "/var/folders/gt/zm5jcrpj6x5fxkp1kx5vrns80000gn/T/ipykernel_37543/639318165.py:121: DeprecationWarning: `trapz` is deprecated. Use `trapezoid` instead, or one of the numerical integration functions in `scipy.integrate`.\n",
      "  df.at[i, energy_col] = np.trapz(\n"
     ]
    },
    {
     "name": "stdout",
     "output_type": "stream",
     "text": [
      "2_5_P1_X_4G_VoLTE_TO_P2_6Pro_5G_VoLTE_256sps.csv. passed. Count: 13\n"
     ]
    },
    {
     "name": "stderr",
     "output_type": "stream",
     "text": [
      "/var/folders/gt/zm5jcrpj6x5fxkp1kx5vrns80000gn/T/ipykernel_37543/639318165.py:121: DeprecationWarning: `trapz` is deprecated. Use `trapezoid` instead, or one of the numerical integration functions in `scipy.integrate`.\n",
      "  df.at[i, energy_col] = np.trapz(\n",
      "/var/folders/gt/zm5jcrpj6x5fxkp1kx5vrns80000gn/T/ipykernel_37543/639318165.py:121: DeprecationWarning: `trapz` is deprecated. Use `trapezoid` instead, or one of the numerical integration functions in `scipy.integrate`.\n",
      "  df.at[i, energy_col] = np.trapz(\n",
      "/var/folders/gt/zm5jcrpj6x5fxkp1kx5vrns80000gn/T/ipykernel_37543/639318165.py:121: DeprecationWarning: `trapz` is deprecated. Use `trapezoid` instead, or one of the numerical integration functions in `scipy.integrate`.\n",
      "  df.at[i, energy_col] = np.trapz(\n",
      "/var/folders/gt/zm5jcrpj6x5fxkp1kx5vrns80000gn/T/ipykernel_37543/639318165.py:121: DeprecationWarning: `trapz` is deprecated. Use `trapezoid` instead, or one of the numerical integration functions in `scipy.integrate`.\n",
      "  df.at[i, energy_col] = np.trapz(\n"
     ]
    },
    {
     "name": "stdout",
     "output_type": "stream",
     "text": [
      "3_5_P1_12_4G_VoLTE_TO_P2_6Pro_5G_VoLTE_256sps.csv. passed. Count: 14\n"
     ]
    },
    {
     "name": "stderr",
     "output_type": "stream",
     "text": [
      "/var/folders/gt/zm5jcrpj6x5fxkp1kx5vrns80000gn/T/ipykernel_37543/639318165.py:121: DeprecationWarning: `trapz` is deprecated. Use `trapezoid` instead, or one of the numerical integration functions in `scipy.integrate`.\n",
      "  df.at[i, energy_col] = np.trapz(\n",
      "/var/folders/gt/zm5jcrpj6x5fxkp1kx5vrns80000gn/T/ipykernel_37543/639318165.py:121: DeprecationWarning: `trapz` is deprecated. Use `trapezoid` instead, or one of the numerical integration functions in `scipy.integrate`.\n",
      "  df.at[i, energy_col] = np.trapz(\n",
      "/var/folders/gt/zm5jcrpj6x5fxkp1kx5vrns80000gn/T/ipykernel_37543/639318165.py:121: DeprecationWarning: `trapz` is deprecated. Use `trapezoid` instead, or one of the numerical integration functions in `scipy.integrate`.\n",
      "  df.at[i, energy_col] = np.trapz(\n",
      "/var/folders/gt/zm5jcrpj6x5fxkp1kx5vrns80000gn/T/ipykernel_37543/639318165.py:121: DeprecationWarning: `trapz` is deprecated. Use `trapezoid` instead, or one of the numerical integration functions in `scipy.integrate`.\n",
      "  df.at[i, energy_col] = np.trapz(\n"
     ]
    },
    {
     "name": "stdout",
     "output_type": "stream",
     "text": [
      "3_5_P1_12_4G_VoLTE_TO_P2_X_4G_VoLTE_256sps.csv. passed. Count: 15\n"
     ]
    },
    {
     "name": "stderr",
     "output_type": "stream",
     "text": [
      "/var/folders/gt/zm5jcrpj6x5fxkp1kx5vrns80000gn/T/ipykernel_37543/639318165.py:121: DeprecationWarning: `trapz` is deprecated. Use `trapezoid` instead, or one of the numerical integration functions in `scipy.integrate`.\n",
      "  df.at[i, energy_col] = np.trapz(\n",
      "/var/folders/gt/zm5jcrpj6x5fxkp1kx5vrns80000gn/T/ipykernel_37543/639318165.py:121: DeprecationWarning: `trapz` is deprecated. Use `trapezoid` instead, or one of the numerical integration functions in `scipy.integrate`.\n",
      "  df.at[i, energy_col] = np.trapz(\n",
      "/var/folders/gt/zm5jcrpj6x5fxkp1kx5vrns80000gn/T/ipykernel_37543/639318165.py:121: DeprecationWarning: `trapz` is deprecated. Use `trapezoid` instead, or one of the numerical integration functions in `scipy.integrate`.\n",
      "  df.at[i, energy_col] = np.trapz(\n",
      "/var/folders/gt/zm5jcrpj6x5fxkp1kx5vrns80000gn/T/ipykernel_37543/639318165.py:121: DeprecationWarning: `trapz` is deprecated. Use `trapezoid` instead, or one of the numerical integration functions in `scipy.integrate`.\n",
      "  df.at[i, energy_col] = np.trapz(\n"
     ]
    },
    {
     "name": "stdout",
     "output_type": "stream",
     "text": [
      "3_5_P1_12_4G_VoWIFI_TO_P2_X_3G_CS_256sps.csv. passed. Count: 16\n"
     ]
    },
    {
     "name": "stderr",
     "output_type": "stream",
     "text": [
      "/var/folders/gt/zm5jcrpj6x5fxkp1kx5vrns80000gn/T/ipykernel_37543/639318165.py:121: DeprecationWarning: `trapz` is deprecated. Use `trapezoid` instead, or one of the numerical integration functions in `scipy.integrate`.\n",
      "  df.at[i, energy_col] = np.trapz(\n",
      "/var/folders/gt/zm5jcrpj6x5fxkp1kx5vrns80000gn/T/ipykernel_37543/639318165.py:121: DeprecationWarning: `trapz` is deprecated. Use `trapezoid` instead, or one of the numerical integration functions in `scipy.integrate`.\n",
      "  df.at[i, energy_col] = np.trapz(\n",
      "/var/folders/gt/zm5jcrpj6x5fxkp1kx5vrns80000gn/T/ipykernel_37543/639318165.py:121: DeprecationWarning: `trapz` is deprecated. Use `trapezoid` instead, or one of the numerical integration functions in `scipy.integrate`.\n",
      "  df.at[i, energy_col] = np.trapz(\n",
      "/var/folders/gt/zm5jcrpj6x5fxkp1kx5vrns80000gn/T/ipykernel_37543/639318165.py:121: DeprecationWarning: `trapz` is deprecated. Use `trapezoid` instead, or one of the numerical integration functions in `scipy.integrate`.\n",
      "  df.at[i, energy_col] = np.trapz(\n"
     ]
    },
    {
     "name": "stdout",
     "output_type": "stream",
     "text": [
      "3_5_P1_12_5G_VoLTE_TO_P2_X_4G_VoLTE_256sps.csv. passed. Count: 17\n"
     ]
    },
    {
     "name": "stderr",
     "output_type": "stream",
     "text": [
      "/var/folders/gt/zm5jcrpj6x5fxkp1kx5vrns80000gn/T/ipykernel_37543/639318165.py:121: DeprecationWarning: `trapz` is deprecated. Use `trapezoid` instead, or one of the numerical integration functions in `scipy.integrate`.\n",
      "  df.at[i, energy_col] = np.trapz(\n",
      "/var/folders/gt/zm5jcrpj6x5fxkp1kx5vrns80000gn/T/ipykernel_37543/639318165.py:121: DeprecationWarning: `trapz` is deprecated. Use `trapezoid` instead, or one of the numerical integration functions in `scipy.integrate`.\n",
      "  df.at[i, energy_col] = np.trapz(\n",
      "/var/folders/gt/zm5jcrpj6x5fxkp1kx5vrns80000gn/T/ipykernel_37543/639318165.py:121: DeprecationWarning: `trapz` is deprecated. Use `trapezoid` instead, or one of the numerical integration functions in `scipy.integrate`.\n",
      "  df.at[i, energy_col] = np.trapz(\n",
      "/var/folders/gt/zm5jcrpj6x5fxkp1kx5vrns80000gn/T/ipykernel_37543/639318165.py:121: DeprecationWarning: `trapz` is deprecated. Use `trapezoid` instead, or one of the numerical integration functions in `scipy.integrate`.\n",
      "  df.at[i, energy_col] = np.trapz(\n"
     ]
    },
    {
     "name": "stdout",
     "output_type": "stream",
     "text": [
      "3_5_P1_6Pro_5G_VoLTE_TO_P2_X_3G_CS_256sps.csv. passed. Count: 18\n"
     ]
    },
    {
     "name": "stderr",
     "output_type": "stream",
     "text": [
      "/var/folders/gt/zm5jcrpj6x5fxkp1kx5vrns80000gn/T/ipykernel_37543/639318165.py:121: DeprecationWarning: `trapz` is deprecated. Use `trapezoid` instead, or one of the numerical integration functions in `scipy.integrate`.\n",
      "  df.at[i, energy_col] = np.trapz(\n",
      "/var/folders/gt/zm5jcrpj6x5fxkp1kx5vrns80000gn/T/ipykernel_37543/639318165.py:121: DeprecationWarning: `trapz` is deprecated. Use `trapezoid` instead, or one of the numerical integration functions in `scipy.integrate`.\n",
      "  df.at[i, energy_col] = np.trapz(\n",
      "/var/folders/gt/zm5jcrpj6x5fxkp1kx5vrns80000gn/T/ipykernel_37543/639318165.py:121: DeprecationWarning: `trapz` is deprecated. Use `trapezoid` instead, or one of the numerical integration functions in `scipy.integrate`.\n",
      "  df.at[i, energy_col] = np.trapz(\n",
      "/var/folders/gt/zm5jcrpj6x5fxkp1kx5vrns80000gn/T/ipykernel_37543/639318165.py:121: DeprecationWarning: `trapz` is deprecated. Use `trapezoid` instead, or one of the numerical integration functions in `scipy.integrate`.\n",
      "  df.at[i, energy_col] = np.trapz(\n"
     ]
    },
    {
     "name": "stdout",
     "output_type": "stream",
     "text": [
      "3_5_P1_X_3G_CS_TO_P2_6Pro_5G_VoLTE_256sps.csv. passed. Count: 19\n"
     ]
    },
    {
     "name": "stderr",
     "output_type": "stream",
     "text": [
      "/var/folders/gt/zm5jcrpj6x5fxkp1kx5vrns80000gn/T/ipykernel_37543/639318165.py:121: DeprecationWarning: `trapz` is deprecated. Use `trapezoid` instead, or one of the numerical integration functions in `scipy.integrate`.\n",
      "  df.at[i, energy_col] = np.trapz(\n",
      "/var/folders/gt/zm5jcrpj6x5fxkp1kx5vrns80000gn/T/ipykernel_37543/639318165.py:121: DeprecationWarning: `trapz` is deprecated. Use `trapezoid` instead, or one of the numerical integration functions in `scipy.integrate`.\n",
      "  df.at[i, energy_col] = np.trapz(\n",
      "/var/folders/gt/zm5jcrpj6x5fxkp1kx5vrns80000gn/T/ipykernel_37543/639318165.py:121: DeprecationWarning: `trapz` is deprecated. Use `trapezoid` instead, or one of the numerical integration functions in `scipy.integrate`.\n",
      "  df.at[i, energy_col] = np.trapz(\n",
      "/var/folders/gt/zm5jcrpj6x5fxkp1kx5vrns80000gn/T/ipykernel_37543/639318165.py:121: DeprecationWarning: `trapz` is deprecated. Use `trapezoid` instead, or one of the numerical integration functions in `scipy.integrate`.\n",
      "  df.at[i, energy_col] = np.trapz(\n"
     ]
    },
    {
     "name": "stdout",
     "output_type": "stream",
     "text": [
      "3_5_P1_X_4G_VoLTE_TO_P2_12_5G_VoLTE_256sps.csv. passed. Count: 20\n"
     ]
    },
    {
     "name": "stderr",
     "output_type": "stream",
     "text": [
      "/var/folders/gt/zm5jcrpj6x5fxkp1kx5vrns80000gn/T/ipykernel_37543/639318165.py:121: DeprecationWarning: `trapz` is deprecated. Use `trapezoid` instead, or one of the numerical integration functions in `scipy.integrate`.\n",
      "  df.at[i, energy_col] = np.trapz(\n",
      "/var/folders/gt/zm5jcrpj6x5fxkp1kx5vrns80000gn/T/ipykernel_37543/639318165.py:121: DeprecationWarning: `trapz` is deprecated. Use `trapezoid` instead, or one of the numerical integration functions in `scipy.integrate`.\n",
      "  df.at[i, energy_col] = np.trapz(\n",
      "/var/folders/gt/zm5jcrpj6x5fxkp1kx5vrns80000gn/T/ipykernel_37543/639318165.py:121: DeprecationWarning: `trapz` is deprecated. Use `trapezoid` instead, or one of the numerical integration functions in `scipy.integrate`.\n",
      "  df.at[i, energy_col] = np.trapz(\n",
      "/var/folders/gt/zm5jcrpj6x5fxkp1kx5vrns80000gn/T/ipykernel_37543/639318165.py:121: DeprecationWarning: `trapz` is deprecated. Use `trapezoid` instead, or one of the numerical integration functions in `scipy.integrate`.\n",
      "  df.at[i, energy_col] = np.trapz(\n"
     ]
    },
    {
     "name": "stdout",
     "output_type": "stream",
     "text": [
      "3_5_P1_X_4G_VoLTE_TO_P2_6Pro_5G_VoLTE_256sps.csv. passed. Count: 21\n"
     ]
    },
    {
     "name": "stderr",
     "output_type": "stream",
     "text": [
      "/var/folders/gt/zm5jcrpj6x5fxkp1kx5vrns80000gn/T/ipykernel_37543/639318165.py:121: DeprecationWarning: `trapz` is deprecated. Use `trapezoid` instead, or one of the numerical integration functions in `scipy.integrate`.\n",
      "  df.at[i, energy_col] = np.trapz(\n",
      "/var/folders/gt/zm5jcrpj6x5fxkp1kx5vrns80000gn/T/ipykernel_37543/639318165.py:121: DeprecationWarning: `trapz` is deprecated. Use `trapezoid` instead, or one of the numerical integration functions in `scipy.integrate`.\n",
      "  df.at[i, energy_col] = np.trapz(\n",
      "/var/folders/gt/zm5jcrpj6x5fxkp1kx5vrns80000gn/T/ipykernel_37543/639318165.py:121: DeprecationWarning: `trapz` is deprecated. Use `trapezoid` instead, or one of the numerical integration functions in `scipy.integrate`.\n",
      "  df.at[i, energy_col] = np.trapz(\n",
      "/var/folders/gt/zm5jcrpj6x5fxkp1kx5vrns80000gn/T/ipykernel_37543/639318165.py:121: DeprecationWarning: `trapz` is deprecated. Use `trapezoid` instead, or one of the numerical integration functions in `scipy.integrate`.\n",
      "  df.at[i, energy_col] = np.trapz(\n"
     ]
    },
    {
     "name": "stdout",
     "output_type": "stream",
     "text": [
      "4_5_P1_12_4G_VoWIFI_TO_P2_X_3G_CS_256sps.csv. passed. Count: 22\n"
     ]
    },
    {
     "name": "stderr",
     "output_type": "stream",
     "text": [
      "/var/folders/gt/zm5jcrpj6x5fxkp1kx5vrns80000gn/T/ipykernel_37543/639318165.py:121: DeprecationWarning: `trapz` is deprecated. Use `trapezoid` instead, or one of the numerical integration functions in `scipy.integrate`.\n",
      "  df.at[i, energy_col] = np.trapz(\n",
      "/var/folders/gt/zm5jcrpj6x5fxkp1kx5vrns80000gn/T/ipykernel_37543/639318165.py:121: DeprecationWarning: `trapz` is deprecated. Use `trapezoid` instead, or one of the numerical integration functions in `scipy.integrate`.\n",
      "  df.at[i, energy_col] = np.trapz(\n",
      "/var/folders/gt/zm5jcrpj6x5fxkp1kx5vrns80000gn/T/ipykernel_37543/639318165.py:121: DeprecationWarning: `trapz` is deprecated. Use `trapezoid` instead, or one of the numerical integration functions in `scipy.integrate`.\n",
      "  df.at[i, energy_col] = np.trapz(\n",
      "/var/folders/gt/zm5jcrpj6x5fxkp1kx5vrns80000gn/T/ipykernel_37543/639318165.py:121: DeprecationWarning: `trapz` is deprecated. Use `trapezoid` instead, or one of the numerical integration functions in `scipy.integrate`.\n",
      "  df.at[i, energy_col] = np.trapz(\n"
     ]
    },
    {
     "name": "stdout",
     "output_type": "stream",
     "text": [
      "4_5_P1_6Pro_5G_VoLTE_TO_P2_X_3G_CS_256sps.csv. passed. Count: 23\n"
     ]
    },
    {
     "name": "stderr",
     "output_type": "stream",
     "text": [
      "/var/folders/gt/zm5jcrpj6x5fxkp1kx5vrns80000gn/T/ipykernel_37543/639318165.py:121: DeprecationWarning: `trapz` is deprecated. Use `trapezoid` instead, or one of the numerical integration functions in `scipy.integrate`.\n",
      "  df.at[i, energy_col] = np.trapz(\n",
      "/var/folders/gt/zm5jcrpj6x5fxkp1kx5vrns80000gn/T/ipykernel_37543/639318165.py:121: DeprecationWarning: `trapz` is deprecated. Use `trapezoid` instead, or one of the numerical integration functions in `scipy.integrate`.\n",
      "  df.at[i, energy_col] = np.trapz(\n",
      "/var/folders/gt/zm5jcrpj6x5fxkp1kx5vrns80000gn/T/ipykernel_37543/639318165.py:121: DeprecationWarning: `trapz` is deprecated. Use `trapezoid` instead, or one of the numerical integration functions in `scipy.integrate`.\n",
      "  df.at[i, energy_col] = np.trapz(\n",
      "/var/folders/gt/zm5jcrpj6x5fxkp1kx5vrns80000gn/T/ipykernel_37543/639318165.py:121: DeprecationWarning: `trapz` is deprecated. Use `trapezoid` instead, or one of the numerical integration functions in `scipy.integrate`.\n",
      "  df.at[i, energy_col] = np.trapz(\n"
     ]
    },
    {
     "name": "stdout",
     "output_type": "stream",
     "text": [
      "4_5_P1_X_3G_CS_TO_P2_6Pro_5G_VoLTE_256sps.csv. passed. Count: 24\n"
     ]
    },
    {
     "name": "stderr",
     "output_type": "stream",
     "text": [
      "/var/folders/gt/zm5jcrpj6x5fxkp1kx5vrns80000gn/T/ipykernel_37543/639318165.py:121: DeprecationWarning: `trapz` is deprecated. Use `trapezoid` instead, or one of the numerical integration functions in `scipy.integrate`.\n",
      "  df.at[i, energy_col] = np.trapz(\n",
      "/var/folders/gt/zm5jcrpj6x5fxkp1kx5vrns80000gn/T/ipykernel_37543/639318165.py:121: DeprecationWarning: `trapz` is deprecated. Use `trapezoid` instead, or one of the numerical integration functions in `scipy.integrate`.\n",
      "  df.at[i, energy_col] = np.trapz(\n",
      "/var/folders/gt/zm5jcrpj6x5fxkp1kx5vrns80000gn/T/ipykernel_37543/639318165.py:121: DeprecationWarning: `trapz` is deprecated. Use `trapezoid` instead, or one of the numerical integration functions in `scipy.integrate`.\n",
      "  df.at[i, energy_col] = np.trapz(\n",
      "/var/folders/gt/zm5jcrpj6x5fxkp1kx5vrns80000gn/T/ipykernel_37543/639318165.py:121: DeprecationWarning: `trapz` is deprecated. Use `trapezoid` instead, or one of the numerical integration functions in `scipy.integrate`.\n",
      "  df.at[i, energy_col] = np.trapz(\n"
     ]
    },
    {
     "name": "stdout",
     "output_type": "stream",
     "text": [
      "5_5_P1_X_3G_CS_TO_P2_6Pro_5G_VoLTE_256sps.csv. passed. Count: 25\n"
     ]
    },
    {
     "name": "stderr",
     "output_type": "stream",
     "text": [
      "/var/folders/gt/zm5jcrpj6x5fxkp1kx5vrns80000gn/T/ipykernel_37543/639318165.py:121: DeprecationWarning: `trapz` is deprecated. Use `trapezoid` instead, or one of the numerical integration functions in `scipy.integrate`.\n",
      "  df.at[i, energy_col] = np.trapz(\n",
      "/var/folders/gt/zm5jcrpj6x5fxkp1kx5vrns80000gn/T/ipykernel_37543/639318165.py:121: DeprecationWarning: `trapz` is deprecated. Use `trapezoid` instead, or one of the numerical integration functions in `scipy.integrate`.\n",
      "  df.at[i, energy_col] = np.trapz(\n",
      "/var/folders/gt/zm5jcrpj6x5fxkp1kx5vrns80000gn/T/ipykernel_37543/639318165.py:121: DeprecationWarning: `trapz` is deprecated. Use `trapezoid` instead, or one of the numerical integration functions in `scipy.integrate`.\n",
      "  df.at[i, energy_col] = np.trapz(\n",
      "/var/folders/gt/zm5jcrpj6x5fxkp1kx5vrns80000gn/T/ipykernel_37543/639318165.py:121: DeprecationWarning: `trapz` is deprecated. Use `trapezoid` instead, or one of the numerical integration functions in `scipy.integrate`.\n",
      "  df.at[i, energy_col] = np.trapz(\n"
     ]
    },
    {
     "name": "stdout",
     "output_type": "stream",
     "text": [
      "32_5_P1_12_4G_VoWIFI_TO_P2_X_3G_CS_256sps.csv. passed. Count: 26\n"
     ]
    },
    {
     "name": "stderr",
     "output_type": "stream",
     "text": [
      "/var/folders/gt/zm5jcrpj6x5fxkp1kx5vrns80000gn/T/ipykernel_37543/639318165.py:121: DeprecationWarning: `trapz` is deprecated. Use `trapezoid` instead, or one of the numerical integration functions in `scipy.integrate`.\n",
      "  df.at[i, energy_col] = np.trapz(\n",
      "/var/folders/gt/zm5jcrpj6x5fxkp1kx5vrns80000gn/T/ipykernel_37543/639318165.py:121: DeprecationWarning: `trapz` is deprecated. Use `trapezoid` instead, or one of the numerical integration functions in `scipy.integrate`.\n",
      "  df.at[i, energy_col] = np.trapz(\n",
      "/var/folders/gt/zm5jcrpj6x5fxkp1kx5vrns80000gn/T/ipykernel_37543/639318165.py:121: DeprecationWarning: `trapz` is deprecated. Use `trapezoid` instead, or one of the numerical integration functions in `scipy.integrate`.\n",
      "  df.at[i, energy_col] = np.trapz(\n",
      "/var/folders/gt/zm5jcrpj6x5fxkp1kx5vrns80000gn/T/ipykernel_37543/639318165.py:121: DeprecationWarning: `trapz` is deprecated. Use `trapezoid` instead, or one of the numerical integration functions in `scipy.integrate`.\n",
      "  df.at[i, energy_col] = np.trapz(\n"
     ]
    },
    {
     "name": "stdout",
     "output_type": "stream",
     "text": [
      "22_5_P1_12_4G_VoWIFI_TO_P2_X_3G_CS_256sps.csv. passed. Count: 27\n"
     ]
    },
    {
     "name": "stderr",
     "output_type": "stream",
     "text": [
      "/var/folders/gt/zm5jcrpj6x5fxkp1kx5vrns80000gn/T/ipykernel_37543/639318165.py:121: DeprecationWarning: `trapz` is deprecated. Use `trapezoid` instead, or one of the numerical integration functions in `scipy.integrate`.\n",
      "  df.at[i, energy_col] = np.trapz(\n",
      "/var/folders/gt/zm5jcrpj6x5fxkp1kx5vrns80000gn/T/ipykernel_37543/639318165.py:121: DeprecationWarning: `trapz` is deprecated. Use `trapezoid` instead, or one of the numerical integration functions in `scipy.integrate`.\n",
      "  df.at[i, energy_col] = np.trapz(\n",
      "/var/folders/gt/zm5jcrpj6x5fxkp1kx5vrns80000gn/T/ipykernel_37543/639318165.py:121: DeprecationWarning: `trapz` is deprecated. Use `trapezoid` instead, or one of the numerical integration functions in `scipy.integrate`.\n",
      "  df.at[i, energy_col] = np.trapz(\n",
      "/var/folders/gt/zm5jcrpj6x5fxkp1kx5vrns80000gn/T/ipykernel_37543/639318165.py:121: DeprecationWarning: `trapz` is deprecated. Use `trapezoid` instead, or one of the numerical integration functions in `scipy.integrate`.\n",
      "  df.at[i, energy_col] = np.trapz(\n"
     ]
    },
    {
     "name": "stdout",
     "output_type": "stream",
     "text": [
      "o3_5_P1_12_4G_VoWIFI_TO_P2_X_3G_CS_256sps.csv. passed. Count: 28\n"
     ]
    },
    {
     "name": "stderr",
     "output_type": "stream",
     "text": [
      "/var/folders/gt/zm5jcrpj6x5fxkp1kx5vrns80000gn/T/ipykernel_37543/639318165.py:121: DeprecationWarning: `trapz` is deprecated. Use `trapezoid` instead, or one of the numerical integration functions in `scipy.integrate`.\n",
      "  df.at[i, energy_col] = np.trapz(\n",
      "/var/folders/gt/zm5jcrpj6x5fxkp1kx5vrns80000gn/T/ipykernel_37543/639318165.py:121: DeprecationWarning: `trapz` is deprecated. Use `trapezoid` instead, or one of the numerical integration functions in `scipy.integrate`.\n",
      "  df.at[i, energy_col] = np.trapz(\n",
      "/var/folders/gt/zm5jcrpj6x5fxkp1kx5vrns80000gn/T/ipykernel_37543/639318165.py:121: DeprecationWarning: `trapz` is deprecated. Use `trapezoid` instead, or one of the numerical integration functions in `scipy.integrate`.\n",
      "  df.at[i, energy_col] = np.trapz(\n",
      "/var/folders/gt/zm5jcrpj6x5fxkp1kx5vrns80000gn/T/ipykernel_37543/639318165.py:121: DeprecationWarning: `trapz` is deprecated. Use `trapezoid` instead, or one of the numerical integration functions in `scipy.integrate`.\n",
      "  df.at[i, energy_col] = np.trapz(\n"
     ]
    },
    {
     "name": "stdout",
     "output_type": "stream",
     "text": [
      "o2_5_P1_12_4G_VoWIFI_TO_P2_X_3G_CS_256sps.csv. passed. Count: 29\n"
     ]
    },
    {
     "name": "stderr",
     "output_type": "stream",
     "text": [
      "/var/folders/gt/zm5jcrpj6x5fxkp1kx5vrns80000gn/T/ipykernel_37543/639318165.py:121: DeprecationWarning: `trapz` is deprecated. Use `trapezoid` instead, or one of the numerical integration functions in `scipy.integrate`.\n",
      "  df.at[i, energy_col] = np.trapz(\n",
      "/var/folders/gt/zm5jcrpj6x5fxkp1kx5vrns80000gn/T/ipykernel_37543/639318165.py:121: DeprecationWarning: `trapz` is deprecated. Use `trapezoid` instead, or one of the numerical integration functions in `scipy.integrate`.\n",
      "  df.at[i, energy_col] = np.trapz(\n",
      "/var/folders/gt/zm5jcrpj6x5fxkp1kx5vrns80000gn/T/ipykernel_37543/639318165.py:121: DeprecationWarning: `trapz` is deprecated. Use `trapezoid` instead, or one of the numerical integration functions in `scipy.integrate`.\n",
      "  df.at[i, energy_col] = np.trapz(\n",
      "/var/folders/gt/zm5jcrpj6x5fxkp1kx5vrns80000gn/T/ipykernel_37543/639318165.py:121: DeprecationWarning: `trapz` is deprecated. Use `trapezoid` instead, or one of the numerical integration functions in `scipy.integrate`.\n",
      "  df.at[i, energy_col] = np.trapz(\n"
     ]
    },
    {
     "name": "stdout",
     "output_type": "stream",
     "text": [
      "1_3_P1_X_4G_VoLTE_TO_P2_12_4G_VoWIFI_256sps.csv. passed. Count: 30\n"
     ]
    },
    {
     "name": "stderr",
     "output_type": "stream",
     "text": [
      "/var/folders/gt/zm5jcrpj6x5fxkp1kx5vrns80000gn/T/ipykernel_37543/639318165.py:121: DeprecationWarning: `trapz` is deprecated. Use `trapezoid` instead, or one of the numerical integration functions in `scipy.integrate`.\n",
      "  df.at[i, energy_col] = np.trapz(\n",
      "/var/folders/gt/zm5jcrpj6x5fxkp1kx5vrns80000gn/T/ipykernel_37543/639318165.py:121: DeprecationWarning: `trapz` is deprecated. Use `trapezoid` instead, or one of the numerical integration functions in `scipy.integrate`.\n",
      "  df.at[i, energy_col] = np.trapz(\n",
      "/var/folders/gt/zm5jcrpj6x5fxkp1kx5vrns80000gn/T/ipykernel_37543/639318165.py:121: DeprecationWarning: `trapz` is deprecated. Use `trapezoid` instead, or one of the numerical integration functions in `scipy.integrate`.\n",
      "  df.at[i, energy_col] = np.trapz(\n",
      "/var/folders/gt/zm5jcrpj6x5fxkp1kx5vrns80000gn/T/ipykernel_37543/639318165.py:121: DeprecationWarning: `trapz` is deprecated. Use `trapezoid` instead, or one of the numerical integration functions in `scipy.integrate`.\n",
      "  df.at[i, energy_col] = np.trapz(\n"
     ]
    },
    {
     "name": "stdout",
     "output_type": "stream",
     "text": [
      "2_3_P1_X_4G_VoLTE_TO_P2_12_4G_VoWIFI_256sps.csv. passed. Count: 31\n"
     ]
    },
    {
     "name": "stderr",
     "output_type": "stream",
     "text": [
      "/var/folders/gt/zm5jcrpj6x5fxkp1kx5vrns80000gn/T/ipykernel_37543/639318165.py:121: DeprecationWarning: `trapz` is deprecated. Use `trapezoid` instead, or one of the numerical integration functions in `scipy.integrate`.\n",
      "  df.at[i, energy_col] = np.trapz(\n",
      "/var/folders/gt/zm5jcrpj6x5fxkp1kx5vrns80000gn/T/ipykernel_37543/639318165.py:121: DeprecationWarning: `trapz` is deprecated. Use `trapezoid` instead, or one of the numerical integration functions in `scipy.integrate`.\n",
      "  df.at[i, energy_col] = np.trapz(\n",
      "/var/folders/gt/zm5jcrpj6x5fxkp1kx5vrns80000gn/T/ipykernel_37543/639318165.py:121: DeprecationWarning: `trapz` is deprecated. Use `trapezoid` instead, or one of the numerical integration functions in `scipy.integrate`.\n",
      "  df.at[i, energy_col] = np.trapz(\n",
      "/var/folders/gt/zm5jcrpj6x5fxkp1kx5vrns80000gn/T/ipykernel_37543/639318165.py:121: DeprecationWarning: `trapz` is deprecated. Use `trapezoid` instead, or one of the numerical integration functions in `scipy.integrate`.\n",
      "  df.at[i, energy_col] = np.trapz(\n"
     ]
    },
    {
     "name": "stdout",
     "output_type": "stream",
     "text": [
      "3_3_P1_X_4G_VoLTE_TO_P2_12_4G_VoWIFI_256sps.csv. passed. Count: 32\n"
     ]
    },
    {
     "name": "stderr",
     "output_type": "stream",
     "text": [
      "/var/folders/gt/zm5jcrpj6x5fxkp1kx5vrns80000gn/T/ipykernel_37543/639318165.py:121: DeprecationWarning: `trapz` is deprecated. Use `trapezoid` instead, or one of the numerical integration functions in `scipy.integrate`.\n",
      "  df.at[i, energy_col] = np.trapz(\n",
      "/var/folders/gt/zm5jcrpj6x5fxkp1kx5vrns80000gn/T/ipykernel_37543/639318165.py:121: DeprecationWarning: `trapz` is deprecated. Use `trapezoid` instead, or one of the numerical integration functions in `scipy.integrate`.\n",
      "  df.at[i, energy_col] = np.trapz(\n",
      "/var/folders/gt/zm5jcrpj6x5fxkp1kx5vrns80000gn/T/ipykernel_37543/639318165.py:121: DeprecationWarning: `trapz` is deprecated. Use `trapezoid` instead, or one of the numerical integration functions in `scipy.integrate`.\n",
      "  df.at[i, energy_col] = np.trapz(\n",
      "/var/folders/gt/zm5jcrpj6x5fxkp1kx5vrns80000gn/T/ipykernel_37543/639318165.py:121: DeprecationWarning: `trapz` is deprecated. Use `trapezoid` instead, or one of the numerical integration functions in `scipy.integrate`.\n",
      "  df.at[i, energy_col] = np.trapz(\n"
     ]
    }
   ],
   "source": [
    "directory_path_ip = \"./data/Experiment_Data/Phone Calls Power measurement/db\"\n",
    "\n",
    "result_df_ip = pd.DataFrame()\n",
    "\n",
    "file_list_iPhone = [\n",
    "    os.path.join(directory_path_ip, filename) for filename in [\n",
    "    '1_5_P1_12_4G_VoLTE_TO_P2_6Pro_5G_VoLTE_256sps.csv',\n",
    "    '1_5_P1_12_4G_VoLTE_TO_P2_X_4G_VoLTE_256sps.csv',\n",
    "    '1_5_P1_12_4G_VoWIFI_TO_P2_X_4G_VoLTE_256sps.csv',\n",
    "    '1_5_P1_12_5G_VoLTE_TO_P2_X_4G_VoLTE_256sps.csv',\n",
    "    '1_5_P1_6Pro_5G_VoLTE_TO_P2_X_4G_VoLTE_256sps.csv',\n",
    "    #'1_5_P1_X_3G_CS_TO_P2_12_4G_VoLTE_10sps.csv',\n",
    "   # '1_5_P1_X_4G_VoLTE_TO_P2_12_4G_VoLTE_10sps.csv',\n",
    "   # '1_5_P1_X_4G_VoLTE_TO_P2_12_5G_VoLTE_10sps.csv',\n",
    "    '1_5_P1_X_4G_VoLTE_TO_P2_12_5G_VoLTE_256sps.csv',\n",
    "    '1_5_P1_X_4G_VoLTE_TO_P2_6Pro_5G_VoLTE_256sps.csv',\n",
    "    #'1_5_P1_X_4G_VoWIFI_TO_P2_12_4G_VoWIFI_10sps.csv',\n",
    "    '2_5_P1_12_4G_VoLTE_TO_P2_6Pro_5G_VoLTE_256sps.csv',\n",
    "    '2_5_P1_12_4G_VoLTE_TO_P2_X_4G_VoLTE_256sps.csv',\n",
    "    #'2_5_P1_12_4G_VoWIFI_TO_P2_X_3G_CS_256sps.csv',\n",
    "    '2_5_P1_12_5G_VoLTE_TO_P2_X_4G_VoLTE_256sps.csv',\n",
    "    '2_5_P1_6Pro_5G_VoLTE_TO_P2_X_4G_VoLTE_256sps.csv',\n",
    "    '2_5_P1_X_4G_VoLTE_TO_P2_12_5G_VoLTE_256sps.csv',\n",
    "    '2_5_P1_X_4G_VoLTE_TO_P2_6Pro_5G_VoLTE_256sps.csv',\n",
    "    '3_5_P1_12_4G_VoLTE_TO_P2_6Pro_5G_VoLTE_256sps.csv',\n",
    "    '3_5_P1_12_4G_VoLTE_TO_P2_X_4G_VoLTE_256sps.csv',\n",
    "    '3_5_P1_12_4G_VoWIFI_TO_P2_X_3G_CS_256sps.csv',\n",
    "    '3_5_P1_12_5G_VoLTE_TO_P2_X_4G_VoLTE_256sps.csv',\n",
    "    '3_5_P1_6Pro_5G_VoLTE_TO_P2_X_3G_CS_256sps.csv',\n",
    "    '3_5_P1_X_3G_CS_TO_P2_6Pro_5G_VoLTE_256sps.csv',\n",
    "    '3_5_P1_X_4G_VoLTE_TO_P2_12_5G_VoLTE_256sps.csv',\n",
    "    '3_5_P1_X_4G_VoLTE_TO_P2_6Pro_5G_VoLTE_256sps.csv',\n",
    "    '4_5_P1_12_4G_VoWIFI_TO_P2_X_3G_CS_256sps.csv',\n",
    "    '4_5_P1_6Pro_5G_VoLTE_TO_P2_X_3G_CS_256sps.csv',\n",
    "    '4_5_P1_X_3G_CS_TO_P2_6Pro_5G_VoLTE_256sps.csv',\n",
    "    '5_5_P1_X_3G_CS_TO_P2_6Pro_5G_VoLTE_256sps.csv',\n",
    "    '32_5_P1_12_4G_VoWIFI_TO_P2_X_3G_CS_256sps.csv',\n",
    "    '22_5_P1_12_4G_VoWIFI_TO_P2_X_3G_CS_256sps.csv',\n",
    "    'o3_5_P1_12_4G_VoWIFI_TO_P2_X_3G_CS_256sps.csv',\n",
    "    'o2_5_P1_12_4G_VoWIFI_TO_P2_X_3G_CS_256sps.csv',\n",
    "    '1_3_P1_X_4G_VoLTE_TO_P2_12_4G_VoWIFI_256sps.csv',\n",
    "    '2_3_P1_X_4G_VoLTE_TO_P2_12_4G_VoWIFI_256sps.csv',\n",
    "    '3_3_P1_X_4G_VoLTE_TO_P2_12_4G_VoWIFI_256sps.csv'\n",
    "]\n",
    "\n",
    "]\n",
    "\n",
    "\n",
    "files_passed = 0\n",
    "duplicates_count = 0\n",
    "problematic_files = []\n",
    "for file_name in file_list_iPhone:\n",
    "    files_passed += 1\n",
    "    print(f\"{os.path.basename(file_name)}. passed. Count: {files_passed}\")\n",
    "    seek_measurement_dataset_analyze_iph_2ch(file_name)"
   ]
  },
  {
   "cell_type": "markdown",
   "metadata": {},
   "source": [
    "## First Process dataframes "
   ]
  },
  {
   "cell_type": "code",
   "execution_count": 4,
   "metadata": {},
   "outputs": [
    {
     "name": "stderr",
     "output_type": "stream",
     "text": [
      "/var/folders/gt/zm5jcrpj6x5fxkp1kx5vrns80000gn/T/ipykernel_37543/2078688979.py:38: SettingWithCopyWarning: \n",
      "A value is trying to be set on a copy of a slice from a DataFrame.\n",
      "Try using .loc[row_indexer,col_indexer] = value instead\n",
      "\n",
      "See the caveats in the documentation: https://pandas.pydata.org/pandas-docs/stable/user_guide/indexing.html#returning-a-view-versus-a-copy\n",
      "  plot_df_caller_6pro['6Pro_All_caller'] = plot_df_caller_6pro['TX:Caller RAN Tech'] + '_' + plot_df_caller_6pro['Caller Voice Tech']\n",
      "/var/folders/gt/zm5jcrpj6x5fxkp1kx5vrns80000gn/T/ipykernel_37543/2078688979.py:40: SettingWithCopyWarning: \n",
      "A value is trying to be set on a copy of a slice from a DataFrame.\n",
      "Try using .loc[row_indexer,col_indexer] = value instead\n",
      "\n",
      "See the caveats in the documentation: https://pandas.pydata.org/pandas-docs/stable/user_guide/indexing.html#returning-a-view-versus-a-copy\n",
      "  plot_df_callee_6pro['6Pro_All_callee'] = plot_df_callee_6pro['RX:Callee RAN Tech'] + '_' + plot_df_callee_6pro['Callee Voice Tech']\n"
     ]
    }
   ],
   "source": [
    "df = result_df\n",
    "# Step 1: Clean the 'File name' column by removing prefixes\n",
    "df['File name'] = df['File name'].str.replace(r'^\\d_3_', '', regex=True)\n",
    "# Step 2: Define non-numeric columns\n",
    "non_numeric_cols = [\n",
    "    'File name', 'Exp Repetition', 'Caller device', 'Callee device',\n",
    "    'TX:Caller RAN Tech', 'RX:Callee RAN Tech', 'Caller Voice Tech', 'Callee Voice Tech'\n",
    "]\n",
    "# Step 3: Convert all numeric columns to numeric types\n",
    "numeric_cols = df.columns.difference(non_numeric_cols)\n",
    "for col in numeric_cols:\n",
    "    df[col] = pd.to_numeric(df[col], errors='coerce')\n",
    "\n",
    "# Step 4: Group by the cleaned 'File name'\n",
    "grouped = df.groupby('File name')\n",
    "\n",
    "# Step 5: Calculate the mean of numeric columns for each group\n",
    "mean_numeric = grouped[numeric_cols].mean().reset_index()\n",
    "\n",
    "# Step 6: Add non-numeric columns back to the result\n",
    "# For non-numeric columns, take the first value in each group (since they are identical)\n",
    "mean_non_numeric = grouped[non_numeric_cols].first().reset_index(drop=True)\n",
    "\n",
    "# Step 7: Merge numeric and non-numeric results\n",
    "mean_result_df = pd.concat([mean_non_numeric, mean_numeric[numeric_cols]], axis=1)\n",
    "\n",
    "# Step 8: Reorder columns to match the original DataFrame\n",
    "mean_result_df = mean_result_df[df.columns]\n",
    "\n",
    "# Define platform colors\n",
    "Voice_tech_colors = {\n",
    "    'UMTS': '#146eC4',\n",
    "    'VoWIFI': '#E51924',\n",
    "    'VoLTE': 'black'\n",
    "}\n",
    "\n",
    "plot_df_caller_6pro = mean_result_df[mean_result_df['Caller device'].str.contains('6Pro')]\n",
    "plot_df_caller_6pro['6Pro_All_caller'] = plot_df_caller_6pro['TX:Caller RAN Tech'] + '_' + plot_df_caller_6pro['Caller Voice Tech']\n",
    "plot_df_callee_6pro = mean_result_df[mean_result_df['Caller device'].str.contains('iPhone')]\n",
    "plot_df_callee_6pro['6Pro_All_callee'] = plot_df_callee_6pro['RX:Callee RAN Tech'] + '_' + plot_df_callee_6pro['Callee Voice Tech']\n",
    "plot_df_caller_6pro = plot_df_caller_6pro.groupby('6Pro_All_caller', as_index=False).mean(numeric_only=True)\n",
    "plot_df_callee_6pro = plot_df_callee_6pro.groupby('6Pro_All_callee', as_index=False).mean(numeric_only=True)\n",
    "plot_df_caller_6pro['6Pro_All_caller'] = plot_df_caller_6pro['6Pro_All_caller'].str.replace('UMTS', 'CS')\n",
    "plot_df_callee_6pro['6Pro_All_callee'] = plot_df_callee_6pro['6Pro_All_callee'].str.replace('UMTS', 'CS')\n",
    "\n",
    "###############\n",
    "\n",
    "# Prepare data for plotting\n",
    "mean_result_df = preprocess_data(result_df_ip)\n",
    "\n",
    "# Caller dataframe - remove all callee columns\n",
    "plot_df_iph_iph_caller = mean_result_df[~mean_result_df['Caller device'].str.contains('6Pro')].copy()\n",
    "caller_columns_to_exclude = [col for col in mean_result_df.columns if 'Callee' in col]\n",
    "caller_columns_to_exclude.append('SPS callee')  # Also exclude the SPS callee column\n",
    "plot_df_iph_iph_caller = plot_df_iph_iph_caller.drop(columns=caller_columns_to_exclude).copy()\n",
    "plot_df_iph_iph_caller['iP_All_caller'] = plot_df_iph_iph_caller['TX:Caller RAN Tech'] + '_' + plot_df_iph_iph_caller['Caller Voice Tech']\n",
    "\n",
    "# Callee dataframe - remove all caller columns\n",
    "plot_df_iph_iph_callee = mean_result_df[~mean_result_df['Callee device'].str.contains('6Pro')].copy()\n",
    "callee_columns_to_exclude = [col for col in mean_result_df.columns if 'Caller' in col]\n",
    "callee_columns_to_exclude.append('SPS caller')  # Also exclude the SPS caller column\n",
    "plot_df_iph_iph_callee = plot_df_iph_iph_callee.drop(columns=callee_columns_to_exclude).copy()\n",
    "plot_df_iph_iph_callee['iP_All_callee'] = plot_df_iph_iph_callee['RX:Callee RAN Tech'] + '_' + plot_df_iph_iph_callee['Callee Voice Tech']\n",
    "\n",
    "# Identify numeric columns for caller dataframe\n",
    "caller_numeric_columns = plot_df_iph_iph_caller.select_dtypes(include=['number']).columns.tolist()\n",
    "\n",
    "# Calculate averages for caller dataframe by technology type (only for numeric columns)\n",
    "caller_avg_by_tech = plot_df_iph_iph_caller.groupby('iP_All_caller')[caller_numeric_columns].mean().reset_index()\n",
    "\n",
    "# Add non-numeric columns that should be preserved (device type, etc.)\n",
    "# For these columns, we'll take the first occurrence in each group\n",
    "non_numeric_cols_to_keep_caller = ['Caller device', 'File name', 'TX:Caller RAN Tech', 'Caller Voice Tech']\n",
    "for col in non_numeric_cols_to_keep_caller:\n",
    "    if col in plot_df_iph_iph_caller.columns:\n",
    "        # Use first() to get the first occurrence in each group\n",
    "        temp_df = plot_df_iph_iph_caller.groupby('iP_All_caller')[col].first().reset_index()\n",
    "        caller_avg_by_tech = caller_avg_by_tech.merge(temp_df, on='iP_All_caller', how='left')\n",
    "\n",
    "# Identify numeric columns for callee dataframe\n",
    "callee_numeric_columns = plot_df_iph_iph_callee.select_dtypes(include=['number']).columns.tolist()\n",
    "\n",
    "# Calculate averages for callee dataframe by technology type (only for numeric columns)\n",
    "callee_avg_by_tech = plot_df_iph_iph_callee.groupby('iP_All_callee')[callee_numeric_columns].mean().reset_index()\n",
    "\n",
    "# Add non-numeric columns that should be preserved\n",
    "non_numeric_cols_to_keep_callee = ['Callee device', 'File name', 'RX:Callee RAN Tech', 'Callee Voice Tech']\n",
    "for col in non_numeric_cols_to_keep_callee:\n",
    "    if col in plot_df_iph_iph_callee.columns:\n",
    "        # Use first() to get the first occurrence in each group\n",
    "        temp_df = plot_df_iph_iph_callee.groupby('iP_All_callee')[col].first().reset_index()\n",
    "        callee_avg_by_tech = callee_avg_by_tech.merge(temp_df, on='iP_All_callee', how='left')\n",
    "\n",
    "\n",
    "\n"
   ]
  },
  {
   "cell_type": "code",
   "execution_count": 5,
   "metadata": {},
   "outputs": [
    {
     "name": "stdout",
     "output_type": "stream",
     "text": [
      "        scenario_id    E_RF_Jm    E_BAT_Jm    E_BB_Jm    E_PA_Jm\n",
      "0      6Pro_3G_UMTS  49.560000  139.488000  45.000000   4.562000\n",
      "1     6Pro_4G_VoLTE  55.396667  160.280000  53.463333   1.933333\n",
      "2    6Pro_4G_VoWIFI  22.840000  139.416667  21.593333   1.250000\n",
      "3     6Pro_5G_VoLTE  70.296667  134.676667  60.566667   9.730000\n",
      "4       6Pro_E_UMTS  54.836000  124.478000  35.128000  19.708000\n",
      "5    iPhone_3G_UMTS  46.130000  149.365000  39.645000   6.485000\n",
      "6   iPhone_4G_VoLTE  60.871818  133.698182  45.146364  15.724545\n",
      "7  iPhone_4G_VoWIFI  43.843333  149.900000  41.306667   2.540000\n"
     ]
    }
   ],
   "source": [
    "import pandas as pd\n",
    "import os\n",
    "\n",
    "# Load result_df if not already loaded\n",
    "# result_df = pd.read_csv(\"path_to_your/result_df_call.csv\")\n",
    "\n",
    "# Create scenario_id column using device, RAN tech, and voice tech\n",
    "result_df['scenario_id'] = (\n",
    "    result_df['Caller device'].astype(str).str.strip() + \"_\" +\n",
    "    result_df['TX:Caller RAN Tech'].astype(str).str.strip() + \"_\" +\n",
    "    result_df['Caller Voice Tech'].astype(str).str.strip()\n",
    ")\n",
    "\n",
    "# Clean call-specific energy columns\n",
    "energy_cols = ['Call E_RF Jm', 'Call E_BAT Jm', 'Call E_BB Jm', 'Call E_PA Jm']\n",
    "result_df[energy_cols] = result_df[energy_cols].apply(pd.to_numeric, errors='coerce')\n",
    "\n",
    "# Compute average energy values per scenario\n",
    "scenario_summary_df = result_df.groupby('scenario_id')[energy_cols].mean().reset_index()\n",
    "\n",
    "# Rename columns to match frontend format\n",
    "scenario_summary_df.columns = ['scenario_id', 'E_RF_Jm', 'E_BAT_Jm', 'E_BB_Jm', 'E_PA_Jm']\n",
    "\n",
    "# Save to CSV in the frontend server folder\n",
    "os.makedirs(\"./website/server\", exist_ok=True)\n",
    "scenario_summary_df.to_csv(\"./website/server/call_scenario_summary_df.csv\", index=False)\n",
    "\n",
    "# Preview first rows\n",
    "print(scenario_summary_df.head(10))\n"
   ]
  }
 ],
 "metadata": {
  "kernelspec": {
   "display_name": "Python 3",
   "language": "python",
   "name": "python3"
  },
  "language_info": {
   "codemirror_mode": {
    "name": "ipython",
    "version": 3
   },
   "file_extension": ".py",
   "mimetype": "text/x-python",
   "name": "python",
   "nbconvert_exporter": "python",
   "pygments_lexer": "ipython3",
   "version": "3.12.2"
  }
 },
 "nbformat": 4,
 "nbformat_minor": 2
}
